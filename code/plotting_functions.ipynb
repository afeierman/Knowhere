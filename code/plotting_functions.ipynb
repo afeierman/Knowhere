{
 "cells": [
  {
   "cell_type": "code",
   "execution_count": 1,
   "metadata": {
    "collapsed": false
   },
   "outputs": [],
   "source": [
    "import pymongo\n",
    "import pandas as pd\n",
    "import json\n",
    "import db.knowhere_db as kdb"
   ]
  },
  {
   "cell_type": "code",
   "execution_count": 2,
   "metadata": {
    "collapsed": false
   },
   "outputs": [
    {
     "data": {
      "text/html": [
       "<div>\n",
       "<table border=\"1\" class=\"dataframe\">\n",
       "  <thead>\n",
       "    <tr style=\"text-align: right;\">\n",
       "      <th></th>\n",
       "      <th>_id</th>\n",
       "      <th>data</th>\n",
       "      <th>sensor</th>\n",
       "      <th>timestamp</th>\n",
       "      <th>user_id</th>\n",
       "    </tr>\n",
       "  </thead>\n",
       "  <tbody>\n",
       "    <tr>\n",
       "      <th>0</th>\n",
       "      <td>58cb1893ea2bfa0900a3ca68</td>\n",
       "      <td>{u'Latitude': u'40.7530392755199', u'Vertical ...</td>\n",
       "      <td>GPS</td>\n",
       "      <td>2017-03-08 10:38:48</td>\n",
       "      <td>58c5b91d71a9e82f33ad1668</td>\n",
       "    </tr>\n",
       "    <tr>\n",
       "      <th>1</th>\n",
       "      <td>58cb1893ea2bfa0900a3ca69</td>\n",
       "      <td>{u'y': u'0.0504199266433716', u'x': u'-0.00513...</td>\n",
       "      <td>Acceleration</td>\n",
       "      <td>2017-03-08 10:38:49</td>\n",
       "      <td>58c5b91d71a9e82f33ad1668</td>\n",
       "    </tr>\n",
       "    <tr>\n",
       "      <th>2</th>\n",
       "      <td>58cb1893ea2bfa0900a3ca6a</td>\n",
       "      <td>{u'Pressure': u'101.2276611328125', u'Relative...</td>\n",
       "      <td>Altimeter (Barometer)</td>\n",
       "      <td>2017-03-08 10:38:49</td>\n",
       "      <td>58c5b91d71a9e82f33ad1668</td>\n",
       "    </tr>\n",
       "    <tr>\n",
       "      <th>3</th>\n",
       "      <td>58cb1893ea2bfa0900a3ca6b</td>\n",
       "      <td>{u'Yaw': u'-0.422258717009882', u'Quarternion ...</td>\n",
       "      <td>Attitude</td>\n",
       "      <td>2017-03-08 10:38:49</td>\n",
       "      <td>58c5b91d71a9e82f33ad1668</td>\n",
       "    </tr>\n",
       "    <tr>\n",
       "      <th>4</th>\n",
       "      <td>58cb1893ea2bfa0900a3ca6c</td>\n",
       "      <td>{u'State': u'Discharging', u'Level': u'0.55'}</td>\n",
       "      <td>Battery</td>\n",
       "      <td>2017-03-08 10:38:49</td>\n",
       "      <td>58c5b91d71a9e82f33ad1668</td>\n",
       "    </tr>\n",
       "  </tbody>\n",
       "</table>\n",
       "</div>"
      ],
      "text/plain": [
       "                        _id  \\\n",
       "0  58cb1893ea2bfa0900a3ca68   \n",
       "1  58cb1893ea2bfa0900a3ca69   \n",
       "2  58cb1893ea2bfa0900a3ca6a   \n",
       "3  58cb1893ea2bfa0900a3ca6b   \n",
       "4  58cb1893ea2bfa0900a3ca6c   \n",
       "\n",
       "                                                data                 sensor  \\\n",
       "0  {u'Latitude': u'40.7530392755199', u'Vertical ...                    GPS   \n",
       "1  {u'y': u'0.0504199266433716', u'x': u'-0.00513...           Acceleration   \n",
       "2  {u'Pressure': u'101.2276611328125', u'Relative...  Altimeter (Barometer)   \n",
       "3  {u'Yaw': u'-0.422258717009882', u'Quarternion ...               Attitude   \n",
       "4      {u'State': u'Discharging', u'Level': u'0.55'}                Battery   \n",
       "\n",
       "            timestamp                   user_id  \n",
       "0 2017-03-08 10:38:48  58c5b91d71a9e82f33ad1668  \n",
       "1 2017-03-08 10:38:49  58c5b91d71a9e82f33ad1668  \n",
       "2 2017-03-08 10:38:49  58c5b91d71a9e82f33ad1668  \n",
       "3 2017-03-08 10:38:49  58c5b91d71a9e82f33ad1668  \n",
       "4 2017-03-08 10:38:49  58c5b91d71a9e82f33ad1668  "
      ]
     },
     "execution_count": 2,
     "metadata": {},
     "output_type": "execute_result"
    }
   ],
   "source": [
    "reader = kdb.Reader(db_name='knowhere')\n",
    "data = reader.get_dataframe('iphone_test')\n",
    "data.head()"
   ]
  },
  {
   "cell_type": "markdown",
   "metadata": {
    "collapsed": false
   },
   "source": [
    "### Plotting Functions"
   ]
  },
  {
   "cell_type": "code",
   "execution_count": 3,
   "metadata": {
    "collapsed": true
   },
   "outputs": [],
   "source": [
    "import numpy as np\n",
    "import matplotlib.pyplot as plt\n",
    "%matplotlib inline\n",
    "import seaborn\n",
    "from datetime import datetime"
   ]
  },
  {
   "cell_type": "code",
   "execution_count": 4,
   "metadata": {
    "collapsed": false
   },
   "outputs": [
    {
     "data": {
      "text/plain": [
       "array([ObjectId('58c5b91d71a9e82f33ad1668'),\n",
       "       ObjectId('58c5b91d71a9e82f33ad1669')], dtype=object)"
      ]
     },
     "execution_count": 4,
     "metadata": {},
     "output_type": "execute_result"
    }
   ],
   "source": [
    "data.user_id.unique()"
   ]
  },
  {
   "cell_type": "code",
   "execution_count": 5,
   "metadata": {
    "collapsed": false
   },
   "outputs": [],
   "source": [
    "def get_daily_data(day, user_id = kdb.ObjectId('58c5b91d71a9e82f33ad1669'), sensor = \"GPS\", collection = \"iphone_test\"):\n",
    "    to_plot = reader.get_dataframe_pivoted(collection = collection, user_id = user_id, sensor = sensor)\n",
    "    to_plot = to_plot.ix[day]\n",
    "    to_plot = to_plot.astype(float)\n",
    "    #plt.plot(to_plot['GPS (Latitude)'], to_plot['GPS (Longitude)'], zorder = 2)\n",
    "    plt.scatter(to_plot['GPS (Latitude)'], to_plot['GPS (Longitude)'], zorder = 1, c = to_plot.index)\n",
    "    plt.xlabel(\"Latitude\")\n",
    "    plt.ylabel(\"Longitude\")\n",
    "    plt.title(\"Location Data for %s\" % (day))\n",
    "    "
   ]
  },
  {
   "cell_type": "code",
   "execution_count": 6,
   "metadata": {
    "collapsed": false
   },
   "outputs": [
    {
     "data": {
      "image/png": "[encoded data removed]",
      "text/plain": [
       "<matplotlib.figure.Figure at 0x7f38c35afdd0>"
      ]
     },
     "metadata": {},
     "output_type": "display_data"
    }
   ],
   "source": [
    "get_daily_data('3/10/2017')"
   ]
  },
  {
   "cell_type": "markdown",
   "metadata": {},
   "source": [
    "### Activity Measurement"
   ]
  },
  {
   "cell_type": "code",
   "execution_count": 7,
   "metadata": {
    "collapsed": false
   },
   "outputs": [
    {
     "name": "stderr",
     "output_type": "stream",
     "text": [
      "db/knowhere_db.py:74: Warning: Excluding user_id from filter can cause errors during pivot\n",
      "  warnings.warn('Excluding user_id from filter can cause errors during pivot', Warning)\n"
     ]
    }
   ],
   "source": [
    "t1 = reader.get_dataframe_pivoted(collection = 'iphone_test', sensor = \"Acceleration\")"
   ]
  },
  {
   "cell_type": "code",
   "execution_count": 8,
   "metadata": {
    "collapsed": false
   },
   "outputs": [],
   "source": [
    "t1 = t1.astype(float)"
   ]
  },
  {
   "cell_type": "code",
   "execution_count": 9,
   "metadata": {
    "collapsed": false
   },
   "outputs": [
    {
     "data": {
      "text/plain": [
       "<matplotlib.axes._subplots.AxesSubplot at 0x7f38c3636150>"
      ]
     },
     "execution_count": 9,
     "metadata": {},
     "output_type": "execute_result"
    },
    {
     "data": {
      "image/png": "[encoded data removed]",
      "text/plain": [
       "<matplotlib.figure.Figure at 0x7f38c3c18990>"
      ]
     },
     "metadata": {},
     "output_type": "display_data"
    }
   ],
   "source": [
    "t1.plot()"
   ]
  },
  {
   "cell_type": "code",
   "execution_count": 10,
   "metadata": {
    "collapsed": false
   },
   "outputs": [],
   "source": [
    "from math import sqrt\n",
    "\n",
    "accel_mag = []\n",
    "for row in range(len(t1)):\n",
    "    accel_mag.append(sqrt(t1.iloc[row, 0]**2 + t1.iloc[row, 1]**2 + t1.iloc[row, 2]**2))\n",
    "    \n",
    "t1['accel_mag'] = accel_mag"
   ]
  },
  {
   "cell_type": "code",
   "execution_count": 11,
   "metadata": {
    "collapsed": false
   },
   "outputs": [
    {
     "data": {
      "text/plain": [
       "[(0.0, 0.0),\n",
       " (0.125, 0.005405385705153482),\n",
       " (0.25, 0.006505375143762363),\n",
       " (0.375, 0.007741483913662784),\n",
       " (0.5, 0.009681526024984075),\n",
       " (0.625, 0.013445551433988626),\n",
       " (0.75, 0.026667841227595288),\n",
       " (0.875, 0.08279523421398678),\n",
       " (1.0, 1.939071038049297)]"
      ]
     },
     "execution_count": 11,
     "metadata": {},
     "output_type": "execute_result"
    }
   ],
   "source": [
    "#check acceleration levels are various percentiles, just to see what's there\n",
    "accel_thresholds = []\n",
    "\n",
    "for quan in np.linspace(0, 1.0, 9):\n",
    "    accel_thresholds.append((quan, t1['accel_mag'].quantile(q=quan)))\n",
    "    \n",
    "accel_thresholds"
   ]
  },
  {
   "cell_type": "code",
   "execution_count": 12,
   "metadata": {
    "collapsed": true
   },
   "outputs": [],
   "source": [
    "#set a threshold based on 1 day of Emil's data, ideally we'll set this based off of all user data\n",
    "activity_threshold = 0.051845671879112265"
   ]
  },
  {
   "cell_type": "code",
   "execution_count": 13,
   "metadata": {
    "collapsed": false
   },
   "outputs": [],
   "source": [
    "def check_single_active(accel_mag, activity_threshold = 0.051845671879112265):\n",
    "    if accel_mag >= activity_threshold:\n",
    "        return 1\n",
    "    else:\n",
    "        return 0\n",
    "    return 0\n"
   ]
  },
  {
   "cell_type": "code",
   "execution_count": 14,
   "metadata": {
    "collapsed": false
   },
   "outputs": [],
   "source": [
    "def check_active(mag_list):\n",
    "    mag_list = list(mag_list)\n",
    "    activity_raw = 0\n",
    "    for active in mag_list:\n",
    "        activity_raw += check_single_active(active)\n",
    "    return float(activity_raw) / len(t1['accel_mag'])"
   ]
  },
  {
   "cell_type": "code",
   "execution_count": 15,
   "metadata": {
    "collapsed": false
   },
   "outputs": [
    {
     "data": {
      "text/plain": [
       "0.16596736596736597"
      ]
     },
     "execution_count": 15,
     "metadata": {},
     "output_type": "execute_result"
    }
   ],
   "source": [
    "check_active(t1['accel_mag'])"
   ]
  },
  {
   "cell_type": "markdown",
   "metadata": {},
   "source": [
    "# Emil Look Here!"
   ]
  },
  {
   "cell_type": "markdown",
   "metadata": {
    "collapsed": true
   },
   "source": [
    "### Distance Traveled"
   ]
  },
  {
   "cell_type": "code",
   "execution_count": 22,
   "metadata": {
    "collapsed": true
   },
   "outputs": [],
   "source": [
    "#Haversine Function, pulled from StackOverflow\n",
    "\n",
    "def haversine(lon1, lat1, lon2, lat2):\n",
    "    \"\"\"\n",
    "    Calculate the great circle distance between two points\n",
    "    on the earth (specified in decimal degrees, AKA Latitude / Longitude)\n",
    "\n",
    "    All args must be of equal length.    \n",
    "\n",
    "    \"\"\"\n",
    "    \n",
    "    from math import radians, cos, sin, asin, sqrt\n",
    "\n",
    "    # convert decimal degrees to radians \n",
    "    lon1, lat1, lon2, lat2 = map(np.radians, [lon1, lat1, lon2, lat2])\n",
    "\n",
    "    #haversine formula\n",
    "    dlon = lon2 - lon1\n",
    "    dlat = lat2 - lat1\n",
    "\n",
    "    a = np.sin(dlat/2.0)**2 + np.cos(lat1) * np.cos(lat2) * np.sin(dlon/2.0)**2\n",
    "\n",
    "    c = 2 * np.arcsin(np.sqrt(a))\n",
    "    miles = 3956 * c # Radius of earth in miles. Use 6370 for kilometers\n",
    "    return miles"
   ]
  },
  {
   "cell_type": "code",
   "execution_count": 23,
   "metadata": {
    "collapsed": true
   },
   "outputs": [],
   "source": [
    "def distance_traveled(min_date, max_date, username):\n",
    "    \"\"\"\n",
    "    Calculate the distance a user has traveled over a given date range. Involves all modes of transportation, \n",
    "    and is calculated using Great-circle distance.\n",
    "    \"\"\"\n",
    "    \n",
    "    #make DB query to get GPS data for specified day \n",
    "    day_dist = reader.get_dataframe_pivoted(collection = 'iphone_test', sensor = \"GPS\", username = username,\n",
    "                                min_date = str(min_date), max_date = str(max_date))\n",
    "    day_dist = day_dist.astype(float)\n",
    "    \n",
    "    #Use haversine function to get distances between all GPS points\n",
    "    dist_traveled = haversine(day_dist['GPS (Longitude)'].shift(), day_dist['GPS (Latitude)'].shift(), \n",
    "          day_dist.ix[1:, 'GPS (Longitude)'], day_dist.ix[1:, 'GPS (Latitude)'])\n",
    "    \n",
    "    return dist_traveled"
   ]
  },
  {
   "cell_type": "markdown",
   "metadata": {},
   "source": [
    "# Emil, stop looking!"
   ]
  },
  {
   "cell_type": "code",
   "execution_count": 19,
   "metadata": {
    "collapsed": false
   },
   "outputs": [],
   "source": [
    "def daily_distance_traveled(day, username):\n",
    "    #Get day after day passed into function so that DB call works\n",
    "    import pandas.tseries.offsets as pdo\n",
    "    next_day = pd.to_datetime(day) + pdo.Day()\n",
    "    \n",
    "    #make DB query to get GPS data for specified day \n",
    "    day_dist = reader.get_dataframe_pivoted(collection = 'iphone_test', sensor = \"GPS\", username = username,\n",
    "                                min_date = str(day), max_date = str(next_day))\n",
    "    day_dist = day_dist.astype(float)\n",
    "    \n",
    "    dist_traveled = haversine(day_dist['GPS (Longitude)'].shift(), day_dist['GPS (Latitude)'].shift(), \n",
    "          day_dist.ix[1:, 'GPS (Longitude)'], day_dist.ix[1:, 'GPS (Latitude)'])\n",
    "    return dist_traveled"
   ]
  },
  {
   "cell_type": "code",
   "execution_count": 49,
   "metadata": {
    "collapsed": false
   },
   "outputs": [
    {
     "data": {
      "text/plain": [
       "7.349103022157515"
      ]
     },
     "execution_count": 49,
     "metadata": {},
     "output_type": "execute_result"
    }
   ],
   "source": [
    "daily_distance_traveled('03/10/2017', 'glen').sum()"
   ]
  },
  {
   "cell_type": "markdown",
   "metadata": {
    "collapsed": true
   },
   "source": [
    "### Orientation Calculator\n"
   ]
  },
  {
   "cell_type": "code",
   "execution_count": 118,
   "metadata": {
    "collapsed": true
   },
   "outputs": [],
   "source": [
    "t2 = reader.get_dataframe_pivoted(collection = 'iphone_test', sensor = 'Compass', username = 'emil')"
   ]
  },
  {
   "cell_type": "code",
   "execution_count": 141,
   "metadata": {
    "collapsed": false
   },
   "outputs": [],
   "source": [
    "def daily_orientation(day):\n",
    "    daily_orientation = {\"N\": 0, \"E\": 0, \"S\": 0, \"W\": 0}\n",
    "    for index in t2.ix[day].itertuples():\n",
    "        orientation = float(index[2])\n",
    "        if (orientation > 305) or (orientation < 45):\n",
    "            d_o_add(\"N\", daily_orientation)\n",
    "        elif (orientation >= 45) and (orientation < 135):\n",
    "            d_o_add(\"E\", daily_orientation)\n",
    "        elif (orientation >= 135) and (orientation < 225):\n",
    "            d_o_add(\"S\", daily_orientation)\n",
    "        else:\n",
    "            d_o_add(\"W\", daily_orientation)\n",
    "    return daily_orientation"
   ]
  },
  {
   "cell_type": "code",
   "execution_count": 142,
   "metadata": {
    "collapsed": false
   },
   "outputs": [],
   "source": [
    "def d_o_add(direction, daily_orientation):\n",
    "    old_val = daily_orientation[direction]\n",
    "    daily_orientation[direction] = (old_val + 1)\n",
    "    return daily_orientation"
   ]
  },
  {
   "cell_type": "code",
   "execution_count": 159,
   "metadata": {
    "collapsed": false
   },
   "outputs": [
    {
     "data": {
      "text/plain": [
       "{'E': 565, 'N': 14, 'S': 32, 'W': 22}"
      ]
     },
     "execution_count": 159,
     "metadata": {},
     "output_type": "execute_result"
    }
   ],
   "source": [
    "daily_orientation(\"03-10-2017\")"
   ]
  },
  {
   "cell_type": "code",
   "execution_count": 157,
   "metadata": {
    "collapsed": false
   },
   "outputs": [
    {
     "data": {
      "text/html": [
       "<div>\n",
       "<table border=\"1\" class=\"dataframe\">\n",
       "  <thead>\n",
       "    <tr style=\"text-align: right;\">\n",
       "      <th>sensor_name</th>\n",
       "      <th>Compass (Heading (Magnetic North))</th>\n",
       "      <th>Compass (Heading (True North))</th>\n",
       "      <th>Compass (x)</th>\n",
       "      <th>Compass (y)</th>\n",
       "      <th>Compass (z)</th>\n",
       "    </tr>\n",
       "    <tr>\n",
       "      <th>timestamp</th>\n",
       "      <th></th>\n",
       "      <th></th>\n",
       "      <th></th>\n",
       "      <th></th>\n",
       "      <th></th>\n",
       "    </tr>\n",
       "  </thead>\n",
       "  <tbody>\n",
       "    <tr>\n",
       "      <th>2017-03-12 01:54:36</th>\n",
       "      <td>48.10029220581055</td>\n",
       "      <td>35.17778015136719</td>\n",
       "      <td>-20.7813720703125</td>\n",
       "      <td>16.88435935974121</td>\n",
       "      <td>-66.98648071289062</td>\n",
       "    </tr>\n",
       "    <tr>\n",
       "      <th>2017-03-12 01:54:38</th>\n",
       "      <td>263.2536926269531</td>\n",
       "      <td>250.3311157226562</td>\n",
       "      <td>-0.4492149353027344</td>\n",
       "      <td>-2.145524978637695</td>\n",
       "      <td>-34.69882202148438</td>\n",
       "    </tr>\n",
       "    <tr>\n",
       "      <th>2017-03-12 10:03:19</th>\n",
       "      <td>345.3742065429688</td>\n",
       "      <td>332.4512634277344</td>\n",
       "      <td>3.013992309570312</td>\n",
       "      <td>13.05660438537598</td>\n",
       "      <td>-48.74432373046875</td>\n",
       "    </tr>\n",
       "    <tr>\n",
       "      <th>2017-03-12 10:03:44</th>\n",
       "      <td>350.2609558105469</td>\n",
       "      <td>337.3380126953125</td>\n",
       "      <td>12.00404357910156</td>\n",
       "      <td>3.098779678344727</td>\n",
       "      <td>-53.30502319335938</td>\n",
       "    </tr>\n",
       "    <tr>\n",
       "      <th>2017-03-12 10:08:16</th>\n",
       "      <td>346.848388671875</td>\n",
       "      <td>333.9254455566406</td>\n",
       "      <td>7.807968139648438</td>\n",
       "      <td>7.031961441040039</td>\n",
       "      <td>-53.58172607421875</td>\n",
       "    </tr>\n",
       "    <tr>\n",
       "      <th>2017-03-12 10:08:21</th>\n",
       "      <td>321.8050842285156</td>\n",
       "      <td>308.8821411132812</td>\n",
       "      <td>11.39833068847656</td>\n",
       "      <td>-2.609350204467773</td>\n",
       "      <td>-49.1456298828125</td>\n",
       "    </tr>\n",
       "    <tr>\n",
       "      <th>2017-03-12 10:08:24</th>\n",
       "      <td>325.2975769042969</td>\n",
       "      <td>312.3746337890625</td>\n",
       "      <td>5.323867797851562</td>\n",
       "      <td>-2.070211410522461</td>\n",
       "      <td>-48.92294311523438</td>\n",
       "    </tr>\n",
       "    <tr>\n",
       "      <th>2017-03-12 10:36:08</th>\n",
       "      <td>321.2502746582031</td>\n",
       "      <td>308.3273315429688</td>\n",
       "      <td>9.8284912109375</td>\n",
       "      <td>2.550226211547852</td>\n",
       "      <td>-49.7110595703125</td>\n",
       "    </tr>\n",
       "    <tr>\n",
       "      <th>2017-03-12 10:36:09</th>\n",
       "      <td>253.8726654052734</td>\n",
       "      <td>240.9512939453125</td>\n",
       "      <td>52.09959411621094</td>\n",
       "      <td>-26.35489463806152</td>\n",
       "      <td>-44.02114868164062</td>\n",
       "    </tr>\n",
       "    <tr>\n",
       "      <th>2017-03-12 10:36:14</th>\n",
       "      <td>243.6040649414062</td>\n",
       "      <td>230.6826934814453</td>\n",
       "      <td>52.01918029785156</td>\n",
       "      <td>-31.75665855407715</td>\n",
       "      <td>-42.1090087890625</td>\n",
       "    </tr>\n",
       "    <tr>\n",
       "      <th>2017-03-12 10:36:19</th>\n",
       "      <td>272.6059875488281</td>\n",
       "      <td>259.6846008300781</td>\n",
       "      <td>58.70797729492188</td>\n",
       "      <td>-17.96968650817871</td>\n",
       "      <td>-32.25582885742188</td>\n",
       "    </tr>\n",
       "    <tr>\n",
       "      <th>2017-03-12 10:36:24</th>\n",
       "      <td>271.9076538085938</td>\n",
       "      <td>258.9862670898438</td>\n",
       "      <td>57.58341979980469</td>\n",
       "      <td>-17.53104209899902</td>\n",
       "      <td>-32.02886962890625</td>\n",
       "    </tr>\n",
       "    <tr>\n",
       "      <th>2017-03-12 10:36:29</th>\n",
       "      <td>6.496735572814941</td>\n",
       "      <td>353.5753479003906</td>\n",
       "      <td>40.70036315917969</td>\n",
       "      <td>-25.57893943786621</td>\n",
       "      <td>-23.9271240234375</td>\n",
       "    </tr>\n",
       "    <tr>\n",
       "      <th>2017-03-12 10:36:34</th>\n",
       "      <td>6.498620510101318</td>\n",
       "      <td>353.5772399902344</td>\n",
       "      <td>40.85096740722656</td>\n",
       "      <td>-24.97734642028809</td>\n",
       "      <td>-24.07275390625</td>\n",
       "    </tr>\n",
       "    <tr>\n",
       "      <th>2017-03-12 10:36:39</th>\n",
       "      <td>6.50377082824707</td>\n",
       "      <td>353.5823974609375</td>\n",
       "      <td>41.15104675292969</td>\n",
       "      <td>-24.89900779724121</td>\n",
       "      <td>-24.74685668945312</td>\n",
       "    </tr>\n",
       "    <tr>\n",
       "      <th>2017-03-12 10:36:44</th>\n",
       "      <td>6.493279457092285</td>\n",
       "      <td>353.5718994140625</td>\n",
       "      <td>41.30126953125</td>\n",
       "      <td>-24.67278099060059</td>\n",
       "      <td>-24.22015380859375</td>\n",
       "    </tr>\n",
       "    <tr>\n",
       "      <th>2017-03-12 10:36:49</th>\n",
       "      <td>6.496247291564941</td>\n",
       "      <td>353.5748596191406</td>\n",
       "      <td>40.40028381347656</td>\n",
       "      <td>-25.65584373474121</td>\n",
       "      <td>-26.1029052734375</td>\n",
       "    </tr>\n",
       "    <tr>\n",
       "      <th>2017-03-12 10:36:54</th>\n",
       "      <td>6.509326934814453</td>\n",
       "      <td>353.5879516601562</td>\n",
       "      <td>40.85052490234375</td>\n",
       "      <td>-25.42607688903809</td>\n",
       "      <td>-26.6258544921875</td>\n",
       "    </tr>\n",
       "    <tr>\n",
       "      <th>2017-03-12 10:36:59</th>\n",
       "      <td>6.50874662399292</td>\n",
       "      <td>353.5873718261719</td>\n",
       "      <td>40.47544860839844</td>\n",
       "      <td>-25.50520896911621</td>\n",
       "      <td>-25.87677001953125</td>\n",
       "    </tr>\n",
       "    <tr>\n",
       "      <th>2017-03-12 10:37:04</th>\n",
       "      <td>6.488020420074463</td>\n",
       "      <td>353.566650390625</td>\n",
       "      <td>40.92544555664062</td>\n",
       "      <td>-25.5008602142334</td>\n",
       "      <td>-25.57632446289062</td>\n",
       "    </tr>\n",
       "    <tr>\n",
       "      <th>2017-03-12 10:37:09</th>\n",
       "      <td>6.50186824798584</td>\n",
       "      <td>353.5805053710938</td>\n",
       "      <td>40.700439453125</td>\n",
       "      <td>-25.50348472595215</td>\n",
       "      <td>-24.82656860351562</td>\n",
       "    </tr>\n",
       "    <tr>\n",
       "      <th>2017-03-12 10:37:14</th>\n",
       "      <td>6.484878540039062</td>\n",
       "      <td>353.5635070800781</td>\n",
       "      <td>40.85104370117188</td>\n",
       "      <td>-24.90224266052246</td>\n",
       "      <td>-24.2972412109375</td>\n",
       "    </tr>\n",
       "    <tr>\n",
       "      <th>2017-03-12 10:37:19</th>\n",
       "      <td>6.489727973937988</td>\n",
       "      <td>353.568359375</td>\n",
       "      <td>40.92544555664062</td>\n",
       "      <td>-25.50160789489746</td>\n",
       "      <td>-24.07635498046875</td>\n",
       "    </tr>\n",
       "    <tr>\n",
       "      <th>2017-03-12 10:37:24</th>\n",
       "      <td>6.488163471221924</td>\n",
       "      <td>353.5668029785156</td>\n",
       "      <td>41.22575378417969</td>\n",
       "      <td>-25.19815635681152</td>\n",
       "      <td>-24.973876953125</td>\n",
       "    </tr>\n",
       "    <tr>\n",
       "      <th>2017-03-12 10:37:29</th>\n",
       "      <td>6.498904228210449</td>\n",
       "      <td>353.5775146484375</td>\n",
       "      <td>40.7010498046875</td>\n",
       "      <td>-24.90363121032715</td>\n",
       "      <td>-24.52239990234375</td>\n",
       "    </tr>\n",
       "    <tr>\n",
       "      <th>2017-03-12 10:37:34</th>\n",
       "      <td>6.494727611541748</td>\n",
       "      <td>353.5733642578125</td>\n",
       "      <td>41.15156555175781</td>\n",
       "      <td>-24.37445640563965</td>\n",
       "      <td>-23.84323120117188</td>\n",
       "    </tr>\n",
       "    <tr>\n",
       "      <th>2017-03-12 10:37:39</th>\n",
       "      <td>6.492658138275146</td>\n",
       "      <td>353.5712890625</td>\n",
       "      <td>40.70149230957031</td>\n",
       "      <td>-24.45369529724121</td>\n",
       "      <td>-24.36923217773438</td>\n",
       "    </tr>\n",
       "    <tr>\n",
       "      <th>2017-03-12 10:37:44</th>\n",
       "      <td>6.497520923614502</td>\n",
       "      <td>353.5761413574219</td>\n",
       "      <td>40.92581176757812</td>\n",
       "      <td>-25.12648582458496</td>\n",
       "      <td>-24.29873657226562</td>\n",
       "    </tr>\n",
       "    <tr>\n",
       "      <th>2017-03-12 10:37:49</th>\n",
       "      <td>46.27417373657227</td>\n",
       "      <td>33.35279846191406</td>\n",
       "      <td>33.49940490722656</td>\n",
       "      <td>-26.53841209411621</td>\n",
       "      <td>-48.99102783203125</td>\n",
       "    </tr>\n",
       "    <tr>\n",
       "      <th>2017-03-12 15:54:57</th>\n",
       "      <td>74.93807220458984</td>\n",
       "      <td>62.01669692993164</td>\n",
       "      <td>0.140716552734375</td>\n",
       "      <td>-10.2277889251709</td>\n",
       "      <td>-37.4351806640625</td>\n",
       "    </tr>\n",
       "    <tr>\n",
       "      <th>2017-03-12 15:54:59</th>\n",
       "      <td>228.1506195068359</td>\n",
       "      <td>215.2167358398438</td>\n",
       "      <td>19.08855056762695</td>\n",
       "      <td>-52.28907775878906</td>\n",
       "      <td>-104.2349548339844</td>\n",
       "    </tr>\n",
       "    <tr>\n",
       "      <th>2017-03-12 15:56:16</th>\n",
       "      <td>258.018310546875</td>\n",
       "      <td>245.0844268798828</td>\n",
       "      <td>-15.47309494018555</td>\n",
       "      <td>-38.93345642089844</td>\n",
       "      <td>-56.70101928710938</td>\n",
       "    </tr>\n",
       "    <tr>\n",
       "      <th>2017-03-12 19:13:39</th>\n",
       "      <td>264.759033203125</td>\n",
       "      <td>251.8251495361328</td>\n",
       "      <td>-11.93391036987305</td>\n",
       "      <td>-24.73782539367676</td>\n",
       "      <td>-27.19808959960938</td>\n",
       "    </tr>\n",
       "    <tr>\n",
       "      <th>2017-03-12 19:13:41</th>\n",
       "      <td>240.4546051025391</td>\n",
       "      <td>227.5207214355469</td>\n",
       "      <td>37.84532165527344</td>\n",
       "      <td>-30.62376976013184</td>\n",
       "      <td>-41.36526489257812</td>\n",
       "    </tr>\n",
       "    <tr>\n",
       "      <th>2017-03-12 23:23:31</th>\n",
       "      <td>240.0093688964844</td>\n",
       "      <td>227.0754852294922</td>\n",
       "      <td>37.24569702148438</td>\n",
       "      <td>-30.25505638122559</td>\n",
       "      <td>-40.76327514648438</td>\n",
       "    </tr>\n",
       "  </tbody>\n",
       "</table>\n",
       "</div>"
      ],
      "text/plain": [
       "sensor_name         Compass (Heading (Magnetic North))  \\\n",
       "timestamp                                                \n",
       "2017-03-12 01:54:36                  48.10029220581055   \n",
       "2017-03-12 01:54:38                  263.2536926269531   \n",
       "2017-03-12 10:03:19                  345.3742065429688   \n",
       "2017-03-12 10:03:44                  350.2609558105469   \n",
       "2017-03-12 10:08:16                   346.848388671875   \n",
       "2017-03-12 10:08:21                  321.8050842285156   \n",
       "2017-03-12 10:08:24                  325.2975769042969   \n",
       "2017-03-12 10:36:08                  321.2502746582031   \n",
       "2017-03-12 10:36:09                  253.8726654052734   \n",
       "2017-03-12 10:36:14                  243.6040649414062   \n",
       "2017-03-12 10:36:19                  272.6059875488281   \n",
       "2017-03-12 10:36:24                  271.9076538085938   \n",
       "2017-03-12 10:36:29                  6.496735572814941   \n",
       "2017-03-12 10:36:34                  6.498620510101318   \n",
       "2017-03-12 10:36:39                   6.50377082824707   \n",
       "2017-03-12 10:36:44                  6.493279457092285   \n",
       "2017-03-12 10:36:49                  6.496247291564941   \n",
       "2017-03-12 10:36:54                  6.509326934814453   \n",
       "2017-03-12 10:36:59                   6.50874662399292   \n",
       "2017-03-12 10:37:04                  6.488020420074463   \n",
       "2017-03-12 10:37:09                   6.50186824798584   \n",
       "2017-03-12 10:37:14                  6.484878540039062   \n",
       "2017-03-12 10:37:19                  6.489727973937988   \n",
       "2017-03-12 10:37:24                  6.488163471221924   \n",
       "2017-03-12 10:37:29                  6.498904228210449   \n",
       "2017-03-12 10:37:34                  6.494727611541748   \n",
       "2017-03-12 10:37:39                  6.492658138275146   \n",
       "2017-03-12 10:37:44                  6.497520923614502   \n",
       "2017-03-12 10:37:49                  46.27417373657227   \n",
       "2017-03-12 15:54:57                  74.93807220458984   \n",
       "2017-03-12 15:54:59                  228.1506195068359   \n",
       "2017-03-12 15:56:16                   258.018310546875   \n",
       "2017-03-12 19:13:39                   264.759033203125   \n",
       "2017-03-12 19:13:41                  240.4546051025391   \n",
       "2017-03-12 23:23:31                  240.0093688964844   \n",
       "\n",
       "sensor_name         Compass (Heading (True North))          Compass (x)  \\\n",
       "timestamp                                                                 \n",
       "2017-03-12 01:54:36              35.17778015136719    -20.7813720703125   \n",
       "2017-03-12 01:54:38              250.3311157226562  -0.4492149353027344   \n",
       "2017-03-12 10:03:19              332.4512634277344    3.013992309570312   \n",
       "2017-03-12 10:03:44              337.3380126953125    12.00404357910156   \n",
       "2017-03-12 10:08:16              333.9254455566406    7.807968139648438   \n",
       "2017-03-12 10:08:21              308.8821411132812    11.39833068847656   \n",
       "2017-03-12 10:08:24              312.3746337890625    5.323867797851562   \n",
       "2017-03-12 10:36:08              308.3273315429688      9.8284912109375   \n",
       "2017-03-12 10:36:09              240.9512939453125    52.09959411621094   \n",
       "2017-03-12 10:36:14              230.6826934814453    52.01918029785156   \n",
       "2017-03-12 10:36:19              259.6846008300781    58.70797729492188   \n",
       "2017-03-12 10:36:24              258.9862670898438    57.58341979980469   \n",
       "2017-03-12 10:36:29              353.5753479003906    40.70036315917969   \n",
       "2017-03-12 10:36:34              353.5772399902344    40.85096740722656   \n",
       "2017-03-12 10:36:39              353.5823974609375    41.15104675292969   \n",
       "2017-03-12 10:36:44              353.5718994140625       41.30126953125   \n",
       "2017-03-12 10:36:49              353.5748596191406    40.40028381347656   \n",
       "2017-03-12 10:36:54              353.5879516601562    40.85052490234375   \n",
       "2017-03-12 10:36:59              353.5873718261719    40.47544860839844   \n",
       "2017-03-12 10:37:04               353.566650390625    40.92544555664062   \n",
       "2017-03-12 10:37:09              353.5805053710938      40.700439453125   \n",
       "2017-03-12 10:37:14              353.5635070800781    40.85104370117188   \n",
       "2017-03-12 10:37:19                  353.568359375    40.92544555664062   \n",
       "2017-03-12 10:37:24              353.5668029785156    41.22575378417969   \n",
       "2017-03-12 10:37:29              353.5775146484375     40.7010498046875   \n",
       "2017-03-12 10:37:34              353.5733642578125    41.15156555175781   \n",
       "2017-03-12 10:37:39                 353.5712890625    40.70149230957031   \n",
       "2017-03-12 10:37:44              353.5761413574219    40.92581176757812   \n",
       "2017-03-12 10:37:49              33.35279846191406    33.49940490722656   \n",
       "2017-03-12 15:54:57              62.01669692993164    0.140716552734375   \n",
       "2017-03-12 15:54:59              215.2167358398438    19.08855056762695   \n",
       "2017-03-12 15:56:16              245.0844268798828   -15.47309494018555   \n",
       "2017-03-12 19:13:39              251.8251495361328   -11.93391036987305   \n",
       "2017-03-12 19:13:41              227.5207214355469    37.84532165527344   \n",
       "2017-03-12 23:23:31              227.0754852294922    37.24569702148438   \n",
       "\n",
       "sensor_name                 Compass (y)         Compass (z)  \n",
       "timestamp                                                    \n",
       "2017-03-12 01:54:36   16.88435935974121  -66.98648071289062  \n",
       "2017-03-12 01:54:38  -2.145524978637695  -34.69882202148438  \n",
       "2017-03-12 10:03:19   13.05660438537598  -48.74432373046875  \n",
       "2017-03-12 10:03:44   3.098779678344727  -53.30502319335938  \n",
       "2017-03-12 10:08:16   7.031961441040039  -53.58172607421875  \n",
       "2017-03-12 10:08:21  -2.609350204467773   -49.1456298828125  \n",
       "2017-03-12 10:08:24  -2.070211410522461  -48.92294311523438  \n",
       "2017-03-12 10:36:08   2.550226211547852   -49.7110595703125  \n",
       "2017-03-12 10:36:09  -26.35489463806152  -44.02114868164062  \n",
       "2017-03-12 10:36:14  -31.75665855407715   -42.1090087890625  \n",
       "2017-03-12 10:36:19  -17.96968650817871  -32.25582885742188  \n",
       "2017-03-12 10:36:24  -17.53104209899902  -32.02886962890625  \n",
       "2017-03-12 10:36:29  -25.57893943786621   -23.9271240234375  \n",
       "2017-03-12 10:36:34  -24.97734642028809     -24.07275390625  \n",
       "2017-03-12 10:36:39  -24.89900779724121  -24.74685668945312  \n",
       "2017-03-12 10:36:44  -24.67278099060059  -24.22015380859375  \n",
       "2017-03-12 10:36:49  -25.65584373474121   -26.1029052734375  \n",
       "2017-03-12 10:36:54  -25.42607688903809   -26.6258544921875  \n",
       "2017-03-12 10:36:59  -25.50520896911621  -25.87677001953125  \n",
       "2017-03-12 10:37:04   -25.5008602142334  -25.57632446289062  \n",
       "2017-03-12 10:37:09  -25.50348472595215  -24.82656860351562  \n",
       "2017-03-12 10:37:14  -24.90224266052246   -24.2972412109375  \n",
       "2017-03-12 10:37:19  -25.50160789489746  -24.07635498046875  \n",
       "2017-03-12 10:37:24  -25.19815635681152    -24.973876953125  \n",
       "2017-03-12 10:37:29  -24.90363121032715  -24.52239990234375  \n",
       "2017-03-12 10:37:34  -24.37445640563965  -23.84323120117188  \n",
       "2017-03-12 10:37:39  -24.45369529724121  -24.36923217773438  \n",
       "2017-03-12 10:37:44  -25.12648582458496  -24.29873657226562  \n",
       "2017-03-12 10:37:49  -26.53841209411621  -48.99102783203125  \n",
       "2017-03-12 15:54:57   -10.2277889251709   -37.4351806640625  \n",
       "2017-03-12 15:54:59  -52.28907775878906  -104.2349548339844  \n",
       "2017-03-12 15:56:16  -38.93345642089844  -56.70101928710938  \n",
       "2017-03-12 19:13:39  -24.73782539367676  -27.19808959960938  \n",
       "2017-03-12 19:13:41  -30.62376976013184  -41.36526489257812  \n",
       "2017-03-12 23:23:31  -30.25505638122559  -40.76327514648438  "
      ]
     },
     "execution_count": 157,
     "metadata": {},
     "output_type": "execute_result"
    }
   ],
   "source": [
    "t2.ix['03-12-2017']"
   ]
  },
  {
   "cell_type": "code",
   "execution_count": null,
   "metadata": {
    "collapsed": false
   },
   "outputs": [],
   "source": []
  },
  {
   "cell_type": "code",
   "execution_count": null,
   "metadata": {
    "collapsed": true
   },
   "outputs": [],
   "source": []
  }
 ],
 "metadata": {
  "anaconda-cloud": {},
  "kernelspec": {
   "display_name": "Python [default]",
   "language": "python",
   "name": "python2"
  },
  "language_info": {
   "codemirror_mode": {
    "name": "ipython",
    "version": 2
   },
   "file_extension": ".py",
   "mimetype": "text/x-python",
   "name": "python",
   "nbconvert_exporter": "python",
   "pygments_lexer": "ipython2",
   "version": "2.7.13"
  }
 },
 "nbformat": 4,
 "nbformat_minor": 0
}
