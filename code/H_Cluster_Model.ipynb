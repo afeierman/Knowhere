{
 "cells": [
  {
   "cell_type": "code",
   "execution_count": 1,
   "metadata": {
<<<<<<< HEAD
    "collapsed": true,
    "deletable": true,
    "editable": true
=======
    "collapsed": false
>>>>>>> e3c2aad263d790769b77b6d7120caff64a2039a5
   },
   "outputs": [],
   "source": [
    "from sklearn.cluster import AgglomerativeClustering\n",
    "from sklearn import preprocessing\n",
    "import db.knowhere_db as kdb\n",
    "import pipeline.pipeline as pipeline\n",
    "import pandas as pd\n",
    "import numpy as np\n",
    "from sklearn.model_selection import KFold\n",
    "import pickle"
   ]
  },
  {
   "cell_type": "code",
<<<<<<< HEAD
   "execution_count": 4,
=======
   "execution_count": 6,
>>>>>>> e3c2aad263d790769b77b6d7120caff64a2039a5
   "metadata": {
    "collapsed": false,
    "deletable": true,
    "editable": true
   },
   "outputs": [
    {
     "data": {
      "text/html": [
       "<div>\n",
       "<table border=\"1\" class=\"dataframe\">\n",
       "  <thead>\n",
       "    <tr style=\"text-align: right;\">\n",
       "      <th>sensor_name</th>\n",
       "      <th>GPS (Altitude)</th>\n",
       "      <th>GPS (Latitude)</th>\n",
       "      <th>GPS (Longitude)</th>\n",
       "    </tr>\n",
       "    <tr>\n",
       "      <th>timestamp</th>\n",
       "      <th></th>\n",
       "      <th></th>\n",
       "      <th></th>\n",
       "    </tr>\n",
       "  </thead>\n",
       "  <tbody>\n",
       "    <tr>\n",
       "      <th>2017-03-09 08:09:29</th>\n",
       "      <td>13.4251708984375</td>\n",
       "      <td>40.7461291132874</td>\n",
       "      <td>-73.8634952903482</td>\n",
       "    </tr>\n",
       "    <tr>\n",
       "      <th>2017-03-09 08:09:30</th>\n",
       "      <td>13.4251708984375</td>\n",
       "      <td>40.7461291132874</td>\n",
       "      <td>-73.8634952903482</td>\n",
       "    </tr>\n",
       "    <tr>\n",
       "      <th>2017-03-09 08:09:31</th>\n",
       "      <td>13.3884887695312</td>\n",
       "      <td>40.745787131638</td>\n",
       "      <td>-73.8647085708323</td>\n",
       "    </tr>\n",
       "    <tr>\n",
       "      <th>2017-03-09 08:09:32</th>\n",
       "      <td>13.1929321289062</td>\n",
       "      <td>40.7457611477382</td>\n",
       "      <td>-73.8648079802039</td>\n",
       "    </tr>\n",
       "    <tr>\n",
       "      <th>2017-03-09 08:09:33</th>\n",
       "      <td>14.4685363769531</td>\n",
       "      <td>40.7456887280948</td>\n",
       "      <td>-73.8649902865979</td>\n",
       "    </tr>\n",
       "    <tr>\n",
       "      <th>2017-03-09 08:09:34</th>\n",
       "      <td>14.707763671875</td>\n",
       "      <td>40.7456263667352</td>\n",
       "      <td>-73.8651589304897</td>\n",
       "    </tr>\n",
       "    <tr>\n",
       "      <th>2017-03-09 08:09:35</th>\n",
       "      <td>15.9894104003906</td>\n",
       "      <td>40.7456879737235</td>\n",
       "      <td>-73.8653693162593</td>\n",
       "    </tr>\n",
       "    <tr>\n",
       "      <th>2017-03-09 08:09:36</th>\n",
       "      <td>16.7223205566406</td>\n",
       "      <td>40.7455903664611</td>\n",
       "      <td>-73.8655322604569</td>\n",
       "    </tr>\n",
       "    <tr>\n",
       "      <th>2017-03-09 08:25:06</th>\n",
       "      <td>16.1317443847656</td>\n",
       "      <td>40.7454871433235</td>\n",
       "      <td>-73.8656942826452</td>\n",
       "    </tr>\n",
       "    <tr>\n",
       "      <th>2017-03-09 08:25:08</th>\n",
       "      <td>16.1317443847656</td>\n",
       "      <td>40.7437758811888</td>\n",
       "      <td>-73.8717035504132</td>\n",
       "    </tr>\n",
       "    <tr>\n",
       "      <th>2017-03-09 08:41:43</th>\n",
       "      <td>16.1317443847656</td>\n",
       "      <td>40.7437758811888</td>\n",
       "      <td>-73.8717035504132</td>\n",
       "    </tr>\n",
       "    <tr>\n",
       "      <th>2017-03-09 08:41:45</th>\n",
       "      <td>16.1317443847656</td>\n",
       "      <td>40.7546225520844</td>\n",
       "      <td>-73.9938270707214</td>\n",
       "    </tr>\n",
       "    <tr>\n",
       "      <th>2017-03-09 08:41:46</th>\n",
       "      <td>17.6839485168457</td>\n",
       "      <td>40.7532231874713</td>\n",
       "      <td>-73.9922513789178</td>\n",
       "    </tr>\n",
       "    <tr>\n",
       "      <th>2017-03-09 08:58:14</th>\n",
       "      <td>20.1535987854004</td>\n",
       "      <td>40.7525846730189</td>\n",
       "      <td>-73.9929636589692</td>\n",
       "    </tr>\n",
       "    <tr>\n",
       "      <th>2017-03-09 08:58:22</th>\n",
       "      <td>20.1535987854004</td>\n",
       "      <td>40.7526386253937</td>\n",
       "      <td>-73.9930058845042</td>\n",
       "    </tr>\n",
       "    <tr>\n",
       "      <th>2017-03-09 08:58:28</th>\n",
       "      <td>20.4710083007812</td>\n",
       "      <td>40.7530174451328</td>\n",
       "      <td>-73.9929443132821</td>\n",
       "    </tr>\n",
       "    <tr>\n",
       "      <th>2017-03-09 08:58:36</th>\n",
       "      <td>20.3472728729248</td>\n",
       "      <td>40.7530718590724</td>\n",
       "      <td>-73.992887891504</td>\n",
       "    </tr>\n",
       "    <tr>\n",
       "      <th>2017-03-09 08:58:37</th>\n",
       "      <td>176.127777099609</td>\n",
       "      <td>40.7531930040948</td>\n",
       "      <td>-73.9929151442591</td>\n",
       "    </tr>\n",
       "    <tr>\n",
       "      <th>2017-03-09 08:58:38</th>\n",
       "      <td>196.550994873047</td>\n",
       "      <td>40.7532955566801</td>\n",
       "      <td>-73.9928490948621</td>\n",
       "    </tr>\n",
       "    <tr>\n",
       "      <th>2017-03-09 08:58:39</th>\n",
       "      <td>196.809478759766</td>\n",
       "      <td>40.7532943191556</td>\n",
       "      <td>-73.9928433178682</td>\n",
       "    </tr>\n",
       "    <tr>\n",
       "      <th>2017-03-09 08:58:41</th>\n",
       "      <td>183.815368652344</td>\n",
       "      <td>40.7532980063519</td>\n",
       "      <td>-73.9928370102097</td>\n",
       "    </tr>\n",
       "    <tr>\n",
       "      <th>2017-03-09 08:58:42</th>\n",
       "      <td>173.626510620117</td>\n",
       "      <td>40.7532994473675</td>\n",
       "      <td>-73.9928300501148</td>\n",
       "    </tr>\n",
       "    <tr>\n",
       "      <th>2017-03-09 08:58:43</th>\n",
       "      <td>175.925704956055</td>\n",
       "      <td>40.7532943842064</td>\n",
       "      <td>-73.9928255033247</td>\n",
       "    </tr>\n",
       "    <tr>\n",
       "      <th>2017-03-09 08:58:44</th>\n",
       "      <td>166.020462036133</td>\n",
       "      <td>40.753288409359</td>\n",
       "      <td>-73.9928228462966</td>\n",
       "    </tr>\n",
       "    <tr>\n",
       "      <th>2017-03-09 08:58:45</th>\n",
       "      <td>135.639251708984</td>\n",
       "      <td>40.7530675270043</td>\n",
       "      <td>-73.9929172397349</td>\n",
       "    </tr>\n",
       "    <tr>\n",
       "      <th>2017-03-09 08:58:46</th>\n",
       "      <td>102.061614990234</td>\n",
       "      <td>40.7527927263088</td>\n",
       "      <td>-73.9931251947526</td>\n",
       "    </tr>\n",
       "    <tr>\n",
       "      <th>2017-03-09 08:58:47</th>\n",
       "      <td>111.449737548828</td>\n",
       "      <td>40.7527581090487</td>\n",
       "      <td>-73.9931003005002</td>\n",
       "    </tr>\n",
       "    <tr>\n",
       "      <th>2017-03-09 08:58:48</th>\n",
       "      <td>134.601531982422</td>\n",
       "      <td>40.7527100807435</td>\n",
       "      <td>-73.9930838719699</td>\n",
       "    </tr>\n",
       "    <tr>\n",
       "      <th>2017-03-09 08:58:49</th>\n",
       "      <td>76.0815734863281</td>\n",
       "      <td>40.7527392916761</td>\n",
       "      <td>-73.9930194151346</td>\n",
       "    </tr>\n",
       "    <tr>\n",
       "      <th>2017-03-09 08:58:50</th>\n",
       "      <td>15.3015747070312</td>\n",
       "      <td>40.7528763777025</td>\n",
       "      <td>-73.9931249432955</td>\n",
       "    </tr>\n",
       "    <tr>\n",
       "      <th>...</th>\n",
       "      <td>...</td>\n",
       "      <td>...</td>\n",
       "      <td>...</td>\n",
       "    </tr>\n",
       "    <tr>\n",
       "      <th>2017-03-15 06:13:50</th>\n",
       "      <td>49.1278076171875</td>\n",
       "      <td>40.7367397891737</td>\n",
       "      <td>-73.7538241223188</td>\n",
       "    </tr>\n",
       "    <tr>\n",
       "      <th>2017-03-15 06:13:51</th>\n",
       "      <td>49.1771850585938</td>\n",
       "      <td>40.7367397891737</td>\n",
       "      <td>-73.7538241223188</td>\n",
       "    </tr>\n",
       "    <tr>\n",
       "      <th>2017-03-15 08:00:08</th>\n",
       "      <td>26.8640003204346</td>\n",
       "      <td>40.76354567497</td>\n",
       "      <td>-73.7709656595383</td>\n",
       "    </tr>\n",
       "    <tr>\n",
       "      <th>2017-03-15 08:00:09</th>\n",
       "      <td>24.7001533508301</td>\n",
       "      <td>40.763032944395</td>\n",
       "      <td>-73.7727504367704</td>\n",
       "    </tr>\n",
       "    <tr>\n",
       "      <th>2017-03-15 08:27:11</th>\n",
       "      <td>24.7001533508301</td>\n",
       "      <td>40.763032944395</td>\n",
       "      <td>-73.7727504367704</td>\n",
       "    </tr>\n",
       "    <tr>\n",
       "      <th>2017-03-15 09:17:38</th>\n",
       "      <td>20.3790893554688</td>\n",
       "      <td>40.7527144827315</td>\n",
       "      <td>-73.9929497330124</td>\n",
       "    </tr>\n",
       "    <tr>\n",
       "      <th>2017-03-15 09:17:50</th>\n",
       "      <td>20.4314556121826</td>\n",
       "      <td>40.7526132433257</td>\n",
       "      <td>-73.993025917284</td>\n",
       "    </tr>\n",
       "    <tr>\n",
       "      <th>2017-03-15 12:51:07</th>\n",
       "      <td>20.3688335418701</td>\n",
       "      <td>40.7533007543417</td>\n",
       "      <td>-73.993428803096</td>\n",
       "    </tr>\n",
       "    <tr>\n",
       "      <th>2017-03-15 12:51:08</th>\n",
       "      <td>20.3270587921143</td>\n",
       "      <td>40.7527585459216</td>\n",
       "      <td>-73.9929625751179</td>\n",
       "    </tr>\n",
       "    <tr>\n",
       "      <th>2017-03-15 12:51:09</th>\n",
       "      <td>20.2355785369873</td>\n",
       "      <td>40.7528093757964</td>\n",
       "      <td>-73.9929419440562</td>\n",
       "    </tr>\n",
       "    <tr>\n",
       "      <th>2017-03-15 13:37:06</th>\n",
       "      <td>20.0636386871338</td>\n",
       "      <td>40.752704059922</td>\n",
       "      <td>-73.992957108678</td>\n",
       "    </tr>\n",
       "    <tr>\n",
       "      <th>2017-03-15 13:37:36</th>\n",
       "      <td>20.0192737579346</td>\n",
       "      <td>40.7526967987602</td>\n",
       "      <td>-73.9930271577096</td>\n",
       "    </tr>\n",
       "    <tr>\n",
       "      <th>2017-03-15 13:37:38</th>\n",
       "      <td>20.0192737579346</td>\n",
       "      <td>40.7527223271365</td>\n",
       "      <td>-73.993051137532</td>\n",
       "    </tr>\n",
       "    <tr>\n",
       "      <th>2017-03-15 13:37:39</th>\n",
       "      <td>20.7947082519531</td>\n",
       "      <td>40.7527083205439</td>\n",
       "      <td>-73.9931280445997</td>\n",
       "    </tr>\n",
       "    <tr>\n",
       "      <th>2017-03-15 13:37:40</th>\n",
       "      <td>22.834228515625</td>\n",
       "      <td>40.7526203943796</td>\n",
       "      <td>-73.9930768311713</td>\n",
       "    </tr>\n",
       "    <tr>\n",
       "      <th>2017-03-15 13:37:41</th>\n",
       "      <td>34.1956787109375</td>\n",
       "      <td>40.7526524132497</td>\n",
       "      <td>-73.9929392003212</td>\n",
       "    </tr>\n",
       "    <tr>\n",
       "      <th>2017-03-15 16:44:07</th>\n",
       "      <td>20.1808567047119</td>\n",
       "      <td>40.7525597797921</td>\n",
       "      <td>-73.9930964540879</td>\n",
       "    </tr>\n",
       "    <tr>\n",
       "      <th>2017-03-15 16:44:08</th>\n",
       "      <td>20.3412780761719</td>\n",
       "      <td>40.7526974161133</td>\n",
       "      <td>-73.9930328143927</td>\n",
       "    </tr>\n",
       "    <tr>\n",
       "      <th>2017-03-15 16:44:19</th>\n",
       "      <td>20.4880065917969</td>\n",
       "      <td>40.752802176071</td>\n",
       "      <td>-73.9929560724585</td>\n",
       "    </tr>\n",
       "    <tr>\n",
       "      <th>2017-03-15 16:44:20</th>\n",
       "      <td>20.4237689971924</td>\n",
       "      <td>40.7527309890565</td>\n",
       "      <td>-73.9930446325692</td>\n",
       "    </tr>\n",
       "    <tr>\n",
       "      <th>2017-03-15 17:54:46</th>\n",
       "      <td>15.4755754470825</td>\n",
       "      <td>40.751149203034</td>\n",
       "      <td>-73.9924789668258</td>\n",
       "    </tr>\n",
       "    <tr>\n",
       "      <th>2017-03-16 09:29:04</th>\n",
       "      <td>19.738073348999</td>\n",
       "      <td>40.752821093653</td>\n",
       "      <td>-73.9929230361739</td>\n",
       "    </tr>\n",
       "    <tr>\n",
       "      <th>2017-03-16 09:29:27</th>\n",
       "      <td>20.1401271820068</td>\n",
       "      <td>40.7527743926915</td>\n",
       "      <td>-73.9929218065506</td>\n",
       "    </tr>\n",
       "    <tr>\n",
       "      <th>2017-03-16 12:46:42</th>\n",
       "      <td>20.1401271820068</td>\n",
       "      <td>40.7527743926915</td>\n",
       "      <td>-73.9929218065506</td>\n",
       "    </tr>\n",
       "    <tr>\n",
       "      <th>2017-03-16 12:46:43</th>\n",
       "      <td>20.0059261322021</td>\n",
       "      <td>40.7527292843222</td>\n",
       "      <td>-73.9929708460633</td>\n",
       "    </tr>\n",
       "    <tr>\n",
       "      <th>2017-03-16 12:46:55</th>\n",
       "      <td>20.0059261322021</td>\n",
       "      <td>40.7527386447807</td>\n",
       "      <td>-73.9929753722527</td>\n",
       "    </tr>\n",
       "    <tr>\n",
       "      <th>2017-03-16 12:46:56</th>\n",
       "      <td>20.0054969787598</td>\n",
       "      <td>40.7527284514453</td>\n",
       "      <td>-73.9929843684621</td>\n",
       "    </tr>\n",
       "    <tr>\n",
       "      <th>2017-03-16 12:46:57</th>\n",
       "      <td>19.6851463317871</td>\n",
       "      <td>40.752874061186</td>\n",
       "      <td>-73.9928514485932</td>\n",
       "    </tr>\n",
       "    <tr>\n",
       "      <th>2017-03-16 15:24:29</th>\n",
       "      <td>20.0497131347656</td>\n",
       "      <td>40.7526627170903</td>\n",
       "      <td>-73.9929900831019</td>\n",
       "    </tr>\n",
       "    <tr>\n",
       "      <th>2017-03-16 15:24:30</th>\n",
       "      <td>20.1091842651367</td>\n",
       "      <td>40.7527364283631</td>\n",
       "      <td>-73.9929435097882</td>\n",
       "    </tr>\n",
       "  </tbody>\n",
       "</table>\n",
       "<p>3348 rows × 3 columns</p>\n",
       "</div>"
      ],
      "text/plain": [
       "sensor_name            GPS (Altitude)    GPS (Latitude)    GPS (Longitude)\n",
       "timestamp                                                                 \n",
       "2017-03-09 08:09:29  13.4251708984375  40.7461291132874  -73.8634952903482\n",
       "2017-03-09 08:09:30  13.4251708984375  40.7461291132874  -73.8634952903482\n",
       "2017-03-09 08:09:31  13.3884887695312   40.745787131638  -73.8647085708323\n",
       "2017-03-09 08:09:32  13.1929321289062  40.7457611477382  -73.8648079802039\n",
       "2017-03-09 08:09:33  14.4685363769531  40.7456887280948  -73.8649902865979\n",
       "2017-03-09 08:09:34   14.707763671875  40.7456263667352  -73.8651589304897\n",
       "2017-03-09 08:09:35  15.9894104003906  40.7456879737235  -73.8653693162593\n",
       "2017-03-09 08:09:36  16.7223205566406  40.7455903664611  -73.8655322604569\n",
       "2017-03-09 08:25:06  16.1317443847656  40.7454871433235  -73.8656942826452\n",
       "2017-03-09 08:25:08  16.1317443847656  40.7437758811888  -73.8717035504132\n",
       "2017-03-09 08:41:43  16.1317443847656  40.7437758811888  -73.8717035504132\n",
       "2017-03-09 08:41:45  16.1317443847656  40.7546225520844  -73.9938270707214\n",
       "2017-03-09 08:41:46  17.6839485168457  40.7532231874713  -73.9922513789178\n",
       "2017-03-09 08:58:14  20.1535987854004  40.7525846730189  -73.9929636589692\n",
       "2017-03-09 08:58:22  20.1535987854004  40.7526386253937  -73.9930058845042\n",
       "2017-03-09 08:58:28  20.4710083007812  40.7530174451328  -73.9929443132821\n",
       "2017-03-09 08:58:36  20.3472728729248  40.7530718590724   -73.992887891504\n",
       "2017-03-09 08:58:37  176.127777099609  40.7531930040948  -73.9929151442591\n",
       "2017-03-09 08:58:38  196.550994873047  40.7532955566801  -73.9928490948621\n",
       "2017-03-09 08:58:39  196.809478759766  40.7532943191556  -73.9928433178682\n",
       "2017-03-09 08:58:41  183.815368652344  40.7532980063519  -73.9928370102097\n",
       "2017-03-09 08:58:42  173.626510620117  40.7532994473675  -73.9928300501148\n",
       "2017-03-09 08:58:43  175.925704956055  40.7532943842064  -73.9928255033247\n",
       "2017-03-09 08:58:44  166.020462036133   40.753288409359  -73.9928228462966\n",
       "2017-03-09 08:58:45  135.639251708984  40.7530675270043  -73.9929172397349\n",
       "2017-03-09 08:58:46  102.061614990234  40.7527927263088  -73.9931251947526\n",
       "2017-03-09 08:58:47  111.449737548828  40.7527581090487  -73.9931003005002\n",
       "2017-03-09 08:58:48  134.601531982422  40.7527100807435  -73.9930838719699\n",
       "2017-03-09 08:58:49  76.0815734863281  40.7527392916761  -73.9930194151346\n",
       "2017-03-09 08:58:50  15.3015747070312  40.7528763777025  -73.9931249432955\n",
       "...                               ...               ...                ...\n",
       "2017-03-15 06:13:50  49.1278076171875  40.7367397891737  -73.7538241223188\n",
       "2017-03-15 06:13:51  49.1771850585938  40.7367397891737  -73.7538241223188\n",
       "2017-03-15 08:00:08  26.8640003204346    40.76354567497  -73.7709656595383\n",
       "2017-03-15 08:00:09  24.7001533508301   40.763032944395  -73.7727504367704\n",
       "2017-03-15 08:27:11  24.7001533508301   40.763032944395  -73.7727504367704\n",
       "2017-03-15 09:17:38  20.3790893554688  40.7527144827315  -73.9929497330124\n",
       "2017-03-15 09:17:50  20.4314556121826  40.7526132433257   -73.993025917284\n",
       "2017-03-15 12:51:07  20.3688335418701  40.7533007543417   -73.993428803096\n",
       "2017-03-15 12:51:08  20.3270587921143  40.7527585459216  -73.9929625751179\n",
       "2017-03-15 12:51:09  20.2355785369873  40.7528093757964  -73.9929419440562\n",
       "2017-03-15 13:37:06  20.0636386871338   40.752704059922   -73.992957108678\n",
       "2017-03-15 13:37:36  20.0192737579346  40.7526967987602  -73.9930271577096\n",
       "2017-03-15 13:37:38  20.0192737579346  40.7527223271365   -73.993051137532\n",
       "2017-03-15 13:37:39  20.7947082519531  40.7527083205439  -73.9931280445997\n",
       "2017-03-15 13:37:40   22.834228515625  40.7526203943796  -73.9930768311713\n",
       "2017-03-15 13:37:41  34.1956787109375  40.7526524132497  -73.9929392003212\n",
       "2017-03-15 16:44:07  20.1808567047119  40.7525597797921  -73.9930964540879\n",
       "2017-03-15 16:44:08  20.3412780761719  40.7526974161133  -73.9930328143927\n",
       "2017-03-15 16:44:19  20.4880065917969   40.752802176071  -73.9929560724585\n",
       "2017-03-15 16:44:20  20.4237689971924  40.7527309890565  -73.9930446325692\n",
       "2017-03-15 17:54:46  15.4755754470825   40.751149203034  -73.9924789668258\n",
       "2017-03-16 09:29:04   19.738073348999   40.752821093653  -73.9929230361739\n",
       "2017-03-16 09:29:27  20.1401271820068  40.7527743926915  -73.9929218065506\n",
       "2017-03-16 12:46:42  20.1401271820068  40.7527743926915  -73.9929218065506\n",
       "2017-03-16 12:46:43  20.0059261322021  40.7527292843222  -73.9929708460633\n",
       "2017-03-16 12:46:55  20.0059261322021  40.7527386447807  -73.9929753722527\n",
       "2017-03-16 12:46:56  20.0054969787598  40.7527284514453  -73.9929843684621\n",
       "2017-03-16 12:46:57  19.6851463317871   40.752874061186  -73.9928514485932\n",
       "2017-03-16 15:24:29  20.0497131347656  40.7526627170903  -73.9929900831019\n",
       "2017-03-16 15:24:30  20.1091842651367  40.7527364283631  -73.9929435097882\n",
       "\n",
       "[3348 rows x 3 columns]"
      ]
     },
     "execution_count": 4,
     "metadata": {},
     "output_type": "execute_result"
    }
   ],
   "source": [
    "# Load the data from the database\n",
    "reader = kdb.Reader('knowhere')\n",
    "emil_H_data = reader.get_dataframe_pivoted(collection='iphone_test',username='emil',sensor='GPS')\n",
    "emil_H_data = emil_H_data[['GPS (Altitude)','GPS (Latitude)','GPS (Longitude)']]\n",
    "glen_H_data = reader.get_dataframe_pivoted(collection='iphone_test',username='glen',sensor='GPS')\n",
    "glen_H_data = glen_H_data[['GPS (Altitude)','GPS (Latitude)','GPS (Longitude)']]\n",
    "glen_H_data"
   ]
  },
  {
   "cell_type": "code",
<<<<<<< HEAD
=======
   "execution_count": null,
   "metadata": {
    "collapsed": false
   },
   "outputs": [],
   "source": [
    "glen_H_data"
   ]
  },
  {
   "cell_type": "code",
>>>>>>> e3c2aad263d790769b77b6d7120caff64a2039a5
   "execution_count": 7,
   "metadata": {
    "collapsed": false,
    "deletable": true,
    "editable": true
   },
   "outputs": [],
   "source": [
    "# Scale the data from the DB\n",
    "emil_H_data = preprocessing.scale(emil_H_data)\n",
    "glen_H_data = preprocessing.scale(glen_H_data)"
   ]
  },
  {
   "cell_type": "code",
   "execution_count": 6,
   "metadata": {
    "collapsed": false,
    "deletable": true,
    "editable": true
   },
   "outputs": [
    {
     "data": {
      "text/plain": [
       "AgglomerativeClustering(affinity='euclidean', compute_full_tree='auto',\n",
       "            connectivity=None, linkage='ward',\n",
       "            memory=Memory(cachedir=None), n_clusters=4,\n",
       "            pooling_func=<function mean at 0x03D78830>)"
      ]
     },
     "execution_count": 6,
     "metadata": {},
     "output_type": "execute_result"
    }
   ],
   "source": [
    "# train the model for Emil\n",
    "emil_H_031717 = AgglomerativeClustering()\n",
    "emil_H_031717.set_params(n_clusters = 4)\n",
    "emil_H_031717.fit(emil_H_data)"
   ]
  },
  {
   "cell_type": "code",
   "execution_count": 7,
   "metadata": {
    "collapsed": false,
    "deletable": true,
    "editable": true
   },
   "outputs": [
    {
     "data": {
      "text/plain": [
       "AgglomerativeClustering(affinity='euclidean', compute_full_tree='auto',\n",
       "            connectivity=None, linkage='ward',\n",
       "            memory=Memory(cachedir=None), n_clusters=4,\n",
       "            pooling_func=<function mean at 0x03D78830>)"
      ]
     },
     "execution_count": 7,
     "metadata": {},
     "output_type": "execute_result"
    }
   ],
   "source": [
    "# train the model for Glen\n",
    "glen_H_031717 = AgglomerativeClustering()\n",
    "glen_H_031717.set_params(n_clusters = 4)\n",
    "glen_H_031717.fit(glen_H_data)"
   ]
  },
  {
   "cell_type": "code",
   "execution_count": null,
   "metadata": {
    "collapsed": true,
    "deletable": true,
    "editable": true
   },
   "outputs": [],
   "source": [
    "# Pickle the model for Emil\n",
    "pickle_emil_H_031717 = pickle.dumps(emil_H_031717)"
   ]
  },
  {
   "cell_type": "code",
   "execution_count": null,
   "metadata": {
    "collapsed": true,
    "deletable": true,
    "editable": true
   },
   "outputs": [],
   "source": [
    "# Load the file from the pickle\n",
    "emil_H_031717 = pickle.loads(pickle_emil_H_031717)"
   ]
  },
  {
   "cell_type": "code",
   "execution_count": null,
   "metadata": {
    "collapsed": true,
    "deletable": true,
    "editable": true
   },
   "outputs": [],
   "source": [
    "# Pickle the model for Glen\n",
    "pickle_glen_H_031717 = pickle.dumps(glen_H_031717)"
   ]
  },
  {
   "cell_type": "code",
   "execution_count": null,
   "metadata": {
    "collapsed": true,
    "deletable": true,
    "editable": true
   },
   "outputs": [],
   "source": [
    "# Load the file from the pickle\n",
    "glen_H_031717 = pickle.loads(pickle_glen_H_031717)"
   ]
  },
  {
   "cell_type": "code",
   "execution_count": 3,
   "metadata": {
    "collapsed": true,
    "deletable": true,
    "editable": true
   },
   "outputs": [],
   "source": [
    "# build uploader\n",
    "uploader = kdb.S3('knowhere')"
   ]
  },
  {
   "cell_type": "code",
   "execution_count": 8,
   "metadata": {
    "collapsed": false
   },
   "outputs": [],
   "source": [
    "# Upload models to s3 and db\n",
    "uploader.upload_to_s3('emil', 'H', emil_H_031717, 'emil_H_031717', 'knowhere-data', 'models')\n",
    "uploader.upload_to_s3('glen', 'H', glen_H_031717, 'glen_H_031717', 'knowhere-data', 'models')"
   ]
  },
  {
   "cell_type": "code",
   "execution_count": 5,
   "metadata": {
    "collapsed": false
   },
   "outputs": [],
   "source": [
    "# Download models from s3\n",
    "# getting all models for a user\n",
    "emil_H_model = uploader.retrieve_from_s3('emil', model_type='H', bucket='knowhere-data', collection='models')\n",
    "# getting a specific model for a user\n",
    "glen_H_model = uploader.retrieve_from_s3('glen', model_type='H', bucket='knowhere-data', collection='models')"
   ]
  },
  {
   "cell_type": "code",
   "execution_count": 9,
   "metadata": {
    "collapsed": false
   },
   "outputs": [
    {
     "data": {
      "text/plain": [
       "AgglomerativeClustering(affinity='euclidean', compute_full_tree='auto',\n",
       "            connectivity=None, linkage='ward',\n",
       "            memory=Memory(cachedir=None), n_clusters=4,\n",
       "            pooling_func=<function mean at 0x03E8E830>)"
      ]
     },
     "execution_count": 9,
     "metadata": {},
     "output_type": "execute_result"
    }
   ],
   "source": []
  },
  {
   "cell_type": "code",
   "execution_count": 11,
   "metadata": {
    "collapsed": false
   },
   "outputs": [
    {
     "data": {
      "text/plain": [
       "array([0, 0, 0, ..., 2, 2, 0])"
      ]
     },
     "execution_count": 11,
     "metadata": {},
     "output_type": "execute_result"
    }
   ],
   "source": [
    "# Makeing Predictions\n",
    "emil_H_model.fit_predict(emil_H_data)"
   ]
  },
  {
   "cell_type": "code",
   "execution_count": 12,
   "metadata": {
    "collapsed": false
   },
   "outputs": [
    {
     "data": {
      "text/plain": [
       "array([1, 1, 1, ..., 1, 1, 1])"
      ]
     },
     "execution_count": 12,
     "metadata": {},
     "output_type": "execute_result"
    }
   ],
   "source": [
    "glen_H_model.fit_predict(glen_H_data)"
   ]
  }
 ],
 "metadata": {
  "kernelspec": {
   "display_name": "Python 2",
   "language": "python",
   "name": "python2"
  },
  "language_info": {
   "codemirror_mode": {
    "name": "ipython",
    "version": 2
   },
   "file_extension": ".py",
   "mimetype": "text/x-python",
   "name": "python",
   "nbconvert_exporter": "python",
   "pygments_lexer": "ipython2",
   "version": "2.7.6"
  }
 },
 "nbformat": 4,
 "nbformat_minor": 2
}
