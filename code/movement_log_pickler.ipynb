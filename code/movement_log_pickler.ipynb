{
 "cells": [
  {
   "cell_type": "code",
   "execution_count": 2,
   "metadata": {
    "collapsed": false,
    "deletable": true,
    "editable": true
   },
   "outputs": [],
   "source": [
    "import pickle"
   ]
  },
  {
   "cell_type": "markdown",
   "metadata": {
    "deletable": true,
    "editable": true
   },
   "source": [
    "### Glen's Commuting Labels"
   ]
  },
  {
   "cell_type": "code",
   "execution_count": 3,
   "metadata": {
    "collapsed": true,
    "deletable": true,
    "editable": true
   },
   "outputs": [],
   "source": [
    "glen_3_20_morning = [(\"7:33:33\", \"D\"),(\"7:41:55\", \"W\"),(\"7:49:01\", \"D\"),(\"7:52:45\",\"W\"),(\"7:55:45\", \"S_D\"),\n",
    "                    (\"7:55:53\", \"P_W\"),(\"7:56:53\", \"P_S\"),(\"8:00:23\", \"T_B\"), (\"8:16:15\", \"T_T\"),(\"8:21:05\", \"T_B\"),\n",
    "                    (\"8:30:30\", \"T_E\"),(\"8:31:15\", \"S_U\"),(\"8:31:20\",\"W\"),(\"8:32:05\", \"S_U\"),(\"8:32:10\",\"W\"),\n",
    "                    (\"8:32:35\", \"S_U\"),(\"8:32:50\", \"W\"),(\"8:36:40\", \"E_U\"),(\"8:37:50\", \"W\"),(\"8:30:10\", \"W\")]"
   ]
  },
  {
   "cell_type": "code",
   "execution_count": 4,
   "metadata": {
    "collapsed": false,
    "deletable": true,
    "editable": true
   },
   "outputs": [],
   "source": [
    "glen_3_20_evening = [(\"20:05:55\",\"W\"),(\"20:06:30\",\"E_D\"),(\"20:07:05\",\"W\"),(\"20:13:00\",\"S\"),(\"20:27:25\",\"T_D\"),\n",
    "                    (\"20:36:50\",\"T_S\"),(\"20:38:14\",\"T_D\"),(\"20:44:10\",\"T_S\"),(\"20:44:10\",\"T_S\"),(\"20:45:15\",\"T_D\"),\n",
    "                    (\"20:46:51\",\"T_S\"),(\"20:47:50\",\"T_D\"),(\"20:49:15\",\"T_S\"),(\"20:50:50\",\"T_D\"),(\"20:51:15\",\"T_S\"),\n",
    "                     (\"20:54:04\",\"T_D\"),(\"20:53:59\",\"T_E\"),(\"20:54:50\",\"S_U\"),(\"20:55:05\",\"W\"),(\"20:57:05\",\"D\"),\n",
    "                     (\"21:08:45\",\"W\")]"
   ]
  },
  {
   "cell_type": "code",
   "execution_count": 5,
   "metadata": {
    "collapsed": false,
    "deletable": true,
    "editable": true
   },
   "outputs": [],
   "source": [
    "glen_3_21_morning = [(\"7:33:10\",  \"W\"),(\"7:34:15\",\"D\"),(\"7:48:15\", \"W\"),(\"7:50:30\",\"D\"),\n",
    "                     (\"7:55:30\",  \"W\"),(\"8:01:05\",\"T_D\"),(\"8:17:15\",\"T_S\"),(\"8:20:15\",\"T_D\"),\n",
    "                     (\"8:28:20\",\"T_E\"),(\"8:28:20\",  \"W\"),(\"8:35:30\",\"E_U\"),(\"8:35:50\", \"W\")]"
   ]
  },
  {
   "cell_type": "code",
   "execution_count": 6,
   "metadata": {
    "collapsed": false,
    "deletable": true,
    "editable": true
   },
   "outputs": [],
   "source": [
    "glen_3_21_evening = [(\"19:00:00\", \"W\"), (\"19:08:05\", \"S\"), (\"19:15:27\", \"T_D\"), (\"19:24:05\", \"T_S\"),\n",
    "                    (\"19:24:50\", \"T_D\"), (\"19:32:39\", \"T_S\"), (\"19:33:49\", \"T_D\"), (\"19:35:28\", \"T_S\"),\n",
    "                    (\"19:36:10\", \"T_D\"), (\"19:37:44\", \"T_S\"), (\"19:38:38\", \"T_D\"), (\"19:39:59\", \"T_S\"),\n",
    "                    (\"19:40:36\", \"T_D\"), (\"19:42:21\", \"T_S\"), (\"19:42:26\", \"W\"), (\"19:48:27\", \"D\"),\n",
    "                     (\"19:59:55\", \"W\")]"
   ]
  },
  {
   "cell_type": "code",
   "execution_count": 7,
   "metadata": {
    "collapsed": true,
    "deletable": true,
    "editable": true
   },
   "outputs": [],
   "source": [
    "glen_3_22_morning = [(\"7:40:20\", \"D\"),(\"7:41:55\", \"D\"),(\"7:52:52\", \"W\"),(\"7:55:18\",\"S\"),(\"8:01:20\", \"T_D\"),\n",
    "                    (\"8:14:00\", \"T_T\"),(\"8:17:00\", \"T_D\"),(\"8:25:59\", \"T_E\"), (\"8:26:04\", \"W\"),(\"8:33:27\", \"E_U\"),\n",
    "                    (\"8:34:31\", \"W\")]"
   ]
  },
  {
   "cell_type": "code",
   "execution_count": 8,
   "metadata": {
    "collapsed": true,
    "deletable": true,
    "editable": true
   },
   "outputs": [],
   "source": [
    "glen_3_22_evening = [(\"20:29:15\", \"W\"),(\"20:32:40\", \"E_D\"),(\"20:33:15\",\"W\"),(\"20:49:16\",\"T_D\"),(\"20:58:37\",\"T_S\"),\n",
    "                    (\"20:59:05\",\"T_D\"),(\"21:06:08\",\"T_S\"),(\"21:07:03\",\"T_D\"),(\"21:08:50\",\"T_S\"),(\"21:09:28\",\"T_D\"),\n",
    "                    (\"21:10:48\",\"T_S\"),(\"21:11:21\",\"T_D\"),(\"21:12:50\",\"T_S\"),(\"21:13:24\",\"T_D\"),(\"21:15:09\",\"T_S\"),\n",
    "                    (\"21:16:35\", \"D\"), (\"21:32:45\", \"W\")]"
   ]
  },
  {
   "cell_type": "code",
   "execution_count": 9,
   "metadata": {
    "collapsed": true,
    "deletable": true,
    "editable": true
   },
   "outputs": [],
   "source": [
    "glen_3_23_morning = [(\"07:22:41\",\"W\"), (\"8:01:15\",\"T_D\"), (\"8:13:31\", \"T_S\"), (\"8:17:44\", \"T_D\"),\n",
    "                    (\"8:27:46\", \"T_E\"), (\"8:27:51\", \"W\"), (\"8:33:29\", \"E_U\"), (\"8:34:05\", \"W\")]"
   ]
  },
  {
   "cell_type": "code",
   "execution_count": 10,
   "metadata": {
    "collapsed": true,
    "deletable": true,
    "editable": true
   },
   "outputs": [],
   "source": [
    "glen_3_23_evening = [(\"19:42:55\",\"W\"),(\"19:43:57\", \"E_D\"),(\"19:45:08\",\"W\"),(\"20:08:55\",\"S\"),(\"20:29:00\",\"W\"),\n",
    "                    (\"20:33:20\",\"S\"),(\"20:51:10\",\"T_D\"),(\"21:01:27\",\"T_S\"),(\"21:02:35\",\"T_D\"),(\"21:08:06\",\"T_S\"),\n",
    "                    (\"21:09:29\",\"T_D\"),(\"21:11:16\",\"T_S\"),(\"21:12:14\",\"T_D\"),(\"21:14:01\",\"T_S\"),(\"21:15:05\",\"T_D\"),\n",
    "                    (\"21:16:25\",\"T_S\"),(\"21:17:24\", \"T_D\"),(\"21:19:30\", \"T_E\"), (\"21:19:35\", \"W\"),\n",
    "                    (\"21:21:35\",\"D\")]"
   ]
  },
  {
   "cell_type": "code",
   "execution_count": 11,
   "metadata": {
    "collapsed": true,
    "deletable": true,
    "editable": true
   },
   "outputs": [],
   "source": [
    "glen_3_24_morning =  [(\"06:31:10\",\"W\"), (\"06:32:45\",\"D\"), (\"06:44:00\", \"W\"), (\"07:01:05\", \"S\"),\n",
    "                      (\"07:03:50\", \"T_D\"), (\"07:26:09\", \"T_E\"), (\"07:32:29\", \"E_U\"), (\"07:33:05\", \"W\")]"
   ]
  },
  {
   "cell_type": "code",
   "execution_count": 12,
   "metadata": {
    "collapsed": false,
    "deletable": true,
    "editable": true
   },
   "outputs": [],
   "source": [
    "#Combine all lists into a single dictionary\n",
    "glen_commute_labels = {'2017-3-20': glen_3_20_morning + glen_3_20_evening, '2017-3-21': glen_3_21_morning +\\\n",
    "                       glen_3_21_evening, '2017-3-22': glen_3_22_morning + glen_3_22_evening, '2017-3-23':\\\n",
    "                       glen_3_23_morning + glen_3_23_evening, '2017-3-24':glen_3_24_morning}"
   ]
  },
  {
   "cell_type": "code",
   "execution_count": 13,
   "metadata": {
    "collapsed": false,
    "deletable": true,
    "editable": true
   },
   "outputs": [],
   "source": [
    "#write out dictionary containing all of glen's commute info into a pickle file\n",
    "pickle.dump(glen_commute_labels, open(\"glen_commute_labels.p\", \"wb\"))"
   ]
  },
  {
   "cell_type": "markdown",
   "metadata": {
    "collapsed": true,
    "deletable": true,
    "editable": true
   },
   "source": [
    "## Andrew's Commuting Labels"
   ]
  },
  {
   "cell_type": "code",
   "execution_count": 14,
   "metadata": {
    "collapsed": true
   },
   "outputs": [],
   "source": [
    "andrew_3_19_morning = [(\"10:10:01\", \"W\"), (\"10:19:00\", \"T_B\"), (\"10:27:00\", \"T_E\"), (\"10:28:00\", \"P_W\"), \n",
    "                     (\"10:31:00\", \"T_B\"), (\"10:32:00\", \"T_S\"), (\"10:35:00\", \"T_S\"), (\"10:38:00\", \"T_E\"), \n",
    "                     (\"10:39:00\", \"W\")]"
   ]
  },
  {
   "cell_type": "code",
   "execution_count": 15,
   "metadata": {
    "collapsed": true
   },
   "outputs": [],
   "source": [
    "andrew_3_19_evening = [(\"18:12:00\", \"W\"), (\"18:14:50\", \"E_D\"), (\"18:15:27\", \"W\"), (\"18:16:18\", \"D_S\"),\n",
    "                      (\"18:16:33\", \"W\"), (\"18:18:29\", \"T_D\"), (\"18:20:09\", \"T_S\"), (\"18:20:39\", \"T_D\"),\n",
    "                      (\"18:21:49\", \"T_S\"), (\"18:22:19\", \"T_D\"), (\"18:24:13\", \"T_S\"), (\"18:24:43\", \"T_D\"),\n",
    "                      (\"18:26:16\", \"T_S\"), (\"18:26:46\", \"T_D\"), (\"18:27:55\", \"T_S\"), (\"18:28:25\", \"T_D\"),\n",
    "                      (\"18:29:23\", \"T_S\"), (\"18:29:53\", \"T_D\"), (\"18:31:01\", \"T_S\"), (\"18:31:31\", \"T_D\"),\n",
    "                      (\"18:32:22\", \"T_S\"), (\"18:32:52\", \"T_D\"), (\"18:33:45\", \"T_S\"), (\"18:34:15\", \"T_D\"),\n",
    "                      (\"18:35:11\", \"T_S\"), (\"18:35:41\", \"T_D\"), (\"18:36:54\", \"T_S\"), (\"18:37:04\", \"W\"),\n",
    "                      (\"18:37:22\", \"U_S\"), (\"18:37:32\", \"W\"), (\"18:38:02\", \"U_S\"), (\"18:38:17\", \"W\")]"
   ]
  },
  {
   "cell_type": "code",
   "execution_count": 16,
   "metadata": {
    "collapsed": true
   },
   "outputs": [],
   "source": [
    "andrew_3_20_morning = [(\"08:26:00\", \"S\"), (\"08:27:40\", \"W\"), (\"08:32:25\", \"D_S\"), (\"08:33:14\", \"W\"),\n",
    "                      (\"08:38:25\", \"D_S\"), (\"08:38:40\", \"W\"), (\"08:41:27\", \"S\"), (\"08:43:20\", \"T_D\"), \n",
    "                      (\"08:51:54\", \"T_T\"), (\"08:52:04\", \"S\"), (\"08:53:59\", \"T_D\"), (\"08:54:54\", \"T_S\"),\n",
    "                       (\"08:55:36\", \"T_D\"), (\"08:57:35\", \"T_S\"), (\"08:58:27\", \"T_D\"), (\"08:59:27\", \"T_S\"),\n",
    "                       (\"08:59:37\", \"W\"), (\"08:59:50\", \"U_S\"), (\"09:00:06\", \"W\"), (\"09:00:16\", \"U_S\"), \n",
    "                       (\"09:01:08\", \"W\"), (\"09:03:20\", \"E_U\"), (\"09:04:52\", \"W\")]"
   ]
  },
  {
   "cell_type": "code",
   "execution_count": 17,
   "metadata": {
    "collapsed": true
   },
   "outputs": [],
   "source": [
    "andrew_3_20_evening = [(\"21:12:00\", \"W\"), (\"21:17:08\", \"E_D\"), (\"21:21:00\", \"T_D\"), (\"21:22:15\", \"T_S\"),\n",
    "                      (\"21:22:45\", \"T_D\"), (\"21:25:15\", \"T_S\"), (\"21:25:45\", \"T_D\"), (\"21:33:30\", \"T_S\"), \n",
    "                       (\"21:33:35\", \"W\"), (\"21:34:57\", \"U_S\"), (\"21:35:10\", \"W\"), (\"21:35:55\", \"U_S\"), \n",
    "                       (\"21:35:16\", \"W\")]"
   ]
  },
  {
   "cell_type": "code",
   "execution_count": 18,
   "metadata": {
    "collapsed": true
   },
   "outputs": [],
   "source": [
    "andrew_3_21_morning = [(\"08:49:00\", \"T_D\"), (\"08:59:52\", \"T_S\"), (\"09:00:02\", \"W\"), (\"09:02:00\", \"S\"), \n",
    "                       (\"09:04:29\", \"T_D\"), (\"09:07:06\", \"T_D\"), (\"09:08:07\", \"T_S\"), (\"09:08:12\", \"W\")]"
   ]
  },
  {
   "cell_type": "code",
   "execution_count": 19,
   "metadata": {
    "collapsed": true
   },
   "outputs": [],
   "source": [
    "andrew_3_21_evening = [(\"17:39:00\", \"T_D\"), (\"17:40:30\", \"T_S\"), (\"17:40:59\", \"T_D\"), (\"17:44:27\", \"T_S\"),\n",
    "                      (\"17:44:57\", \"T_D\"), (\"17:47:50\", \"T_S\"), (\"17:47:55\", \"W\"), (\"17:50:31\", \"E_D\"), \n",
    "                      (\"17:50:57\", \"W\"), (\"17:52:48\", \"T_D\"), (\"17:54:26\", \"T_S\"), (\"17:54:44\", \"T_D\"),\n",
    "                       (\"17:56:00\", \"T_S\"), (\"17:56:20\", \"T_D\"), (\"17:57:27\", \"T_S\"), (\"17:57:47\", \"T_D\"),\n",
    "                       (\"17:59:13\", \"T_S\"), (\"17:59:33\", \"T_D\"), (\"18:00:46\", \"T_S\"), (\"18:01:06\", \"T_D\"), \n",
    "                       (\"18:02:28\", \"T_S\"), (\"18:02:33\", \"W\")]"
   ]
  },
  {
   "cell_type": "code",
   "execution_count": 20,
   "metadata": {
    "collapsed": false
   },
   "outputs": [],
   "source": [
    "#Combine all lists into a single dictionary\n",
    "andrew_commute_labels = {'2017-3-19M': andrew_3_19_morning, '2017-3-19E': andrew_3_19_evening, \n",
    "                         '2017-3-20M': andrew_3_20_morning, '2017-3-20E': andrew_3_20_evening,\n",
    "                         '2017-3-21M': andrew_3_21_morning, '2017-3-21E': andrew_3_21_evening}"
   ]
  },
  {
   "cell_type": "code",
   "execution_count": 21,
   "metadata": {
    "collapsed": false
   },
   "outputs": [],
   "source": [
    "pickle.dump(andrew_commute_labels, open(\"andrew_commute_labels.p\", \"wb\"))"
   ]
  },
  {
   "cell_type": "code",
   "execution_count": null,
   "metadata": {
    "collapsed": true
   },
   "outputs": [],
   "source": []
  }
 ],
 "metadata": {
  "anaconda-cloud": {},
  "kernelspec": {
   "display_name": "Python [conda root]",
   "language": "python",
   "name": "conda-root-py"
  },
  "language_info": {
   "codemirror_mode": {
    "name": "ipython",
    "version": 2
   },
   "file_extension": ".py",
   "mimetype": "text/x-python",
   "name": "python",
   "nbconvert_exporter": "python",
   "pygments_lexer": "ipython2",
   "version": "2.7.13"
  }
 },
 "nbformat": 4,
 "nbformat_minor": 2
}
