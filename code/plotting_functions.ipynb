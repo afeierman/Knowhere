{
 "cells": [
  {
   "cell_type": "code",
   "execution_count": 1,
   "metadata": {
    "collapsed": false
   },
   "outputs": [],
   "source": [
    "import pymongo\n",
    "import pandas as pd\n",
    "import json\n",
    "import db.knowhere_db as kdb"
   ]
  },
  {
   "cell_type": "code",
   "execution_count": 2,
   "metadata": {
    "collapsed": false
   },
   "outputs": [
    {
     "data": {
      "text/html": [
       "<div>\n",
       "<table border=\"1\" class=\"dataframe\">\n",
       "  <thead>\n",
       "    <tr style=\"text-align: right;\">\n",
       "      <th></th>\n",
       "      <th>Altimeter (Barometer) Relative Altitude</th>\n",
       "      <th>Altimeter (Barometer) Pressure</th>\n",
       "      <th>Gravity z</th>\n",
       "      <th>Gravity y</th>\n",
       "      <th>Gravity x</th>\n",
       "      <th>Magnetometer z</th>\n",
       "      <th>Magnetometer x</th>\n",
       "      <th>Magnetometer y</th>\n",
       "      <th>Microphone Left Channel Level</th>\n",
       "      <th>Microphone Right Channel Level</th>\n",
       "      <th>...</th>\n",
       "      <th>Gyrometer y</th>\n",
       "      <th>Gyrometer x</th>\n",
       "      <th>Acceleration z</th>\n",
       "      <th>Acceleration x</th>\n",
       "      <th>Acceleration y</th>\n",
       "      <th>GPS Horizontal Accuracy</th>\n",
       "      <th>GPS Longitude</th>\n",
       "      <th>GPS Vertical Accuracy</th>\n",
       "      <th>GPS Latitude</th>\n",
       "      <th>GPS Altitude</th>\n",
       "    </tr>\n",
       "  </thead>\n",
       "  <tbody>\n",
       "    <tr>\n",
       "      <th>2017-03-19 00:00:00</th>\n",
       "      <td>-6.153217</td>\n",
       "      <td>101.490303</td>\n",
       "      <td>NaN</td>\n",
       "      <td>NaN</td>\n",
       "      <td>NaN</td>\n",
       "      <td>NaN</td>\n",
       "      <td>NaN</td>\n",
       "      <td>NaN</td>\n",
       "      <td>NaN</td>\n",
       "      <td>NaN</td>\n",
       "      <td>...</td>\n",
       "      <td>NaN</td>\n",
       "      <td>NaN</td>\n",
       "      <td>NaN</td>\n",
       "      <td>NaN</td>\n",
       "      <td>NaN</td>\n",
       "      <td>NaN</td>\n",
       "      <td>NaN</td>\n",
       "      <td>NaN</td>\n",
       "      <td>NaN</td>\n",
       "      <td>NaN</td>\n",
       "    </tr>\n",
       "    <tr>\n",
       "      <th>2017-03-19 00:00:01</th>\n",
       "      <td>-6.099997</td>\n",
       "      <td>101.489655</td>\n",
       "      <td>NaN</td>\n",
       "      <td>NaN</td>\n",
       "      <td>NaN</td>\n",
       "      <td>-410.546692</td>\n",
       "      <td>2.057312</td>\n",
       "      <td>32.325836</td>\n",
       "      <td>-39.9762</td>\n",
       "      <td>-39.9762</td>\n",
       "      <td>...</td>\n",
       "      <td>NaN</td>\n",
       "      <td>NaN</td>\n",
       "      <td>NaN</td>\n",
       "      <td>NaN</td>\n",
       "      <td>NaN</td>\n",
       "      <td>NaN</td>\n",
       "      <td>NaN</td>\n",
       "      <td>NaN</td>\n",
       "      <td>NaN</td>\n",
       "      <td>NaN</td>\n",
       "    </tr>\n",
       "    <tr>\n",
       "      <th>2017-03-19 00:00:02</th>\n",
       "      <td>-6.099997</td>\n",
       "      <td>101.489655</td>\n",
       "      <td>NaN</td>\n",
       "      <td>NaN</td>\n",
       "      <td>NaN</td>\n",
       "      <td>NaN</td>\n",
       "      <td>NaN</td>\n",
       "      <td>NaN</td>\n",
       "      <td>NaN</td>\n",
       "      <td>NaN</td>\n",
       "      <td>...</td>\n",
       "      <td>NaN</td>\n",
       "      <td>NaN</td>\n",
       "      <td>NaN</td>\n",
       "      <td>NaN</td>\n",
       "      <td>NaN</td>\n",
       "      <td>NaN</td>\n",
       "      <td>NaN</td>\n",
       "      <td>NaN</td>\n",
       "      <td>NaN</td>\n",
       "      <td>NaN</td>\n",
       "    </tr>\n",
       "    <tr>\n",
       "      <th>2017-03-19 00:00:03</th>\n",
       "      <td>-6.111042</td>\n",
       "      <td>101.489799</td>\n",
       "      <td>NaN</td>\n",
       "      <td>NaN</td>\n",
       "      <td>NaN</td>\n",
       "      <td>NaN</td>\n",
       "      <td>NaN</td>\n",
       "      <td>NaN</td>\n",
       "      <td>NaN</td>\n",
       "      <td>NaN</td>\n",
       "      <td>...</td>\n",
       "      <td>NaN</td>\n",
       "      <td>NaN</td>\n",
       "      <td>NaN</td>\n",
       "      <td>NaN</td>\n",
       "      <td>NaN</td>\n",
       "      <td>NaN</td>\n",
       "      <td>NaN</td>\n",
       "      <td>NaN</td>\n",
       "      <td>NaN</td>\n",
       "      <td>NaN</td>\n",
       "    </tr>\n",
       "    <tr>\n",
       "      <th>2017-03-19 00:00:04</th>\n",
       "      <td>-6.135143</td>\n",
       "      <td>101.490089</td>\n",
       "      <td>-0.99922</td>\n",
       "      <td>-0.000682</td>\n",
       "      <td>-0.039473</td>\n",
       "      <td>NaN</td>\n",
       "      <td>NaN</td>\n",
       "      <td>NaN</td>\n",
       "      <td>NaN</td>\n",
       "      <td>NaN</td>\n",
       "      <td>...</td>\n",
       "      <td>-0.019549</td>\n",
       "      <td>0.031855</td>\n",
       "      <td>-0.013322</td>\n",
       "      <td>-0.000673</td>\n",
       "      <td>-0.00005</td>\n",
       "      <td>NaN</td>\n",
       "      <td>NaN</td>\n",
       "      <td>NaN</td>\n",
       "      <td>NaN</td>\n",
       "      <td>NaN</td>\n",
       "    </tr>\n",
       "  </tbody>\n",
       "</table>\n",
       "<p>5 rows × 21 columns</p>\n",
       "</div>"
      ],
      "text/plain": [
       "                     Altimeter (Barometer) Relative Altitude  \\\n",
       "2017-03-19 00:00:00                                -6.153217   \n",
       "2017-03-19 00:00:01                                -6.099997   \n",
       "2017-03-19 00:00:02                                -6.099997   \n",
       "2017-03-19 00:00:03                                -6.111042   \n",
       "2017-03-19 00:00:04                                -6.135143   \n",
       "\n",
       "                     Altimeter (Barometer) Pressure  Gravity z  Gravity y  \\\n",
       "2017-03-19 00:00:00                      101.490303        NaN        NaN   \n",
       "2017-03-19 00:00:01                      101.489655        NaN        NaN   \n",
       "2017-03-19 00:00:02                      101.489655        NaN        NaN   \n",
       "2017-03-19 00:00:03                      101.489799        NaN        NaN   \n",
       "2017-03-19 00:00:04                      101.490089   -0.99922  -0.000682   \n",
       "\n",
       "                     Gravity x  Magnetometer z  Magnetometer x  \\\n",
       "2017-03-19 00:00:00        NaN             NaN             NaN   \n",
       "2017-03-19 00:00:01        NaN     -410.546692        2.057312   \n",
       "2017-03-19 00:00:02        NaN             NaN             NaN   \n",
       "2017-03-19 00:00:03        NaN             NaN             NaN   \n",
       "2017-03-19 00:00:04  -0.039473             NaN             NaN   \n",
       "\n",
       "                     Magnetometer y  Microphone Left Channel Level  \\\n",
       "2017-03-19 00:00:00             NaN                            NaN   \n",
       "2017-03-19 00:00:01       32.325836                       -39.9762   \n",
       "2017-03-19 00:00:02             NaN                            NaN   \n",
       "2017-03-19 00:00:03             NaN                            NaN   \n",
       "2017-03-19 00:00:04             NaN                            NaN   \n",
       "\n",
       "                     Microphone Right Channel Level      ...       \\\n",
       "2017-03-19 00:00:00                             NaN      ...        \n",
       "2017-03-19 00:00:01                        -39.9762      ...        \n",
       "2017-03-19 00:00:02                             NaN      ...        \n",
       "2017-03-19 00:00:03                             NaN      ...        \n",
       "2017-03-19 00:00:04                             NaN      ...        \n",
       "\n",
       "                     Gyrometer y  Gyrometer x  Acceleration z  Acceleration x  \\\n",
       "2017-03-19 00:00:00          NaN          NaN             NaN             NaN   \n",
       "2017-03-19 00:00:01          NaN          NaN             NaN             NaN   \n",
       "2017-03-19 00:00:02          NaN          NaN             NaN             NaN   \n",
       "2017-03-19 00:00:03          NaN          NaN             NaN             NaN   \n",
       "2017-03-19 00:00:04    -0.019549     0.031855       -0.013322       -0.000673   \n",
       "\n",
       "                     Acceleration y  GPS Horizontal Accuracy  GPS Longitude  \\\n",
       "2017-03-19 00:00:00             NaN                      NaN            NaN   \n",
       "2017-03-19 00:00:01             NaN                      NaN            NaN   \n",
       "2017-03-19 00:00:02             NaN                      NaN            NaN   \n",
       "2017-03-19 00:00:03             NaN                      NaN            NaN   \n",
       "2017-03-19 00:00:04        -0.00005                      NaN            NaN   \n",
       "\n",
       "                     GPS Vertical Accuracy  GPS Latitude  GPS Altitude  \n",
       "2017-03-19 00:00:00                    NaN           NaN           NaN  \n",
       "2017-03-19 00:00:01                    NaN           NaN           NaN  \n",
       "2017-03-19 00:00:02                    NaN           NaN           NaN  \n",
       "2017-03-19 00:00:03                    NaN           NaN           NaN  \n",
       "2017-03-19 00:00:04                    NaN           NaN           NaN  \n",
       "\n",
       "[5 rows x 21 columns]"
      ]
     },
     "execution_count": 2,
     "metadata": {},
     "output_type": "execute_result"
    }
   ],
   "source": [
    "reader = kdb.Reader(db_name='knowhere')\n",
    "data = reader.get_dataframe_pivoted('iphone_test3', username='emil', \n",
    "                                    min_date = '2017-03-19', max_date = '2017-03-20')\n",
    "data.head()"
   ]
  },
  {
   "cell_type": "markdown",
   "metadata": {
    "collapsed": false
   },
   "source": [
    "### Plotting Functions"
   ]
  },
  {
   "cell_type": "code",
   "execution_count": 3,
   "metadata": {
    "collapsed": true
   },
   "outputs": [],
   "source": [
    "import numpy as np\n",
    "import matplotlib.pyplot as plt\n",
    "%matplotlib inline\n",
    "import seaborn\n",
    "from datetime import datetime"
   ]
  },
  {
   "cell_type": "code",
   "execution_count": 4,
   "metadata": {
    "collapsed": false
   },
   "outputs": [],
   "source": [
    "def get_daily_data(day, user_id = kdb.ObjectId('58c5b91d71a9e82f33ad1669'), sensor = \"GPS\", collection = \"iphone_test\"):\n",
    "    to_plot = reader.get_dataframe_pivoted(collection = collection, user_id = user_id, sensor = sensor)\n",
    "    to_plot = to_plot.ix[day]\n",
    "    to_plot = to_plot.astype(float)\n",
    "    #plt.plot(to_plot['GPS (Latitude)'], to_plot['GPS (Longitude)'], zorder = 2)\n",
    "    plt.scatter(to_plot['GPS (Latitude)'], to_plot['GPS (Longitude)'], zorder = 1, c = to_plot.index)\n",
    "    plt.xlabel(\"Latitude\")\n",
    "    plt.ylabel(\"Longitude\")\n",
    "    plt.title(\"Location Data for %s\" % (day))\n",
    "    "
   ]
  },
  {
   "cell_type": "markdown",
   "metadata": {},
   "source": [
    "### Activity Measurement"
   ]
  },
  {
   "cell_type": "code",
   "execution_count": 5,
   "metadata": {
    "collapsed": false
   },
   "outputs": [],
   "source": [
    "t1 = reader.get_dataframe_pivoted(collection = 'iphone_test', sensor = \"Acceleration\")"
   ]
  },
  {
   "cell_type": "code",
   "execution_count": 6,
   "metadata": {
    "collapsed": false
   },
   "outputs": [],
   "source": [
    "t1 = t1.astype(float)"
   ]
  },
  {
   "cell_type": "code",
   "execution_count": 7,
   "metadata": {
    "collapsed": false
   },
   "outputs": [
    {
     "data": {
      "text/plain": [
       "<matplotlib.axes._subplots.AxesSubplot at 0x7fdbfecac9d0>"
      ]
     },
     "execution_count": 7,
     "metadata": {},
     "output_type": "execute_result"
    },
    {
     "data": {
      "image/png": "[encoded data removed]",
      "text/plain": [
       "<matplotlib.figure.Figure at 0x7fdbfec97e50>"
      ]
     },
     "metadata": {},
     "output_type": "display_data"
    }
   ],
   "source": [
    "t1.plot()"
   ]
  },
  {
   "cell_type": "code",
   "execution_count": 8,
   "metadata": {
    "collapsed": false
   },
   "outputs": [],
   "source": [
    "from math import sqrt\n",
    "\n",
    "accel_mag = []\n",
    "for row in range(len(t1)):\n",
    "    accel_mag.append(sqrt(t1.iloc[row, 0]**2 + t1.iloc[row, 1]**2 + t1.iloc[row, 2]**2))\n",
    "    \n",
    "t1['accel_mag'] = accel_mag"
   ]
  },
  {
   "cell_type": "code",
   "execution_count": 9,
   "metadata": {
    "collapsed": false
   },
   "outputs": [
    {
     "data": {
      "text/plain": [
       "[(0.0, 0.0),\n",
       " (0.125, 0.0056238581540750164),\n",
       " (0.25, 0.006665349193641424),\n",
       " (0.375, 0.007832147830897326),\n",
       " (0.5, 0.01035536041198039),\n",
       " (0.625, 0.016731562068048374),\n",
       " (0.75, 0.03413055050062269),\n",
       " (0.875, 0.08810785514812422),\n",
       " (1.0, 2.7607528240579113)]"
      ]
     },
     "execution_count": 9,
     "metadata": {},
     "output_type": "execute_result"
    }
   ],
   "source": [
    "#check acceleration levels are various percentiles, just to see what's there\n",
    "accel_thresholds = []\n",
    "\n",
    "for quan in np.linspace(0, 1.0, 9):\n",
    "    accel_thresholds.append((quan, t1['accel_mag'].quantile(q=quan)))\n",
    "    \n",
    "accel_thresholds"
   ]
  },
  {
   "cell_type": "code",
   "execution_count": 10,
   "metadata": {
    "collapsed": true
   },
   "outputs": [],
   "source": [
    "#set a threshold based on 1 day of Emil's data, ideally we'll set this based off of all user data\n",
    "activity_threshold = 0.051845671879112265"
   ]
  },
  {
   "cell_type": "code",
   "execution_count": 11,
   "metadata": {
    "collapsed": false
   },
   "outputs": [],
   "source": [
    "def check_single_active(accel_mag, activity_threshold = 0.051845671879112265):\n",
    "    if accel_mag >= activity_threshold:\n",
    "        return 1\n",
    "    else:\n",
    "        return 0\n",
    "    return 0\n"
   ]
  },
  {
   "cell_type": "code",
   "execution_count": 12,
   "metadata": {
    "collapsed": false
   },
   "outputs": [],
   "source": [
    "def check_active(mag_list):\n",
    "    mag_list = list(mag_list)\n",
    "    activity_raw = 0\n",
    "    for active in mag_list:\n",
    "        activity_raw += check_single_active(active)\n",
    "    return float(activity_raw) / len(t1['accel_mag'])"
   ]
  },
  {
   "cell_type": "code",
   "execution_count": 13,
   "metadata": {
    "collapsed": false
   },
   "outputs": [
    {
     "data": {
      "text/plain": [
       "0.18316067886268458"
      ]
     },
     "execution_count": 13,
     "metadata": {},
     "output_type": "execute_result"
    }
   ],
   "source": [
    "check_active(t1['accel_mag'])"
   ]
  },
  {
   "cell_type": "markdown",
   "metadata": {},
   "source": [
    "# Emil Look Here!"
   ]
  },
  {
   "cell_type": "markdown",
   "metadata": {
    "collapsed": true
   },
   "source": [
    "### Distance Traveled"
   ]
  },
  {
   "cell_type": "code",
   "execution_count": 14,
   "metadata": {
    "collapsed": true
   },
   "outputs": [],
   "source": [
    "#Haversine Function, pulled from StackOverflow\n",
    "\n",
    "def haversine(lon1, lat1, lon2, lat2):\n",
    "    \"\"\"\n",
    "    Calculate the great circle distance between two points\n",
    "    on the earth (specified in decimal degrees, AKA Latitude / Longitude)\n",
    "\n",
    "    All args must be of equal length.    \n",
    "\n",
    "    \"\"\"\n",
    "    from math import radians, cos, sin, asin, sqrt\n",
    "\n",
    "    # convert decimal degrees to radians \n",
    "    lon1, lat1, lon2, lat2 = map(np.radians, [lon1, lat1, lon2, lat2])\n",
    "\n",
    "    #haversine formula\n",
    "    dlon = lon2 - lon1\n",
    "    dlat = lat2 - lat1\n",
    "\n",
    "    a = np.sin(dlat/2.0)**2 + np.cos(lat1) * np.cos(lat2) * np.sin(dlon/2.0)**2\n",
    "\n",
    "    c = 2 * np.arcsin(np.sqrt(a))\n",
    "    miles = 3956 * c # Radius of earth in miles. Use 6370 for kilometers\n",
    "    return miles"
   ]
  },
  {
   "cell_type": "code",
   "execution_count": null,
   "metadata": {
    "collapsed": true
   },
   "outputs": [],
   "source": []
  },
  {
   "cell_type": "code",
   "execution_count": 15,
   "metadata": {
    "collapsed": true
   },
   "outputs": [],
   "source": [
    "def distance_traveled(min_date, max_date, username):\n",
    "    \"\"\"\n",
    "    Calculate the distance a user has traveled over a given date range. Involves all modes of transportation, \n",
    "    and is calculated using Great-circle distance.\n",
    "    \"\"\"\n",
    "    \n",
    "    #make DB query to get GPS data for specified day \n",
    "    day_dist = reader.get_dataframe_pivoted(collection = 'iphone_test3', sensor = \"GPS\", username = username,\n",
    "                                min_date = min_date, max_date = max_date)\n",
    "    day_dist = day_dist.astype(float)\n",
    "    \n",
    "    #Use haversine function to get distances between all GPS points\n",
    "    dist_traveled = haversine(day_dist['GPS Longitude'].shift(), day_dist['GPS Latitude'].shift(), \n",
    "          day_dist.ix[1:, 'GPS Longitude'], day_dist.ix[1:, 'GPS Latitude'])\n",
    "    \n",
    "    return dist_traveled.sum()"
   ]
  },
  {
   "cell_type": "code",
   "execution_count": 16,
   "metadata": {
    "collapsed": false
   },
   "outputs": [
    {
     "data": {
      "text/plain": [
       "258.3755976361753"
      ]
     },
     "execution_count": 16,
     "metadata": {},
     "output_type": "execute_result"
    }
   ],
   "source": [
    "distance_traveled(\"03-01-2017\", \"03-20-2017\", \"glen\")"
   ]
  },
  {
   "cell_type": "code",
   "execution_count": 17,
   "metadata": {
    "collapsed": false
   },
   "outputs": [],
   "source": [
    "def daily_distance_traveled(day, username):\n",
    "    #Get day after day passed into function so that DB call works\n",
    "    import pandas.tseries.offsets as pdo\n",
    "    next_day = pd.to_datetime(day) + pdo.Day()\n",
    "    \n",
    "    #make DB query to get GPS data for specified day \n",
    "    day_dist = reader.get_dataframe_pivoted(collection = 'iphone_test3', sensor = \"GPS\", username = username,\n",
    "                                min_date = str(day), max_date = str(next_day))\n",
    "    day_dist = day_dist.astype(float)\n",
    "    \n",
    "    dist_traveled = haversine(day_dist['GPS Longitude'].shift(), day_dist['GPS Latitude'].shift(), \n",
    "          day_dist.ix[1:, 'GPS Longitude'], day_dist.ix[1:, 'GPS Latitude'])\n",
    "    dt = dist_traveled.sum()\n",
    "    return dt"
   ]
  },
  {
   "cell_type": "code",
   "execution_count": 18,
   "metadata": {
    "collapsed": false
   },
   "outputs": [
    {
     "data": {
      "text/plain": [
       "49.44241891684004"
      ]
     },
     "execution_count": 18,
     "metadata": {},
     "output_type": "execute_result"
    }
   ],
   "source": [
    "daily_distance_traveled('03/19/2017', 'glen')"
   ]
  },
  {
   "cell_type": "code",
   "execution_count": 37,
   "metadata": {
    "collapsed": false
   },
   "outputs": [],
   "source": [
    "def daily_distance_traveled_with_time(start_day, end_day, username):\n",
    "    #make DB query to get GPS data for specified day \n",
    "    day_dist = reader.get_dataframe_pivoted(collection = 'iphone_test3', sensor = \"GPS\", username = username,\n",
    "                                min_date = start_day, max_date = end_day)\n",
    "\n",
    "    day_dist = day_dist.astype(float)\n",
    "    \n",
    "    hourly = day_dist.groupby(pd.Grouper(freq='1H'))\n",
    "    hourly_distances = []\n",
    "\n",
    "    for hour in hourly:\n",
    "        h = hour[0]\n",
    "        print h\n",
    "        distance = haversine(hour[1]['GPS Longitude'].shift(), hour[1]['GPS Latitude'].shift(), \n",
    "                   hour[1].ix[1:, 'GPS Longitude'], hour[1].ix[1:, 'GPS Latitude']).sum()\n",
    "        print distance\n",
    "        hourly_distances.append((h, distance))\n",
    "\n",
    "    return hourly_distances"
   ]
  },
  {
   "cell_type": "code",
   "execution_count": 38,
   "metadata": {
    "collapsed": false
   },
   "outputs": [
    {
     "data": {
      "text/plain": [
       "28.31337615672235"
      ]
     },
     "execution_count": 38,
     "metadata": {},
     "output_type": "execute_result"
    }
   ],
   "source": [
    "distance_traveled(\"03-09-2017\", \"03-13-2017\", \"emil\")"
   ]
  },
  {
   "cell_type": "code",
   "execution_count": 39,
   "metadata": {
    "collapsed": false
   },
   "outputs": [
    {
     "name": "stdout",
     "output_type": "stream",
     "text": [
      "2017-03-09 00:00:00\n",
      "0.185904778524\n",
      "2017-03-09 01:00:00\n",
      "0.0\n",
      "2017-03-09 02:00:00\n",
      "0\n",
      "2017-03-09 03:00:00\n",
      "0\n",
      "2017-03-09 04:00:00\n",
      "0\n",
      "2017-03-09 05:00:00\n",
      "0\n",
      "2017-03-09 06:00:00\n",
      "0\n",
      "2017-03-09 07:00:00\n",
      "0\n",
      "2017-03-09 08:00:00\n",
      "0.0405234583038\n",
      "2017-03-09 09:00:00\n",
      "0\n",
      "2017-03-09 10:00:00\n",
      "0.0171455871002\n",
      "2017-03-09 11:00:00\n",
      "0\n",
      "2017-03-09 12:00:00\n",
      "0\n",
      "2017-03-09 13:00:00\n",
      "0\n",
      "2017-03-09 14:00:00\n",
      "0.0\n",
      "2017-03-09 15:00:00\n",
      "0.274019853828\n",
      "2017-03-09 16:00:00\n",
      "0\n",
      "2017-03-09 17:00:00\n",
      "0.0\n",
      "2017-03-09 18:00:00\n",
      "0\n",
      "2017-03-09 19:00:00\n",
      "0\n",
      "2017-03-09 20:00:00\n",
      "0\n",
      "2017-03-09 21:00:00\n",
      "0.114573349377\n",
      "2017-03-09 22:00:00\n",
      "0\n",
      "2017-03-09 23:00:00\n",
      "0\n",
      "2017-03-10 00:00:00\n",
      "0\n",
      "2017-03-10 01:00:00\n",
      "0\n",
      "2017-03-10 02:00:00\n",
      "0\n",
      "2017-03-10 03:00:00\n",
      "0\n",
      "2017-03-10 04:00:00\n",
      "0\n",
      "2017-03-10 05:00:00\n",
      "0\n",
      "2017-03-10 06:00:00\n",
      "0\n",
      "2017-03-10 07:00:00\n",
      "4.24644773805\n",
      "2017-03-10 08:00:00\n",
      "0\n",
      "2017-03-10 09:00:00\n",
      "1.01444023528\n",
      "2017-03-10 10:00:00\n",
      "0.140063101234\n",
      "2017-03-10 11:00:00\n",
      "0\n",
      "2017-03-10 12:00:00\n",
      "0.0\n",
      "2017-03-10 13:00:00\n",
      "0\n",
      "2017-03-10 14:00:00\n",
      "0\n",
      "2017-03-10 15:00:00\n",
      "0\n",
      "2017-03-10 16:00:00\n",
      "0\n",
      "2017-03-10 17:00:00\n",
      "0\n",
      "2017-03-10 18:00:00\n",
      "0.0\n",
      "2017-03-10 19:00:00\n",
      "0\n",
      "2017-03-10 20:00:00\n",
      "2.08619017416\n",
      "2017-03-10 21:00:00\n",
      "0\n",
      "2017-03-10 22:00:00\n",
      "0\n",
      "2017-03-10 23:00:00\n",
      "0\n",
      "2017-03-11 00:00:00\n",
      "0.0\n",
      "2017-03-11 01:00:00\n",
      "0\n",
      "2017-03-11 02:00:00\n",
      "0\n",
      "2017-03-11 03:00:00\n",
      "0\n",
      "2017-03-11 04:00:00\n",
      "0\n",
      "2017-03-11 05:00:00\n",
      "0\n",
      "2017-03-11 06:00:00\n",
      "0\n",
      "2017-03-11 07:00:00\n",
      "0\n",
      "2017-03-11 08:00:00\n",
      "0\n",
      "2017-03-11 09:00:00\n",
      "3.79016342477e-05\n",
      "2017-03-11 10:00:00\n",
      "0\n",
      "2017-03-11 11:00:00\n",
      "0\n",
      "2017-03-11 12:00:00\n",
      "0\n",
      "2017-03-11 13:00:00\n",
      "0\n",
      "2017-03-11 14:00:00\n",
      "0\n",
      "2017-03-11 15:00:00\n",
      "0.00530458369001\n",
      "2017-03-11 16:00:00\n",
      "0\n",
      "2017-03-11 17:00:00\n",
      "0\n",
      "2017-03-11 18:00:00\n",
      "0\n",
      "2017-03-11 19:00:00\n",
      "0\n",
      "2017-03-11 20:00:00\n",
      "0\n",
      "2017-03-11 21:00:00\n",
      "0\n",
      "2017-03-11 22:00:00\n",
      "0\n",
      "2017-03-11 23:00:00\n",
      "0\n",
      "2017-03-12 00:00:00\n",
      "0\n",
      "2017-03-12 01:00:00\n",
      "0.0058172390214\n",
      "2017-03-12 02:00:00\n",
      "0\n",
      "2017-03-12 03:00:00\n",
      "0\n",
      "2017-03-12 04:00:00\n",
      "0\n",
      "2017-03-12 05:00:00\n",
      "0\n",
      "2017-03-12 06:00:00\n",
      "0\n",
      "2017-03-12 07:00:00\n",
      "0\n",
      "2017-03-12 08:00:00\n",
      "0\n",
      "2017-03-12 09:00:00\n",
      "0\n",
      "2017-03-12 10:00:00\n",
      "0.0468930882582\n",
      "2017-03-12 11:00:00\n",
      "0\n",
      "2017-03-12 12:00:00\n",
      "0\n",
      "2017-03-12 13:00:00\n",
      "0\n",
      "2017-03-12 14:00:00\n",
      "0\n",
      "2017-03-12 15:00:00\n",
      "0.000699650714771\n",
      "2017-03-12 16:00:00\n",
      "0\n",
      "2017-03-12 17:00:00\n",
      "0\n",
      "2017-03-12 18:00:00\n",
      "0\n",
      "2017-03-12 19:00:00\n",
      "0.0\n",
      "2017-03-12 20:00:00\n",
      "0\n",
      "2017-03-12 21:00:00\n",
      "0\n",
      "2017-03-12 22:00:00\n",
      "0\n",
      "2017-03-12 23:00:00\n",
      "7.90425974841e-05\n"
     ]
    },
    {
     "data": {
      "text/plain": [
       "8.178139781771694"
      ]
     },
     "execution_count": 39,
     "metadata": {},
     "output_type": "execute_result"
    }
   ],
   "source": [
    "dist = 0\n",
    "for x in daily_distance_traveled_with_time('03/09/2017','03/13/2017', 'emil'):\n",
    "    dist += x[1]\n",
    "    \n",
    "dist"
   ]
  },
  {
   "cell_type": "markdown",
   "metadata": {},
   "source": [
    "# Emil, stop looking!"
   ]
  },
  {
   "cell_type": "markdown",
   "metadata": {
    "collapsed": true
   },
   "source": [
    "### Orientation Calculator\n"
   ]
  },
  {
   "cell_type": "code",
   "execution_count": 21,
   "metadata": {
    "collapsed": true
   },
   "outputs": [],
   "source": [
    "t2 = reader.get_dataframe_pivoted(collection = 'iphone_test', sensor = 'Compass', username = 'emil')"
   ]
  },
  {
   "cell_type": "code",
   "execution_count": 22,
   "metadata": {
    "collapsed": false
   },
   "outputs": [],
   "source": [
    "def daily_orientation(day):\n",
    "    daily_orientation = {\"N\": 0, \"E\": 0, \"S\": 0, \"W\": 0}\n",
    "    for index in t2.ix[day].itertuples():\n",
    "        orientation = float(index[2])\n",
    "        if (orientation > 305) or (orientation < 45):\n",
    "            d_o_add(\"N\", daily_orientation)\n",
    "        elif (orientation >= 45) and (orientation < 135):\n",
    "            d_o_add(\"E\", daily_orientation)\n",
    "        elif (orientation >= 135) and (orientation < 225):\n",
    "            d_o_add(\"S\", daily_orientation)\n",
    "        else:\n",
    "            d_o_add(\"W\", daily_orientation)\n",
    "    return daily_orientation"
   ]
  },
  {
   "cell_type": "code",
   "execution_count": 23,
   "metadata": {
    "collapsed": false
   },
   "outputs": [],
   "source": [
    "def d_o_add(direction, daily_orientation):\n",
    "    old_val = daily_orientation[direction]\n",
    "    daily_orientation[direction] = (old_val + 1)\n",
    "    return daily_orientation"
   ]
  },
  {
   "cell_type": "code",
   "execution_count": 24,
   "metadata": {
    "collapsed": false
   },
   "outputs": [
    {
     "data": {
      "text/plain": [
       "{'E': 565, 'N': 14, 'S': 32, 'W': 22}"
      ]
     },
     "execution_count": 24,
     "metadata": {},
     "output_type": "execute_result"
    }
   ],
   "source": [
    "daily_orientation(\"03-10-2017\")"
   ]
  },
  {
   "cell_type": "markdown",
   "metadata": {
    "collapsed": false
   },
   "source": [
    "### Subway Identifier"
   ]
  },
  {
   "cell_type": "code",
   "execution_count": 124,
   "metadata": {
    "collapsed": false
   },
   "outputs": [],
   "source": [
    "full_emil = reader.get_dataframe_pivoted(collection = 'iphone_test', username = 'emil')"
   ]
  },
  {
   "cell_type": "code",
   "execution_count": 125,
   "metadata": {
    "collapsed": false
   },
   "outputs": [],
   "source": [
    "sub = full_emil.iloc[:, 0:5]\n",
    "sub = sub.astype(float)"
   ]
  },
  {
   "cell_type": "code",
   "execution_count": 126,
   "metadata": {
    "collapsed": false
   },
   "outputs": [
    {
     "data": {
      "text/plain": [
       "<matplotlib.axes._subplots.AxesSubplot at 0x7f46567143d0>"
      ]
     },
     "execution_count": 126,
     "metadata": {},
     "output_type": "execute_result"
    },
    {
     "data": {
      "image/png": "[encoded data removed]",
      "text/plain": [
       "<matplotlib.figure.Figure at 0x7f46561e8b10>"
      ]
     },
     "metadata": {},
     "output_type": "display_data"
    }
   ],
   "source": [
    "sub.iloc[:, 3:4].plot()"
   ]
  },
  {
   "cell_type": "code",
   "execution_count": 64,
   "metadata": {
    "collapsed": false
   },
   "outputs": [],
   "source": [
    "def add_acceleration_magnitude(df):\n",
    "    \"Adds Acceleration magnitude to a dataframe. First 3 columns must be acceleration vectors. Must be 3D.\"\n",
    "    from math import sqrt\n",
    "\n",
    "    accel_mag = []\n",
    "    \n",
    "    for row in range(len(df)):\n",
    "        accel_mag.append(sqrt(df.iloc[row, 0]**2 + df.iloc[row, 1]**2 + df.iloc[row, 2]**2))\n",
    "\n",
    "    df['accel_mag'] = accel_mag\n",
    "    return 'finished!'"
   ]
  },
  {
   "cell_type": "code",
   "execution_count": 65,
   "metadata": {
    "collapsed": false
   },
   "outputs": [
    {
     "data": {
      "text/plain": [
       "'finished!'"
      ]
     },
     "execution_count": 65,
     "metadata": {},
     "output_type": "execute_result"
    }
   ],
   "source": [
    "add_acceleration_magnitude(sub)"
   ]
  },
  {
   "cell_type": "code",
   "execution_count": 67,
   "metadata": {
    "collapsed": false
   },
   "outputs": [
    {
     "data": {
      "text/plain": [
       "<matplotlib.axes._subplots.AxesSubplot at 0x7f4657f5add0>"
      ]
     },
     "execution_count": 67,
     "metadata": {},
     "output_type": "execute_result"
    },
    {
     "data": {
      "image/png": "[encoded data removed]",
      "text/plain": [
       "<matplotlib.figure.Figure at 0x7f465c128710>"
      ]
     },
     "metadata": {},
     "output_type": "display_data"
    }
   ],
   "source": [
    "sub['accel_mag'].plot()"
   ]
  },
  {
   "cell_type": "code",
   "execution_count": null,
   "metadata": {
    "collapsed": true
   },
   "outputs": [],
   "source": []
  }
 ],
 "metadata": {
  "anaconda-cloud": {},
  "kernelspec": {
   "display_name": "Python [default]",
   "language": "python",
   "name": "python2"
  },
  "language_info": {
   "codemirror_mode": {
    "name": "ipython",
    "version": 2
   },
   "file_extension": ".py",
   "mimetype": "text/x-python",
   "name": "python",
   "nbconvert_exporter": "python",
   "pygments_lexer": "ipython2",
   "version": "2.7.13"
  }
 },
 "nbformat": 4,
 "nbformat_minor": 0
}
