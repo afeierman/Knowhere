{
 "cells": [
  {
   "cell_type": "code",
   "execution_count": 1,
   "metadata": {
    "collapsed": false,
    "deletable": true,
    "editable": true
   },
   "outputs": [],
   "source": [
    "import pickle"
   ]
  },
  {
   "cell_type": "markdown",
   "metadata": {},
   "source": [
    "### Glen's Commuting Labels"
   ]
  },
  {
   "cell_type": "code",
   "execution_count": 2,
   "metadata": {
    "collapsed": true,
    "deletable": true,
    "editable": true
   },
   "outputs": [],
   "source": [
    "glen_3_20_morning = [(\"7:33:33\", \"D\"),(\"7:41:55\", \"W\"),(\"7:49:01\", \"D\"),(\"7:52:45\",\"W\"),(\"7:55:45\", \"S_D\"),\n",
    "                    (\"7:55:53\", \"P_W\"),(\"7:56:53\", \"P_S\"),(\"8:00:23\", \"T_B\"), (\"8:16:15\", \"T_T\"),(\"8:21:05\", \"T_B\"),\n",
    "                    (\"8:30:30\", \"T_E\"),(\"8:31:15\", \"S_U\"),(\"8:31:20\",\"W\"),(\"8:32:05\", \"S_U\"),(\"8:32:10\",\"W\"),\n",
    "                    (\"8:32:35\", \"S_U\"),(\"8:32:50\", \"W\"),(\"8:36:40\", \"E_U\"),(\"8:37:50\", \"W\"),(\"8:30:10\", \"W\")]"
   ]
  },
  {
   "cell_type": "code",
   "execution_count": 3,
   "metadata": {
    "collapsed": false,
    "deletable": true,
    "editable": true
   },
   "outputs": [],
   "source": [
    "glen_3_20_evening = [(\"20:05:55\",\"W\"),(\"20:06:30\",\"E_D\"),(\"20:07:05\",\"W\"),(\"20:13:00\",\"S\"),(\"20:27:25\",\"T_D\"),\n",
    "                    (\"20:36:50\",\"T_S\"),(\"20:38:14\",\"T_D\"),(\"20:44:10\",\"T_S\"),(\"20:44:10\",\"T_S\"),(\"20:45:15\",\"T_D\"),\n",
    "                    (\"20:46:51\",\"T_S\"),(\"20:47:50\",\"T_D\"),(\"20:49:15\",\"T_S\"),(\"20:50:50\",\"T_D\"),(\"20:51:15\",\"T_S\"),\n",
    "                     (\"20:54:04\",\"T_D\"),(\"20:53:59\",\"T_E\"),(\"20:54:50\",\"S_U\"),(\"20:55:05\",\"W\"),(\"20:57:05\",\"D\"),\n",
    "                     (\"21:08:45\",\"W\")]"
   ]
  },
  {
   "cell_type": "code",
   "execution_count": 4,
   "metadata": {
    "collapsed": false,
    "deletable": true,
    "editable": true
   },
   "outputs": [],
   "source": [
    "glen_3_21_morning = [(\"7:33:10\",  \"W\"),(\"7:34:15\",\"D\"),(\"7:48:15\", \"W\"),(\"7:50:30\",\"D\"),\n",
    "                     (\"7:55:30\",  \"W\"),(\"8:01:05\",\"T_D\"),(\"8:17:15\",\"T_S\"),(\"8:20:15\",\"T_D\"),\n",
    "                     (\"8:28:20\",\"T_E\"),(\"8:28:20\",  \"W\"),(\"8:35:30\",\"E_U\"),(\"8:35:50\", \"W\")]"
   ]
  },
  {
   "cell_type": "code",
   "execution_count": 5,
   "metadata": {
    "collapsed": false,
    "deletable": true,
    "editable": true
   },
   "outputs": [],
   "source": [
    "glen_3_21_evening = [(\"19:00:00\", \"W\"), (\"19:08:05\", \"S\"), (\"19:15:27\", \"T_D\"), (\"19:24:05\", \"T_S\"),\n",
    "                    (\"19:24:50\", \"T_D\"), (\"19:32:39\", \"T_S\"), (\"19:33:49\", \"T_D\"), (\"19:35:28\", \"T_S\"),\n",
    "                    (\"19:36:10\", \"T_D\"), (\"19:37:44\", \"T_S\"), (\"19:38:38\", \"T_D\"), (\"19:39:59\", \"T_S\"),\n",
    "                    (\"19:40:36\", \"T_D\"), (\"19:42:21\", \"T_S\"), (\"19:42:26\", \"W\"), (\"19:48:27\", \"D\"),\n",
    "                     (\"19:59:55\", \"W\")]"
   ]
  },
  {
   "cell_type": "code",
   "execution_count": 6,
   "metadata": {
    "collapsed": true,
    "deletable": true,
    "editable": true
   },
   "outputs": [],
   "source": [
    "glen_3_22_morning = [(\"7:40:20\", \"D\"),(\"7:41:55\", \"D\"),(\"7:52:52\", \"W\"),(\"7:55:18\",\"S\"),(\"8:01:20\", \"T_D\"),\n",
    "                    (\"8:14:00\", \"T_T\"),(\"8:17:00\", \"T_D\"),(\"8:25:59\", \"T_E\"), (\"8:26:04\", \"W\"),(\"8:33:27\", \"E_U\"),\n",
    "                    (\"8:34:31\", \"W\")]"
   ]
  },
  {
   "cell_type": "code",
   "execution_count": 7,
   "metadata": {
    "collapsed": true,
    "deletable": true,
    "editable": true
   },
   "outputs": [],
   "source": [
    "glen_3_22_evening = [(\"20:29:15\", \"W\"),(\"20:32:40\", \"E_D\"),(\"20:33:15\",\"W\"),(\"20:49:16\",\"T_D\"),(\"20:58:37\",\"T_S\"),\n",
    "                    (\"20:59:05\",\"T_D\"),(\"21:06:08\",\"T_S\"),(\"21:07:03\",\"T_D\"),(\"21:08:50\",\"T_S\"),(\"21:09:28\",\"T_D\"),\n",
    "                    (\"21:10:48\",\"T_S\"),(\"21:11:21\",\"T_D\"),(\"21:12:50\",\"T_S\"),(\"21:13:24\",\"T_D\"),(\"21:15:09\",\"T_S\"),\n",
    "                    (\"21:16:35\", \"D\"), (\"21:32:45\", \"W\")]"
   ]
  },
  {
   "cell_type": "code",
   "execution_count": 8,
   "metadata": {
    "collapsed": true,
    "deletable": true,
    "editable": true
   },
   "outputs": [],
   "source": [
    "glen_3_23_morning = [(\"07:22:41\",\"W\"), (\"8:01:15\",\"T_D\"), (\"8:13:31\", \"T_S\"), (\"8:17:44\", \"T_D\"),\n",
    "                    (\"8:27:46\", \"T_E\"), (\"8:27:51\", \"W\"), (\"8:33:29\", \"E_U\"), (\"8:34:05\", \"W\")]"
   ]
  },
  {
   "cell_type": "code",
   "execution_count": 9,
   "metadata": {
    "collapsed": true
   },
   "outputs": [],
   "source": [
    "glen_3_23_evening = [(\"19:42:55\",\"W\"),(\"19:43:57\", \"E_D\"),(\"19:45:08\",\"W\"),(\"20:08:55\",\"S\"),(\"20:29:00\",\"W\"),\n",
    "                    (\"20:33:20\",\"S\"),(\"20:51:10\",\"T_D\"),(\"21:01:27\",\"T_S\"),(\"21:02:35\",\"T_D\"),(\"21:08:06\",\"T_S\"),\n",
    "                    (\"21:09:29\",\"T_D\"),(\"21:11:16\",\"T_S\"),(\"21:12:14\",\"T_D\"),(\"21:14:01\",\"T_S\"),(\"21:15:05\",\"T_D\"),\n",
    "                    (\"21:16:25\",\"T_S\"),(\"21:17:24\", \"T_D\"),(\"21:19:30\", \"T_E\"), (\"21:19:35\", \"W\"),\n",
    "                    (\"21:21:35\",\"D\")]"
   ]
  },
  {
   "cell_type": "code",
   "execution_count": 12,
   "metadata": {
    "collapsed": false,
    "deletable": true,
    "editable": true
   },
   "outputs": [],
   "source": [
    "#Combine all lists into a single dictionary\n",
    "glen_commute_labels = {'2017-3-20': glen_3_20_morning + glen_3_20_evening, '2017-3-21': glen_3_21_morning +\\\n",
    "                       glen_3_21_evening, '2017-3-22': glen_3_22_morning + glen_3_22_evening, '2017-3-23':\\\n",
    "                       glen_3_23_morning + glen_3_23_evening}"
   ]
  },
  {
   "cell_type": "code",
   "execution_count": 13,
   "metadata": {
    "collapsed": true,
    "deletable": true,
    "editable": true
   },
   "outputs": [],
   "source": [
    "#write out dictionary containing all of glen's commute info into a pickle file\n",
    "pickle.dump(glen_commute_labels, open(\"glen_commute_labels.p\", \"wb\"))"
   ]
  },
  {
   "cell_type": "code",
   "execution_count": null,
   "metadata": {
    "collapsed": true
   },
   "outputs": [],
   "source": []
  }
 ],
 "metadata": {
  "anaconda-cloud": {},
  "kernelspec": {
   "display_name": "Python [conda root]",
   "language": "python",
   "name": "conda-root-py"
  },
  "language_info": {
   "codemirror_mode": {
    "name": "ipython",
    "version": 2
   },
   "file_extension": ".py",
   "mimetype": "text/x-python",
   "name": "python",
   "nbconvert_exporter": "python",
   "pygments_lexer": "ipython2",
   "version": "2.7.13"
  }
 },
 "nbformat": 4,
 "nbformat_minor": 2
}
