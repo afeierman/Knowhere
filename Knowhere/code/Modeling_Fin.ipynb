{
 "cells": [
  {
   "cell_type": "code",
   "execution_count": null,
   "metadata": {
    "collapsed": false
   },
   "outputs": [],
   "source": [
    "import Preprocess_Data as pdata\n",
    "import pandas as pd\n",
    "import pickle"
   ]
  },
  {
   "cell_type": "code",
   "execution_count": null,
   "metadata": {
    "collapsed": false
   },
   "outputs": [],
   "source": [
    "glen_H_data_raw = pd.read_csv(\"Labeled_glen_2017-03-19_to_2017-03-23_simplified.csv\", index_col=0)\n",
    "glen_H_data_raw.head()"
   ]
  },
  {
   "cell_type": "code",
   "execution_count": null,
   "metadata": {
    "collapsed": false
   },
   "outputs": [],
   "source": [
    "glen_H_data = pdata.Preprocess_Data(glen_H_data_raw)"
   ]
  },
  {
   "cell_type": "code",
   "execution_count": null,
   "metadata": {
    "collapsed": false
   },
   "outputs": [],
   "source": [
    "glen_H_data.Norm()\n",
    "data = glen_H_data.Feature_additions()\n",
    "data, X, Y = glen_H_data.load_data_train()\n",
    "print \"DATA:\\t\", data.head()\n",
    "print \"X\", X\n",
    "print \"Y\", Y"
   ]
  },
  {
   "cell_type": "code",
   "execution_count": null,
   "metadata": {
    "collapsed": false
   },
   "outputs": [],
   "source": [
    "data.groupby(\"classification\").size()"
   ]
  },
  {
   "cell_type": "code",
   "execution_count": null,
   "metadata": {
    "collapsed": false
   },
   "outputs": [],
   "source": [
    "from sklearn.ensemble import RandomForestClassifier\n",
    "RF_Class = RandomForestClassifier(bootstrap=True,min_samples_leaf=1,n_estimators=1500,\\\n",
    "                                  min_samples_split=2, criterion='gini', max_features=12, max_depth=10)\n",
    "RF_Class.fit(X,Y)"
   ]
  },
  {
   "cell_type": "code",
   "execution_count": null,
   "metadata": {
    "collapsed": true
   },
   "outputs": [],
   "source": [
    "import pickle\n",
    "pickle_glen_C_032617 = pickle.dump(RF_Class, open(\"pickle_glen_C_032617.p\", \"wb\")) "
   ]
  },
  {
   "cell_type": "code",
   "execution_count": null,
   "metadata": {
    "collapsed": false
   },
   "outputs": [],
   "source": [
    "emil_H_data_raw = pd.read_csv(\"Labeled_Test_Data_Emil_03_25_2017.csv\", index_col=0)\n",
    "emil_H_data_raw.groupby(\"classification\").size()\n",
    "len(emil_H_data_raw)"
   ]
  },
  {
   "cell_type": "code",
   "execution_count": null,
   "metadata": {
    "collapsed": false
   },
   "outputs": [],
   "source": [
    "emil_H_data = Preprocess_Data(emil_H_data_raw)"
   ]
  },
  {
   "cell_type": "code",
   "execution_count": null,
   "metadata": {
    "collapsed": false
   },
   "outputs": [],
   "source": [
    "emil_H_data.Norm()\n",
    "data_E = emil_H_data.Feature_additions()\n",
    "data_E, X_E, Y_E = emil_H_data.load_data()"
   ]
  },
  {
   "cell_type": "markdown",
   "metadata": {},
   "source": [
    "# Emil Testing"
   ]
  },
  {
   "cell_type": "code",
   "execution_count": 21,
   "metadata": {
    "collapsed": false
   },
   "outputs": [],
   "source": [
    "import Preprocess_Data as pdata\n",
    "import pandas as pd\n",
    "import numpy as np\n",
    "import pickle\n",
    "import db.knowhere_db as kdb\n",
    "reader = kdb.Reader(db_name='knowhere')\n"
   ]
  },
  {
   "cell_type": "code",
   "execution_count": 2,
   "metadata": {
    "collapsed": true
   },
   "outputs": [],
   "source": [
    "pkl = pickle.load(open(\"D:/drive/emilparikh/Professional/School/NYC Data Science Academy/class/projects/Capstone/Knowhere/app/data/pickle_glen_C_032617.p\", \"rb\"))"
   ]
  },
  {
   "cell_type": "code",
   "execution_count": 32,
   "metadata": {
    "collapsed": false
   },
   "outputs": [],
   "source": [
    "glen24th = reader.get_dataframe_pivoted(collection=\"iphone\", username=\"glen\", sensor=[\"Acceleration\", \"Magnetometer\"], commute=True, \n",
    "                                min_date=\"2017-03-24 00:00:00\", max_date=\"2017-03-25 00:00:00\")\n",
    "\n",
    "glen24th = pdata.Preprocess_Data(glen24th)\n",
    "glen24th.Norm()\n",
    "data = glen24th.Feature_additions()\n",
    "X = glen24th.load_data_test()\n",
    "pred = np.vectorize(lambda x: activity_labels[x])(pkl.predict(X))"
   ]
  },
  {
   "cell_type": "code",
   "execution_count": 13,
   "metadata": {
    "collapsed": false
   },
   "outputs": [],
   "source": [
    "activity_labels = {0:\"driving\", 1:\"elevator\", 2:\"standing\", 3:\"train\", 4:\"train\", 5:\"walking\"}"
   ]
  },
  {
   "cell_type": "code",
   "execution_count": 102,
   "metadata": {
    "collapsed": false
   },
   "outputs": [],
   "source": [
    "df=pd.DataFrame({\"date\":data.index, \"label\":pred})\n",
    "df[\"hm\"] = df[\"date\"].apply(lambda x: \"{0}{1}\".format(x.hour, x.minute))"
   ]
  },
  {
   "cell_type": "code",
   "execution_count": 103,
   "metadata": {
    "collapsed": false
   },
   "outputs": [],
   "source": [
    "df = df.groupby([\"label\", \"hm\"]).agg({\"date\": lambda i: (max(i)-min(i)).total_seconds()})"
   ]
  },
  {
   "cell_type": "code",
   "execution_count": 104,
   "metadata": {
    "collapsed": false
   },
   "outputs": [],
   "source": [
    "# date actually = seconds.\n",
    "df = df.reset_index().groupby(\"label\").sum().reset_index()\n",
    "df.columns = [\"label\", \"seconds\"]"
   ]
  },
  {
   "cell_type": "code",
   "execution_count": 124,
   "metadata": {
    "collapsed": true
   },
   "outputs": [],
   "source": [
    "def set_percents(x):\n",
    "    activity_percents[x.label] = round(x.seconds/total_seconds*100,2)"
   ]
  },
  {
   "cell_type": "code",
   "execution_count": 125,
   "metadata": {
    "collapsed": false
   },
   "outputs": [
    {
     "data": {
      "text/plain": [
       "{'driving': 12.76,\n",
       " 'elevator': 0.4,\n",
       " 'standing': 0.0,\n",
       " 'train': 35.89,\n",
       " 'walking': 50.96}"
      ]
     },
     "execution_count": 125,
     "metadata": {},
     "output_type": "execute_result"
    }
   ],
   "source": [
    "total_seconds = np.sum(df.seconds)\n",
    "activity_percents = {}\n",
    "\n",
    "df.apply(set_percents, axis=1)\n",
    "\n",
    "activity_percents"
   ]
  }
 ],
 "metadata": {
  "kernelspec": {
   "display_name": "Python [Root]",
   "language": "python",
   "name": "Python [Root]"
  },
  "language_info": {
   "codemirror_mode": {
    "name": "ipython",
    "version": 2
   },
   "file_extension": ".py",
   "mimetype": "text/x-python",
   "name": "python",
   "nbconvert_exporter": "python",
   "pygments_lexer": "ipython2",
   "version": "2.7.12"
  }
 },
 "nbformat": 4,
 "nbformat_minor": 2
}
