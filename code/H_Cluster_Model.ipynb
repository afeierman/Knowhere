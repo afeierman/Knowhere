{
 "cells": [
  {
   "cell_type": "code",
   "execution_count": 2,
   "metadata": {
    "collapsed": false
   },
   "outputs": [],
   "source": [
    "from sklearn.cluster import AgglomerativeClustering\n",
    "from sklearn import preprocessing\n",
    "import db.knowhere_db as kdb\n",
    "import pipeline.pipeline as pipeline\n",
    "import pandas as pd\n",
    "import numpy as np\n",
    "from sklearn.model_selection import KFold\n",
    "import pickle"
   ]
  },
  {
   "cell_type": "code",
   "execution_count": 6,
   "metadata": {
    "collapsed": false
   },
   "outputs": [],
   "source": [
    "# Load the data from the database\n",
    "reader = kdb.Reader('knowhere')\n",
    "emil_H_data = reader.get_dataframe_pivoted(collection='iphone_test',username='emil',sensor='GPS')\n",
    "emil_H_data = emil_H_data[['GPS (Altitude)','GPS (Latitude)','GPS (Longitude)']]\n",
    "glen_H_data = reader.get_dataframe_pivoted(collection='iphone_test',username='glen',sensor='GPS')\n",
    "glen_H_data = glen_H_data[['GPS (Altitude)','GPS (Latitude)','GPS (Longitude)']]"
   ]
  },
  {
   "cell_type": "code",
   "execution_count": null,
   "metadata": {
    "collapsed": false
   },
   "outputs": [],
   "source": [
    "glen_H_data"
   ]
  },
  {
   "cell_type": "code",
   "execution_count": 7,
   "metadata": {
    "collapsed": false
   },
   "outputs": [],
   "source": [
    "# Scale the data from the DB\n",
    "emil_H_data = preprocessing.scale(emil_H_data)\n",
    "glen_H_data = preprocessing.scale(glen_H_data)"
   ]
  },
  {
   "cell_type": "code",
   "execution_count": 6,
   "metadata": {
    "collapsed": false
   },
   "outputs": [
    {
     "data": {
      "text/plain": [
       "AgglomerativeClustering(affinity='euclidean', compute_full_tree='auto',\n",
       "            connectivity=None, linkage='ward',\n",
       "            memory=Memory(cachedir=None), n_clusters=4,\n",
       "            pooling_func=<function mean at 0x03D78830>)"
      ]
     },
     "execution_count": 6,
     "metadata": {},
     "output_type": "execute_result"
    }
   ],
   "source": [
    "# train the model for Emil\n",
    "emil_H_031717 = AgglomerativeClustering()\n",
    "emil_H_031717.set_params(n_clusters = 4)\n",
    "emil_H_031717.fit(emil_H_data)"
   ]
  },
  {
   "cell_type": "code",
   "execution_count": 7,
   "metadata": {
    "collapsed": false
   },
   "outputs": [
    {
     "data": {
      "text/plain": [
       "AgglomerativeClustering(affinity='euclidean', compute_full_tree='auto',\n",
       "            connectivity=None, linkage='ward',\n",
       "            memory=Memory(cachedir=None), n_clusters=4,\n",
       "            pooling_func=<function mean at 0x03D78830>)"
      ]
     },
     "execution_count": 7,
     "metadata": {},
     "output_type": "execute_result"
    }
   ],
   "source": [
    "# train the model for Glen\n",
    "glen_H_031717 = AgglomerativeClustering()\n",
    "glen_H_031717.set_params(n_clusters = 4)\n",
    "glen_H_031717.fit(glen_H_data)"
   ]
  },
  {
   "cell_type": "code",
   "execution_count": null,
   "metadata": {
    "collapsed": true
   },
   "outputs": [],
   "source": [
    "# Pickle the model for Emil\n",
    "pickle_emil_H_031717 = pickle.dumps(emil_H_031717)"
   ]
  },
  {
   "cell_type": "code",
   "execution_count": null,
   "metadata": {
    "collapsed": true
   },
   "outputs": [],
   "source": [
    "# Load the file from the pickle\n",
    "emil_H_031717 = pickle.loads(pickle_emil_H_031717)"
   ]
  },
  {
   "cell_type": "code",
   "execution_count": null,
   "metadata": {
    "collapsed": true
   },
   "outputs": [],
   "source": [
    "# Pickle the model for Glen\n",
    "pickle_glen_H_031717 = pickle.dumps(glen_H_031717)"
   ]
  },
  {
   "cell_type": "code",
   "execution_count": null,
   "metadata": {
    "collapsed": true
   },
   "outputs": [],
   "source": [
    "# Load the file from the pickle\n",
    "glen_H_031717 = pickle.loads(pickle_glen_H_031717)"
   ]
  },
  {
   "cell_type": "code",
   "execution_count": 3,
   "metadata": {
    "collapsed": true
   },
   "outputs": [],
   "source": [
    "# build uploader\n",
    "uploader = kdb.S3('knowhere')"
   ]
  },
  {
   "cell_type": "code",
   "execution_count": 8,
   "metadata": {
    "collapsed": false
   },
   "outputs": [],
   "source": [
    "# Upload models to s3 and db\n",
    "uploader.upload_to_s3('emil', 'H', emil_H_031717, 'emil_H_031717', 'knowhere-data', 'models')\n",
    "uploader.upload_to_s3('glen', 'H', glen_H_031717, 'glen_H_031717', 'knowhere-data', 'models')"
   ]
  },
  {
   "cell_type": "code",
   "execution_count": 5,
   "metadata": {
    "collapsed": false
   },
   "outputs": [],
   "source": [
    "# Download models from s3\n",
    "# getting all models for a user\n",
    "emil_H_model = uploader.retrieve_from_s3('emil', model_type='H', bucket='knowhere-data', collection='models')\n",
    "# getting a specific model for a user\n",
    "glen_H_model = uploader.retrieve_from_s3('glen', model_type='H', bucket='knowhere-data', collection='models')"
   ]
  },
  {
   "cell_type": "code",
   "execution_count": 9,
   "metadata": {
    "collapsed": false
   },
   "outputs": [
    {
     "data": {
      "text/plain": [
       "AgglomerativeClustering(affinity='euclidean', compute_full_tree='auto',\n",
       "            connectivity=None, linkage='ward',\n",
       "            memory=Memory(cachedir=None), n_clusters=4,\n",
       "            pooling_func=<function mean at 0x03E8E830>)"
      ]
     },
     "execution_count": 9,
     "metadata": {},
     "output_type": "execute_result"
    }
   ],
   "source": []
  },
  {
   "cell_type": "code",
   "execution_count": 10,
   "metadata": {
    "collapsed": false
   },
   "outputs": [
    {
     "data": {
      "text/plain": [
       "array([1, 1, 1, ..., 1, 1, 1])"
      ]
     },
     "execution_count": 10,
     "metadata": {},
     "output_type": "execute_result"
    }
   ],
   "source": [
    "# Makeing Predictions\n",
    "emil_H_model.fit_predict(emil_H_data)\n",
    "glen_H_model.fit_predict(glen_H_data)"
   ]
  }
 ],
 "metadata": {
  "kernelspec": {
   "display_name": "Python 2",
   "language": "python",
   "name": "python2"
  },
  "language_info": {
   "codemirror_mode": {
    "name": "ipython",
    "version": 2
   },
   "file_extension": ".py",
   "mimetype": "text/x-python",
   "name": "python",
   "nbconvert_exporter": "python",
   "pygments_lexer": "ipython2",
   "version": "2.7.6"
  }
 },
 "nbformat": 4,
 "nbformat_minor": 2
}
