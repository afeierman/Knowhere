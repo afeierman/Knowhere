{
 "cells": [
  {
   "cell_type": "code",
   "execution_count": 1,
   "metadata": {
    "collapsed": false
   },
   "outputs": [],
   "source": [
    "import pipeline.pipeline as pipeline\n",
    "import db.knowhere_db as kdb\n",
    "from datetime import datetime"
   ]
  },
  {
   "cell_type": "code",
   "execution_count": 24,
   "metadata": {
    "collapsed": false
   },
   "outputs": [
    {
     "name": "stdout",
     "output_type": "stream",
     "text": [
      "username:glen\n"
     ]
    }
   ],
   "source": [
    "user = raw_input('username:')"
   ]
  },
  {
   "cell_type": "code",
   "execution_count": 40,
   "metadata": {
    "collapsed": false
   },
   "outputs": [],
   "source": [
    "dt = datetime.now()\n",
    "date = dt.date()\n",
    "hour = dt.hour\n",
    "minute = dt.minute\n",
    "fName = r'../data/iPhone/aggregate_data/aggregated_{}_{}-{}-{}.csv'.format(user, date, hour, minute)\n",
    "csv_dir = r'../data/iPhone/incoming/'\n",
    "processed_dir = r'../data/iPhone/processed/'"
   ]
  },
  {
   "cell_type": "code",
   "execution_count": 41,
   "metadata": {
    "collapsed": false
   },
   "outputs": [],
   "source": [
    "user_df = pipeline.iphone(username=user, file_with_path=fName, dir_to_aggregate=csv_dir, processed_dir=processed_dir)"
   ]
  },
  {
   "cell_type": "code",
   "execution_count": 42,
   "metadata": {
    "collapsed": false
   },
   "outputs": [
    {
     "data": {
      "text/plain": [
       "<pymongo.results.InsertManyResult at 0x8284670>"
      ]
     },
     "execution_count": 42,
     "metadata": {},
     "output_type": "execute_result"
    }
   ],
   "source": [
    "writer = kdb.Writer('knowhere')\n",
    "writer.write_dataframe_to_collection(df=user_df, collection='iphone_test2')"
   ]
  }
 ],
 "metadata": {
  "kernelspec": {
   "display_name": "Python 2",
   "language": "python",
   "name": "python2"
  },
  "language_info": {
   "codemirror_mode": {
    "name": "ipython",
    "version": 2
   },
   "file_extension": ".py",
   "mimetype": "text/x-python",
   "name": "python",
   "nbconvert_exporter": "python",
   "pygments_lexer": "ipython2",
   "version": "2.7.6"
  }
 },
 "nbformat": 4,
 "nbformat_minor": 2
}
