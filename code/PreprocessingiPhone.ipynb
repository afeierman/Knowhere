{
 "cells": [
  {
   "cell_type": "code",
   "execution_count": 9,
   "metadata": {
    "collapsed": false,
    "deletable": true,
    "editable": true
   },
   "outputs": [],
   "source": [
    "import db.knowhere_db as kdb\n",
    "import pipeline.pipeline as pipeline\n",
    "import pandas as pd\n",
    "import numpy as np\n",
    "from scipy.stats import randint as sp_randint\n",
    "from sklearn.model_selection import RandomizedSearchCV\n",
    "from sklearn.model_selection import cross_val_score\n",
    "from sklearn.model_selection import StratifiedKFold\n",
    "from sklearn.preprocessing import LabelEncoder\n",
    "from sklearn.preprocessing import LabelBinarizer\n",
    "from sklearn.pipeline import Pipeline\n",
    "from sklearn import linear_model\n",
    "from sklearn.ensemble import RandomForestClassifier\n",
    "from sklearn.ensemble import ExtraTreesClassifier\n",
    "from sklearn.ensemble import VotingClassifier"
   ]
  },
  {
   "cell_type": "code",
   "execution_count": 2,
   "metadata": {
    "collapsed": true,
    "deletable": true,
    "editable": true
   },
   "outputs": [],
   "source": [
    "reader = kdb.Reader('knowhere')"
   ]
  },
  {
   "cell_type": "code",
   "execution_count": 3,
   "metadata": {
    "collapsed": false,
    "deletable": true,
    "editable": true
   },
   "outputs": [],
   "source": [
    "glen_H_data_raw = reader.get_dataframe_pivoted(collection='iphone_test3', username='glen', min_date='2017-03-17', max_date='2017-03-20')"
   ]
  },
  {
   "cell_type": "code",
   "execution_count": 4,
   "metadata": {
    "collapsed": false,
    "deletable": true,
    "editable": true
   },
   "outputs": [],
   "source": [
    "glen_H_data = glen_H_data_raw[['Acceleration x','Acceleration y','Acceleration z', 'Altimeter (Barometer) Pressure',\\\n",
    "                               'Microphone Left Channel Level', 'Microphone Right Channel Level','Magnetometer x',\\\n",
    "                               'Magnetometer y','Magnetometer z','Gyrometer x','Gyrometer y',\\\n",
    "                               'Gyrometer z']]\n",
    "glen_H_data = glen_H_data.dropna().astype(float)"
   ]
  },
  {
   "cell_type": "code",
   "execution_count": 5,
   "metadata": {
    "collapsed": false,
    "deletable": true,
    "editable": true
   },
   "outputs": [],
   "source": [
    "glen_H_data['Acceleration'] =  np.sqrt(glen_H_data['Acceleration x']**2 + glen_H_data['Acceleration y']**2 +\\\n",
    "                                       glen_H_data['Acceleration z']**2)\n",
    "glen_H_data['Magnetometer'] =  np.sqrt(glen_H_data['Magnetometer x']**2 + glen_H_data['Magnetometer y']**2 +\\\n",
    "                                       glen_H_data['Magnetometer z']**2)\n",
    "glen_H_data['Gyrometer']    =  np.sqrt(glen_H_data['Gyrometer x']**2 + glen_H_data['Gyrometer y']**2 +\\\n",
    "                                       glen_H_data['Gyrometer z']**2)\n",
    "glen_H_data['Microphone']    =  (glen_H_data['Microphone Left Channel Level'] +\\\n",
    "                                glen_H_data['Microphone Right Channel Level'])/2\n",
    "glen_H_data = glen_H_data[['Acceleration','Magnetometer','Gyrometer','Microphone','Altimeter (Barometer) Pressure']]"
   ]
  },
  {
   "cell_type": "code",
   "execution_count": 6,
   "metadata": {
    "collapsed": false,
    "deletable": true,
    "editable": true
   },
   "outputs": [
    {
     "name": "stderr",
     "output_type": "stream",
     "text": [
      "/Users/gafergus/anaconda/lib/python2.7/site-packages/ipykernel/__main__.py:4: FutureWarning: pd.rolling_mean is deprecated for Series and will be removed in a future version, replace with \n",
      "\tSeries.rolling(window=5,center=False).mean()\n",
      "/Users/gafergus/anaconda/lib/python2.7/site-packages/ipykernel/__main__.py:5: FutureWarning: pd.rolling_mean is deprecated for Series and will be removed in a future version, replace with \n",
      "\tSeries.rolling(window=5,center=False).mean()\n",
      "/Users/gafergus/anaconda/lib/python2.7/site-packages/ipykernel/__main__.py:6: FutureWarning: pd.rolling_mean is deprecated for Series and will be removed in a future version, replace with \n",
      "\tSeries.rolling(window=5,center=False).mean()\n",
      "/Users/gafergus/anaconda/lib/python2.7/site-packages/ipykernel/__main__.py:7: FutureWarning: pd.rolling_mean is deprecated for Series and will be removed in a future version, replace with \n",
      "\tSeries.rolling(window=5,center=False).mean()\n",
      "/Users/gafergus/anaconda/lib/python2.7/site-packages/ipykernel/__main__.py:8: FutureWarning: pd.rolling_mean is deprecated for Series and will be removed in a future version, replace with \n",
      "\tSeries.rolling(window=5,center=False).mean()\n",
      "/Users/gafergus/anaconda/lib/python2.7/site-packages/ipykernel/__main__.py:10: FutureWarning: pd.rolling_quantile is deprecated for Series and will be removed in a future version, replace with \n",
      "\tSeries.rolling(window=5,center=False).quantile(quantile=0.75)\n",
      "/Users/gafergus/anaconda/lib/python2.7/site-packages/ipykernel/__main__.py:11: FutureWarning: pd.rolling_quantile is deprecated for Series and will be removed in a future version, replace with \n",
      "\tSeries.rolling(window=5,center=False).quantile(quantile=0.75)\n",
      "/Users/gafergus/anaconda/lib/python2.7/site-packages/ipykernel/__main__.py:12: FutureWarning: pd.rolling_quantile is deprecated for Series and will be removed in a future version, replace with \n",
      "\tSeries.rolling(window=5,center=False).quantile(quantile=0.75)\n",
      "/Users/gafergus/anaconda/lib/python2.7/site-packages/ipykernel/__main__.py:13: FutureWarning: pd.rolling_quantile is deprecated for Series and will be removed in a future version, replace with \n",
      "\tSeries.rolling(window=5,center=False).quantile(quantile=0.75)\n",
      "/Users/gafergus/anaconda/lib/python2.7/site-packages/ipykernel/__main__.py:14: FutureWarning: pd.rolling_quantile is deprecated for Series and will be removed in a future version, replace with \n",
      "\tSeries.rolling(window=5,center=False).quantile(quantile=0.75)\n",
      "/Users/gafergus/anaconda/lib/python2.7/site-packages/ipykernel/__main__.py:16: FutureWarning: pd.rolling_max is deprecated for Series and will be removed in a future version, replace with \n",
      "\tSeries.rolling(window=5,center=False).max()\n",
      "/Users/gafergus/anaconda/lib/python2.7/site-packages/ipykernel/__main__.py:17: FutureWarning: pd.rolling_max is deprecated for Series and will be removed in a future version, replace with \n",
      "\tSeries.rolling(window=5,center=False).max()\n",
      "/Users/gafergus/anaconda/lib/python2.7/site-packages/ipykernel/__main__.py:18: FutureWarning: pd.rolling_max is deprecated for Series and will be removed in a future version, replace with \n",
      "\tSeries.rolling(window=5,center=False).max()\n",
      "/Users/gafergus/anaconda/lib/python2.7/site-packages/ipykernel/__main__.py:19: FutureWarning: pd.rolling_max is deprecated for Series and will be removed in a future version, replace with \n",
      "\tSeries.rolling(window=5,center=False).max()\n",
      "/Users/gafergus/anaconda/lib/python2.7/site-packages/ipykernel/__main__.py:20: FutureWarning: pd.rolling_max is deprecated for Series and will be removed in a future version, replace with \n",
      "\tSeries.rolling(window=5,center=False).max()\n",
      "/Users/gafergus/anaconda/lib/python2.7/site-packages/ipykernel/__main__.py:22: FutureWarning: pd.rolling_min is deprecated for Series and will be removed in a future version, replace with \n",
      "\tSeries.rolling(window=5,center=False).min()\n",
      "/Users/gafergus/anaconda/lib/python2.7/site-packages/ipykernel/__main__.py:23: FutureWarning: pd.rolling_min is deprecated for Series and will be removed in a future version, replace with \n",
      "\tSeries.rolling(window=5,center=False).min()\n",
      "/Users/gafergus/anaconda/lib/python2.7/site-packages/ipykernel/__main__.py:24: FutureWarning: pd.rolling_min is deprecated for Series and will be removed in a future version, replace with \n",
      "\tSeries.rolling(window=5,center=False).min()\n",
      "/Users/gafergus/anaconda/lib/python2.7/site-packages/ipykernel/__main__.py:25: FutureWarning: pd.rolling_min is deprecated for Series and will be removed in a future version, replace with \n",
      "\tSeries.rolling(window=5,center=False).min()\n",
      "/Users/gafergus/anaconda/lib/python2.7/site-packages/ipykernel/__main__.py:26: FutureWarning: pd.rolling_min is deprecated for Series and will be removed in a future version, replace with \n",
      "\tSeries.rolling(window=5,center=False).min()\n",
      "/Users/gafergus/anaconda/lib/python2.7/site-packages/ipykernel/__main__.py:28: FutureWarning: pd.rolling_std is deprecated for Series and will be removed in a future version, replace with \n",
      "\tSeries.rolling(window=5,center=False).std()\n",
      "/Users/gafergus/anaconda/lib/python2.7/site-packages/ipykernel/__main__.py:29: FutureWarning: pd.rolling_std is deprecated for Series and will be removed in a future version, replace with \n",
      "\tSeries.rolling(window=5,center=False).std()\n",
      "/Users/gafergus/anaconda/lib/python2.7/site-packages/ipykernel/__main__.py:30: FutureWarning: pd.rolling_std is deprecated for Series and will be removed in a future version, replace with \n",
      "\tSeries.rolling(window=5,center=False).std()\n",
      "/Users/gafergus/anaconda/lib/python2.7/site-packages/ipykernel/__main__.py:31: FutureWarning: pd.rolling_std is deprecated for Series and will be removed in a future version, replace with \n",
      "\tSeries.rolling(window=5,center=False).std()\n",
      "/Users/gafergus/anaconda/lib/python2.7/site-packages/ipykernel/__main__.py:32: FutureWarning: pd.rolling_std is deprecated for Series and will be removed in a future version, replace with \n",
      "\tSeries.rolling(window=5,center=False).std()\n",
      "/Users/gafergus/anaconda/lib/python2.7/site-packages/ipykernel/__main__.py:34: FutureWarning: pd.rolling_var is deprecated for Series and will be removed in a future version, replace with \n",
      "\tSeries.rolling(window=5,center=False).var()\n",
      "/Users/gafergus/anaconda/lib/python2.7/site-packages/ipykernel/__main__.py:35: FutureWarning: pd.rolling_var is deprecated for Series and will be removed in a future version, replace with \n",
      "\tSeries.rolling(window=5,center=False).var()\n",
      "/Users/gafergus/anaconda/lib/python2.7/site-packages/ipykernel/__main__.py:36: FutureWarning: pd.rolling_var is deprecated for Series and will be removed in a future version, replace with \n",
      "\tSeries.rolling(window=5,center=False).var()\n",
      "/Users/gafergus/anaconda/lib/python2.7/site-packages/ipykernel/__main__.py:37: FutureWarning: pd.rolling_var is deprecated for Series and will be removed in a future version, replace with \n",
      "\tSeries.rolling(window=5,center=False).var()\n",
      "/Users/gafergus/anaconda/lib/python2.7/site-packages/ipykernel/__main__.py:38: FutureWarning: pd.rolling_var is deprecated for Series and will be removed in a future version, replace with \n",
      "\tSeries.rolling(window=5,center=False).var()\n"
     ]
    }
   ],
   "source": [
    "# set window\n",
    "window = 5\n",
    "# Rolling Means\n",
    "glen_H_data['RollingMeanAcceleration'] = pd.rolling_mean(glen_H_data['Acceleration'], window)\n",
    "glen_H_data['RollingMeanMagnetometer'] = pd.rolling_mean(glen_H_data['Magnetometer'], window)\n",
    "glen_H_data['RollingMeanGyrometer'] = pd.rolling_mean(glen_H_data['Gyrometer'], window)\n",
    "glen_H_data['RollingMeanMicrophone'] = pd.rolling_mean(glen_H_data['Microphone'], window)\n",
    "glen_H_data['RollingMeanAltimeter'] = pd.rolling_mean(glen_H_data['Altimeter (Barometer) Pressure'], window)\n",
    "# Rolling 75th percentile\n",
    "glen_H_data['Rolling75thAcceleration'] = pd.rolling_quantile(glen_H_data['Acceleration'], window, 0.75)\n",
    "glen_H_data['Rolling75thMagnetometer'] = pd.rolling_quantile(glen_H_data['Magnetometer'], window, 0.75)\n",
    "glen_H_data['Rolling75thGyrometer'] = pd.rolling_quantile(glen_H_data['Gyrometer'], window, 0.75)\n",
    "glen_H_data['Rolling75thMicrophone'] = pd.rolling_quantile(glen_H_data['Microphone'], window, 0.75)\n",
    "glen_H_data['Rolling75thAltimeter'] = pd.rolling_quantile(glen_H_data['Altimeter (Barometer) Pressure'], window, 0.75)\n",
    "# Rolling Max\n",
    "glen_H_data['RollingMaxAcceleration'] = pd.rolling_max(glen_H_data['Acceleration'], window)\n",
    "glen_H_data['RollingMaxMagnetometer'] = pd.rolling_max(glen_H_data['Magnetometer'], window)\n",
    "glen_H_data['RollingMaxGyrometer'] = pd.rolling_max(glen_H_data['Gyrometer'], window)\n",
    "glen_H_data['RollingMaxMicrophone'] = pd.rolling_max(glen_H_data['Microphone'], window)\n",
    "glen_H_data['RollingMaxAltimeter'] = pd.rolling_max(glen_H_data['Altimeter (Barometer) Pressure'], window)\n",
    "# Rolling Min\n",
    "glen_H_data['RollingMinAcceleration'] = pd.rolling_min(glen_H_data['Acceleration'], window)\n",
    "glen_H_data['RollingMinMagnetometer'] = pd.rolling_min(glen_H_data['Magnetometer'], window)\n",
    "glen_H_data['RollingMinGyrometer'] = pd.rolling_min(glen_H_data['Gyrometer'], window)\n",
    "glen_H_data['RollingMinMicrophone'] = pd.rolling_min(glen_H_data['Microphone'], window)\n",
    "glen_H_data['RollingMinAltimeter'] = pd.rolling_min(glen_H_data['Altimeter (Barometer) Pressure'], window)\n",
    "# Rolling st dev\n",
    "glen_H_data['RollingSDAcceleration'] = pd.rolling_std(glen_H_data['Acceleration'], window)\n",
    "glen_H_data['RollingSDMagnetometer'] = pd.rolling_std(glen_H_data['Magnetometer'], window)\n",
    "glen_H_data['RollingSDGyrometer'] = pd.rolling_std(glen_H_data['Gyrometer'], window)\n",
    "glen_H_data['RollingSDMicrophone'] = pd.rolling_std(glen_H_data['Microphone'], window)\n",
    "glen_H_data['RollingSDAltimeter'] = pd.rolling_std(glen_H_data['Altimeter (Barometer) Pressure'], window)\n",
    "# Rolling var\n",
    "glen_H_data['RollingVarAcceleration'] = pd.rolling_var(glen_H_data['Acceleration'], window)\n",
    "glen_H_data['RollingVarMagnetometer'] = pd.rolling_var(glen_H_data['Magnetometer'], window)\n",
    "glen_H_data['RollingVarGyrometer'] = pd.rolling_var(glen_H_data['Gyrometer'], window)\n",
    "glen_H_data['RollingVarMicrophone'] = pd.rolling_var(glen_H_data['Microphone'], window)\n",
    "glen_H_data['RollingVarAltimeter'] = pd.rolling_var(glen_H_data['Altimeter (Barometer) Pressure'], window)"
   ]
  },
  {
   "cell_type": "code",
   "execution_count": 7,
   "metadata": {
    "collapsed": false,
    "deletable": true,
    "editable": true
   },
   "outputs": [],
   "source": [
    "glen_H_data = glen_H_data.dropna()"
   ]
  },
  {
   "cell_type": "code",
   "execution_count": 8,
   "metadata": {
    "collapsed": false,
    "deletable": true,
    "editable": true
   },
   "outputs": [],
   "source": [
    "# load dataset\n",
    "dataset = dataframe.values\n",
    "X = dataset[:,0:35].astype(float)\n",
    "Y = dataset[:,36]\n",
    "# encode class values as integers\n",
    "encoder = LabelEncoder()\n",
    "encoder.fit(Y)\n",
    "encoded_Y = encoder.transform(Y)\n",
    "# One Hot Encode\n",
    "lb = LabelBinarizer()\n",
    "lb.fit(encoded_Y)\n",
    "dummy_y = lb.fit_transform(encoded_Y)"
   ]
  },
  {
   "cell_type": "code",
   "execution_count": null,
   "metadata": {
    "collapsed": true
   },
   "outputs": [],
   "source": [
    "# build a classifier\n",
    "RF_Class = RandomForestClassifier(n_estimators=100)\n",
    "# Utility function to report best scores\n",
    "def report(results, n_top=3):\n",
    "    for i in range(1, n_top + 1):\n",
    "        candidates = np.flatnonzero(results['rank_test_score'] == i)\n",
    "        for candidate in candidates:\n",
    "            print(\"Model with rank: {0}\".format(i))\n",
    "            print(\"Mean validation score: {0:.3f} (std: {1:.3f})\".format(\n",
    "                  results['mean_test_score'][candidate],\n",
    "                  results['std_test_score'][candidate]))\n",
    "            print(\"Parameters: {0}\".format(results['params'][candidate]))\n",
    "            print(\"\")\n",
    "\n",
    "\n",
    "# specify parameters and distributions to sample from\n",
    "param_dist = {\"max_depth\": [2, 3, None],\n",
    "              \"max_features\": sp_randint(1,3),\n",
    "              \"min_samples_split\": sp_randint(2, 3),\n",
    "              \"min_samples_leaf\": sp_randint(1, 3),\n",
    "              \"bootstrap\": [True, False],\n",
    "              \"criterion\": [\"gini\", \"entropy\"]}\n",
    "\n",
    "# run randomized search\n",
    "n_iter_search = 10\n",
    "random_search = RandomizedSearchCV(RF_Class, param_distributions=param_dist, n_iter=n_iter_search)\n",
    "\n",
    "start = time()\n",
    "random_search.fit(X, dummy_y)\n",
    "print(\"RandomizedSearchCV took %.2f seconds for %d candidates\"\n",
    "      \" parameter settings.\" % ((time() - start), n_iter_search))\n",
    "report(random_search.cv_results_)"
   ]
  },
  {
   "cell_type": "code",
   "execution_count": null,
   "metadata": {
    "collapsed": true,
    "deletable": true,
    "editable": true
   },
   "outputs": [],
   "source": [
    "# logistic regression\n",
    "logreg = sklearn.linear_model.ElasticNetCV(l1_ratio = [0, .25, .5, .75, 1.], cv=3)\n",
    "logreg.fit(X, dummy_y)"
   ]
  },
  {
   "cell_type": "code",
   "execution_count": null,
   "metadata": {
    "collapsed": true
   },
   "outputs": [],
   "source": [
    "# build a classifier\n",
    "ET_Class = ExtraTreesClassifier(n_estimators=100)\n",
    "# Utility function to report best scores\n",
    "def report(results, n_top=3):\n",
    "    for i in range(1, n_top + 1):\n",
    "        candidates = np.flatnonzero(results['rank_test_score'] == i)\n",
    "        for candidate in candidates:\n",
    "            print(\"Model with rank: {0}\".format(i))\n",
    "            print(\"Mean validation score: {0:.3f} (std: {1:.3f})\".format(\n",
    "                  results['mean_test_score'][candidate],\n",
    "                  results['std_test_score'][candidate]))\n",
    "            print(\"Parameters: {0}\".format(results['params'][candidate]))\n",
    "            print(\"\")\n",
    "\n",
    "\n",
    "# specify parameters and distributions to sample from\n",
    "param_dist = {\"max_depth\": [2, 3, None],\n",
    "              \"max_features\": sp_randint(1,3),\n",
    "              \"min_samples_split\": sp_randint(2, 3),\n",
    "              \"min_samples_leaf\": sp_randint(1, 3),\n",
    "              \"bootstrap\": [True, False],\n",
    "              \"criterion\": [\"gini\", \"entropy\"]}\n",
    "\n",
    "# run randomized search\n",
    "n_iter_search = 10\n",
    "random_search = RandomizedSearchCV(ET_Class, param_distributions=param_dist, n_iter=n_iter_search)\n",
    "\n",
    "start = time()\n",
    "random_search.fit(X, dummy_y)\n",
    "print(\"RandomizedSearchCV took %.2f seconds for %d candidates\"\n",
    "      \" parameter settings.\" % ((time() - start), n_iter_search))\n",
    "report(random_search.cv_results_)"
   ]
  },
  {
   "cell_type": "code",
   "execution_count": null,
   "metadata": {
    "collapsed": true
   },
   "outputs": [],
   "source": [
    "# Do the Voting Classifier\n",
    "VCM = VotingClassifier(estimators=[('RF_Class', RF_Class), ('logreg', logreg), ('ET_Class', ET_Class)], voting='hard')\n",
    "VCM.fit(X, dummy_y)\n",
    "VCM.fit_transform(X, dummy_y)"
   ]
  }
 ],
 "metadata": {
  "kernelspec": {
   "display_name": "Python [conda root]",
   "language": "python",
   "name": "conda-root-py"
  },
  "language_info": {
   "codemirror_mode": {
    "name": "ipython",
    "version": 2
   },
   "file_extension": ".py",
   "mimetype": "text/x-python",
   "name": "python",
   "nbconvert_exporter": "python",
   "pygments_lexer": "ipython2",
   "version": "2.7.13"
  }
 },
 "nbformat": 4,
 "nbformat_minor": 2
}
