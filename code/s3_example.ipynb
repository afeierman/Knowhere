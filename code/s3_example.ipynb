{
 "cells": [
  {
   "cell_type": "code",
   "execution_count": 1,
   "metadata": {
    "collapsed": false
   },
   "outputs": [],
   "source": [
    "import db.knowhere_db as kdb\n",
    "import pickle"
   ]
  },
  {
   "cell_type": "code",
   "execution_count": 2,
   "metadata": {
    "collapsed": false
   },
   "outputs": [],
   "source": [
    "uploader = kdb.S3(db_name='knowhere')"
   ]
  },
  {
   "cell_type": "code",
   "execution_count": 3,
   "metadata": {
    "collapsed": false
   },
   "outputs": [],
   "source": [
    "foobar = {'bill': '4518', 'becky': '4516', 'mom': '4517'}\n",
    "# (self, username, model_type, file_object, fname, bucket, collection='models')\n",
    "pickle_obj = pickle.dumps(foobar)\n",
    "uploader.upload_to_s3('emil', 'H', pickle_obj, 'spearH', 'knowhere-data', 'models')"
   ]
  },
  {
   "cell_type": "code",
   "execution_count": 4,
   "metadata": {
    "collapsed": false
   },
   "outputs": [
    {
     "name": "stdout",
     "output_type": "stream",
     "text": [
      "{u'H': \"(dp0\\nS'bill'\\np1\\nS'4518'\\np2\\nsS'mom'\\np3\\nS'4517'\\np4\\nsS'becky'\\np5\\nS'4516'\\np6\\ns.\"}\n",
      "{'bill': '4518', 'mom': '4517', 'becky': '4516'}\n"
     ]
    }
   ],
   "source": [
    "pickle_objs = uploader.retrieve_from_s3('emil', bucket='knowhere-data', collection='models')\n",
    "for _, obj in pickle_objs.iteritems():\n",
    "    print pickle.loads(obj)"
   ]
  }
 ],
 "metadata": {
  "kernelspec": {
   "display_name": "Python 2",
   "language": "python",
   "name": "python2"
  },
  "language_info": {
   "codemirror_mode": {
    "name": "ipython",
    "version": 2
   },
   "file_extension": ".py",
   "mimetype": "text/x-python",
   "name": "python",
   "nbconvert_exporter": "python",
   "pygments_lexer": "ipython2",
   "version": "2.7.6"
  }
 },
 "nbformat": 4,
 "nbformat_minor": 2
}
