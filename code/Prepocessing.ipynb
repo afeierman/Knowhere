{
 "cells": [
  {
   "cell_type": "code",
   "execution_count": 1,
   "metadata": {
    "collapsed": false,
    "deletable": true,
    "editable": true
   },
   "outputs": [],
   "source": [
    "import db.knowhere_db as kdb\n",
    "import pipeline.pipeline as pipeline\n",
    "import pandas as pd\n",
    "import numpy as np"
   ]
  },
  {
   "cell_type": "code",
   "execution_count": null,
   "metadata": {
    "collapsed": false,
    "deletable": true,
    "editable": true
   },
   "outputs": [],
   "source": [
    "reader = kdb.Reader('knowhere')\n",
    "emil_H_data = reader.get_dataframe_pivoted(collection='iphone_test',username='emil')\n",
    "emil_H_data = emil_H_data[['Acceleration (x)','Acceleration (y)','Acceleration (z)', 'Altimeter (Barometer) (Pressure)',\\\n",
    "                           'Microphone (Left Channel Level)', 'Microphone (Right Channel Level)','Magnetometer (raw) (x)',\\\n",
    "                           'Magnetometer (raw) (y)','Magnetometer (raw) (z)','Gyrometer (x)','Gyrometer (y)',\\\n",
    "                           'Gyrometer (z)']]\n",
    "emil_H_data = emil_H_data.dropna().astype(float)"
   ]
  },
  {
   "cell_type": "code",
   "execution_count": null,
   "metadata": {
    "collapsed": false,
    "deletable": true,
    "editable": true
   },
   "outputs": [],
   "source": [
    "emil_H_data['Acceleration'] =  np.sqrt(emil_H_data['Acceleration (x)']**2 + emil_H_data['Acceleration (y)']**2 +\\\n",
    "                                       emil_H_data['Acceleration (z)']**2)\n",
    "emil_H_data['Magnetometer'] =  np.sqrt(emil_H_data['Magnetometer (raw) (x)']**2 + emil_H_data['Magnetometer (raw) (y)']**2 +\\\n",
    "                                       emil_H_data['Magnetometer (raw) (z)']**2)\n",
    "emil_H_data['Gyrometer']    =  np.sqrt(emil_H_data['Gyrometer (x)']**2 + emil_H_data['Gyrometer (y)']**2 +\\\n",
    "                                       emil_H_data['Gyrometer (z)']**2)\n",
    "emil_H_data['Microphone']    =  (emil_H_data['Microphone (Left Channel Level)'] +\\\n",
    "                                emil_H_data['Microphone (Right Channel Level)'])/2\n",
    "emil_H_data = emil_H_data[['Acceleration','Magnetometer','Gyrometer','Microphone','Altimeter (Barometer) (Pressure)']]"
   ]
  },
  {
   "cell_type": "code",
   "execution_count": null,
   "metadata": {
    "collapsed": false,
    "deletable": true,
    "editable": true
   },
   "outputs": [],
   "source": [
    "emil_H_data1.resample(\"2s\").mean()"
   ]
  },
  {
   "cell_type": "code",
   "execution_count": null,
   "metadata": {
    "collapsed": false,
    "deletable": true,
    "editable": true
   },
   "outputs": [],
   "source": [
    "emil_H_data1"
   ]
  },
  {
   "cell_type": "code",
   "execution_count": null,
   "metadata": {
    "collapsed": true,
    "deletable": true,
    "editable": true
   },
   "outputs": [],
   "source": []
  }
 ],
 "metadata": {
  "kernelspec": {
   "display_name": "Python [conda root]",
   "language": "python",
   "name": "conda-root-py"
  },
  "language_info": {
   "codemirror_mode": {
    "name": "ipython",
    "version": 2
   },
   "file_extension": ".py",
   "mimetype": "text/x-python",
   "name": "python",
   "nbconvert_exporter": "python",
   "pygments_lexer": "ipython2",
   "version": "2.7.13"
  }
 },
 "nbformat": 4,
 "nbformat_minor": 2
}
