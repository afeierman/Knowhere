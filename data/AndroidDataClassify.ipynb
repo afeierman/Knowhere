{
 "cells": [
  {
   "cell_type": "code",
   "execution_count": 6,
   "metadata": {
    "collapsed": true
   },
   "outputs": [],
   "source": [
    "import pandas as pd\n",
    "import matplotlib.pyplot as plt\n",
    "%matplotlib inline\n",
    "import csv"
   ]
  },
  {
   "cell_type": "markdown",
   "metadata": {},
   "source": [
    "#### Read Data In"
   ]
  },
  {
   "cell_type": "code",
   "execution_count": 25,
   "metadata": {
    "collapsed": false
   },
   "outputs": [
    {
     "name": "stdout",
     "output_type": "stream",
     "text": [
      "[('Chart Andrew_03-19-2017_Evening_acc.csv from SensorKineticsPro', '03-19-2017'), ('Chart Andrew_3-20-2017_Morning_mag.csv from SensorKineticsPro', '3-20-2017'), ('Andrew_03-19-2017_Morning_gyr.csv', '03-19-2017'), ('Chart Andrew_03-19-2017_Evening_gyr.csv from SensorKineticsPro', '03-19-2017'), ('Chart Andrew_3-20-2017_Morning_gyr.csv from SensorKineticsPro', '3-20-2017'), ('Chart Andrew_03-19-2017_Evening_mag.csv from SensorKineticsPro', '03-19-2017'), ('Andrew_03-19-2017_Morning_mag.csv', '03-19-2017'), ('Chart Andrew_3-20-2017_Morning_acc.csv from SensorKineticsPro', '3-20-2017'), ('Andrew_03-18-2017_Evening_gyr.csv', '03-18-2017'), ('Andrew_03-18-2017_Evening_acc.csv', '03-18-2017'), ('Andrew_03-18-2017_Evening_mag.csv', '03-18-2017')]\n"
     ]
    }
   ],
   "source": [
    "import os\n",
    "import re\n",
    "\n",
    "path = \"Android/Incoming/\"\n",
    "filelist = []\n",
    "for f in os.listdir(path):\n",
    "    if f[0] != '.' and 'LABELED' not in str(f):\n",
    "        if re.search(\"[^_]*-[^_]*\", f):\n",
    "            day = re.search(\"[^_]*-[^_]*\", f).group()\n",
    "            filelist.append((f, day))\n",
    "        \n",
    "print filelist"
   ]
  },
  {
   "cell_type": "markdown",
   "metadata": {},
   "source": [
    "#### Necessary Input"
   ]
  },
  {
   "cell_type": "code",
   "execution_count": 26,
   "metadata": {
    "collapsed": true
   },
   "outputs": [],
   "source": [
    "events_list = [(\"10:10:01\", \"W\"), (\"10:19:00\", \"T_B\"), (\"10:27:00\", \"T_E\"), (\"10:28:00\", \"P_W\"), \n",
    "         (\"10:31:00\", \"T_B\"), (\"10:32:00\", \"T_S\"), (\"10:35:00\", \"T_S\"), (\"10:38:00\", \"T_E\"), \n",
    "         (\"10:39:00\", \"W\")]"
   ]
  },
  {
   "cell_type": "code",
   "execution_count": 27,
   "metadata": {
    "collapsed": true
   },
   "outputs": [],
   "source": [
    "days_and_starts = {'2017-03-19':[\"10:10:01\", \"18:12:00\"], '2017-03-20': ['08:26:00', '']}"
   ]
  },
  {
   "cell_type": "markdown",
   "metadata": {},
   "source": [
    "#### Functions for Classifying"
   ]
  },
  {
   "cell_type": "code",
   "execution_count": 28,
   "metadata": {
    "collapsed": false
   },
   "outputs": [],
   "source": [
    "def add_acceleration_magnitude(df):\n",
    "    \"Adds Acceleration magnitude to a dataframe. First 3 columns must be acceleration vectors. Must be 3D.\"\n",
    "    from math import sqrt\n",
    "\n",
    "    accel_mag = []\n",
    "    \n",
    "    for row in range(len(df)):\n",
    "        accel_mag.append(sqrt(df.iloc[row, 0]**2 + df.iloc[row, 1]**2 + df.iloc[row, 2]**2))\n",
    "\n",
    "    df['accel_mag'] = accel_mag\n",
    "    return 'finished!'"
   ]
  },
  {
   "cell_type": "code",
   "execution_count": 29,
   "metadata": {
    "collapsed": true
   },
   "outputs": [],
   "source": [
    "def rel_time_to_real_time(df, day, start_time):\n",
    "    from pandas.tseries.offsets import DateOffset\n",
    "    df.index = [pd.Timestamp(day + \" \" + start_time) + DateOffset(seconds=x) for x in df.index]\n",
    "    return \"Finished!\""
   ]
  },
  {
   "cell_type": "code",
   "execution_count": 30,
   "metadata": {
    "collapsed": true
   },
   "outputs": [],
   "source": [
    "def add_classifications(df, day, events):\n",
    "    '''Pass events as a list of tuples (datetime, eventcode) to classify different events '''\n",
    "    from pandas.tseries.offsets import DateOffset\n",
    "    \n",
    "    for event in events:\n",
    "        df.loc[day + \" \" + event[0], 'classification'] = event[1]\n",
    "        if event[1] == \"T_S\":\n",
    "            df.loc[str((pd.Timestamp(day + \" \" + event[0])+ pd.DateOffset(seconds=40))), 'classification'] = \"T_B\"\n",
    "    df = df.fillna(method='ffill', inplace = True)\n",
    "    \n",
    "    return \"Finished!\""
   ]
  },
  {
   "cell_type": "code",
   "execution_count": 34,
   "metadata": {
    "collapsed": false
   },
   "outputs": [],
   "source": [
    "def label_raw_android(f, day, events, start_time, accel_mag = False):\n",
    "    df = pd.read_csv((path + f), index_col = 0)\n",
    "    if accel_mag == True:\n",
    "        add_acceleration_magnitude(df)\n",
    "    rel_time_to_real_time(df, day, start_time)\n",
    "    df['classification'] = None\n",
    "    add_classifications(df, day, events)\n",
    "    df.to_csv(\"Android/Classified/LABELED_\" + f)\n",
    "    print \"Finished!\""
   ]
  },
  {
   "cell_type": "code",
   "execution_count": null,
   "metadata": {
    "collapsed": true
   },
   "outputs": [],
   "source": []
  },
  {
   "cell_type": "markdown",
   "metadata": {},
   "source": [
    "#### Classifying Data"
   ]
  },
  {
   "cell_type": "code",
   "execution_count": 35,
   "metadata": {
    "collapsed": false
   },
   "outputs": [
    {
     "name": "stdout",
     "output_type": "stream",
     "text": [
      "Finished!\n"
     ]
    }
   ],
   "source": [
    "#Use this function to Classify an android file. Must be done manually now... will automate\n",
    "#later if we decide to use a lot of android data\n",
    "\n",
    "label_raw_android(\"Andrew_03-19-2017_Morning_mag.csv\", \"2017-03-19\", events_list, \"10:10:01\")"
   ]
  },
  {
   "cell_type": "code",
   "execution_count": null,
   "metadata": {
    "collapsed": true
   },
   "outputs": [],
   "source": []
  }
 ],
 "metadata": {
  "anaconda-cloud": {},
  "kernelspec": {
   "display_name": "Python [conda root]",
   "language": "python",
   "name": "conda-root-py"
  },
  "language_info": {
   "codemirror_mode": {
    "name": "ipython",
    "version": 2
   },
   "file_extension": ".py",
   "mimetype": "text/x-python",
   "name": "python",
   "nbconvert_exporter": "python",
   "pygments_lexer": "ipython2",
   "version": "2.7.13"
  }
 },
 "nbformat": 4,
 "nbformat_minor": 2
}
