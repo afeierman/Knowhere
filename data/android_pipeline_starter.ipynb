{
 "cells": [
  {
   "cell_type": "code",
   "execution_count": 1,
   "metadata": {
    "collapsed": false
   },
   "outputs": [],
   "source": [
    "import pandas as pd\n",
    "import csv\n",
    "import json\n",
    "import os\n",
    "import re\n",
    "from collections import defaultdict"
   ]
  },
  {
   "cell_type": "code",
   "execution_count": 2,
   "metadata": {
    "collapsed": true
   },
   "outputs": [],
   "source": [
    "#do the same but for Android data\n",
    "json_data_android = []\n",
    "path = 'Android/'\n"
   ]
  },
  {
   "cell_type": "code",
   "execution_count": 6,
   "metadata": {
    "collapsed": true
   },
   "outputs": [],
   "source": [
    "mag_files, accel_files, gyr_files = [], [], []"
   ]
  },
  {
   "cell_type": "code",
   "execution_count": 9,
   "metadata": {
    "collapsed": false
   },
   "outputs": [],
   "source": [
    "def rename_android_files(user):\n",
    "    path = 'Android/incoming'\n",
    "    filelist = os.listdir(path) \n",
    "    mag_count, accel_count, gyr_count = 1, 1, 1\n",
    "    #rename all the files to better identify user and data log type\n",
    "    for f in filelist:\n",
    "        #get the original filename and its extension\n",
    "        original_filename, ext = os.path.splitext(f)[0], os.path.splitext(f)[1]\n",
    "        #See if the file has magnetometer or accelerometer data\n",
    "        log_type = re.search(\"[^_]*$\", original_filename).group()\n",
    "        if \"mag\" in log_type:\n",
    "            #create the new file name\n",
    "            new_filename = \"%s_magnetometer_%.4d\" % (user, mag_count)\n",
    "            #actually rename the file\n",
    "            #os.rename(path + f, path + new_filename + ext)\n",
    "            print new_filename\n",
    "            #increment mag_count so the next file is sequentially ordered. input order doesnt matter since theyre timestamped\n",
    "            mag_count += 1\n",
    "            #add to mag_files list so we can read and clean all magnetometer data later\n",
    "            #mag_files.append(path + new_filename + ext)\n",
    "        \n",
    "        elif \"acc\" in log_type:\n",
    "            new_filename = \"%s_accelerometer_%.4d\" % (user, accel_count)\n",
    "            #os.rename(path + f, path + new_filename + ext)\n",
    "            accel_count += 1\n",
    "            print new_filename\n",
    "            #accel_files.append(path + new_filename + ext)\n",
    "        \n",
    "        elif \"gyr\" in log_type:\n",
    "            new_filename = \"%s_gyrometer_%.4d\" % (user, gyr_count)\n",
    "            #os.rename(path + f, path + new_filename + ext)\n",
    "            gyr_count += 1\n",
    "            print new_filename\n",
    "            #gyr_files.append(path + new_filename + ext)\n",
    "        else:\n",
    "            print \"Unhandled File: %s\" % (f) #perhaps this should be an exception"
   ]
  },
  {
   "cell_type": "code",
   "execution_count": 10,
   "metadata": {
    "collapsed": false,
    "scrolled": true
   },
   "outputs": [
    {
     "name": "stdout",
     "output_type": "stream",
     "text": [
      "Andrew_accelerometer_0001\n",
      "Andrew_magnetometer_0001\n",
      "Andrew_gyrometer_0001\n",
      "Andrew_gyrometer_0002\n",
      "Andrew_magnetometer_0002\n",
      "Andrew_gyrometer_0003\n",
      "Andrew_magnetometer_0003\n",
      "Andrew_gyrometer_0004\n",
      "Andrew_gyrometer_0005\n",
      "Andrew_accelerometer_0002\n",
      "Andrew_gyrometer_0006\n",
      "Andrew_gyrometer_0007\n",
      "Andrew_accelerometer_0003\n",
      "Andrew_gyrometer_0008\n",
      "Andrew_accelerometer_0004\n",
      "Andrew_magnetometer_0004\n",
      "Andrew_magnetometer_0005\n",
      "Unhandled File: raw\n",
      "Andrew_magnetometer_0006\n",
      "Andrew_accelerometer_0005\n",
      "Andrew_accelerometer_0006\n",
      "Andrew_magnetometer_0007\n",
      "Andrew_gyrometer_0009\n",
      "Andrew_gyrometer_0010\n",
      "Andrew_magnetometer_0008\n",
      "Andrew_accelerometer_0007\n",
      "Andrew_accelerometer_0008\n",
      "Andrew_magnetometer_0009\n",
      "Andrew_accelerometer_0009\n",
      "Andrew_magnetometer_0010\n"
     ]
    }
   ],
   "source": [
    "#run this function for each user\n",
    "rename_android_files(\"Andrew\")"
   ]
  },
  {
   "cell_type": "code",
   "execution_count": 95,
   "metadata": {
    "collapsed": false
   },
   "outputs": [],
   "source": [
    "def read_in_android_accelerometer(fp):\n",
    "    with open(\"Android/Andrew_accelerometer_0001.log\", \"r+\") as datafile:\n",
    "            reader = csv.reader(datafile, delimiter = \";\")\n",
    "            header = next(reader)\n",
    "            for row in reader:\n",
    "                #some accelometer readings don't have GPS data, handle them like this:\n",
    "                if len(row) == 7:\n",
    "                    observation = {'device': \"Android\", '_user_id': \"test_user\", \n",
    "                                   'timestamp': re.sub(\"_\", \"T\", row[1][0:-4]),\n",
    "                               'data': {'x_accel': row[3], 'y_accel': row[4], 'z_accel': row[3]}}\n",
    "                #some accelometer readings do have GPS data, handle them like this:\n",
    "                elif len(row) == 11: \n",
    "                    observation = {'device': \"Android\", '_user_id': \"test_user\", \n",
    "                                   'timestamp': re.sub(\"_\", \"T\", row[1][0:-4]),\n",
    "                               'data': {'latitude': row[3], 'longitude': row[4], 'relative_altitude': row[5],\n",
    "                                        'accuracy': row[6], 'x_accel': row[7], 'y_accel': row[8], 'z_accel': row[9]}}\n",
    "                json_data_android.append(observation)           \n"
   ]
  },
  {
   "cell_type": "code",
   "execution_count": 96,
   "metadata": {
    "collapsed": false
   },
   "outputs": [],
   "source": [
    "path = 'Android/'\n",
    "\n",
    "def get_all_android_files():\n",
    "    filelist = os.listdir(path) \n",
    "    for file in filelist:\n",
    "        fp = path + file\n",
    "        if 'accelerometer' in fp:\n",
    "            read_in_android_accelerometer(fp)"
   ]
  },
  {
   "cell_type": "code",
   "execution_count": 97,
   "metadata": {
    "collapsed": false
   },
   "outputs": [],
   "source": [
    "get_all_android_files()        "
   ]
  },
  {
   "cell_type": "code",
   "execution_count": 98,
   "metadata": {
    "collapsed": false
   },
   "outputs": [],
   "source": [
    "androidFull = pd.io.json.json_normalize(json_data_android).set_index('timestamp')\n",
    "androidFull.index = pd.to_datetime(androidFull.index)\n",
    "json_dataAndroid = json.dumps(json_data_android)"
   ]
  },
  {
   "cell_type": "code",
   "execution_count": 100,
   "metadata": {
    "collapsed": false
   },
   "outputs": [
    {
     "data": {
      "text/html": [
       "<div>\n",
       "<table border=\"1\" class=\"dataframe\">\n",
       "  <thead>\n",
       "    <tr style=\"text-align: right;\">\n",
       "      <th></th>\n",
       "      <th>_user_id</th>\n",
       "      <th>data.x_accel</th>\n",
       "      <th>data.y_accel</th>\n",
       "      <th>data.z_accel</th>\n",
       "      <th>device</th>\n",
       "    </tr>\n",
       "    <tr>\n",
       "      <th>timestamp</th>\n",
       "      <th></th>\n",
       "      <th></th>\n",
       "      <th></th>\n",
       "      <th></th>\n",
       "      <th></th>\n",
       "    </tr>\n",
       "  </thead>\n",
       "  <tbody>\n",
       "    <tr>\n",
       "      <th>2017-03-10 16:00:00</th>\n",
       "      <td>test_user</td>\n",
       "      <td>-0.953</td>\n",
       "      <td>1.854</td>\n",
       "      <td>-0.953</td>\n",
       "      <td>Android</td>\n",
       "    </tr>\n",
       "    <tr>\n",
       "      <th>2017-03-10 16:00:00</th>\n",
       "      <td>test_user</td>\n",
       "      <td>-0.953</td>\n",
       "      <td>1.854</td>\n",
       "      <td>-0.953</td>\n",
       "      <td>Android</td>\n",
       "    </tr>\n",
       "    <tr>\n",
       "      <th>2017-03-11 03:00:00</th>\n",
       "      <td>test_user</td>\n",
       "      <td>-1.717</td>\n",
       "      <td>2.247</td>\n",
       "      <td>-1.717</td>\n",
       "      <td>Android</td>\n",
       "    </tr>\n",
       "    <tr>\n",
       "      <th>2017-03-11 03:00:00</th>\n",
       "      <td>test_user</td>\n",
       "      <td>-1.717</td>\n",
       "      <td>2.247</td>\n",
       "      <td>-1.717</td>\n",
       "      <td>Android</td>\n",
       "    </tr>\n",
       "    <tr>\n",
       "      <th>2017-03-11 04:00:00</th>\n",
       "      <td>test_user</td>\n",
       "      <td>-1.717</td>\n",
       "      <td>2.247</td>\n",
       "      <td>-1.717</td>\n",
       "      <td>Android</td>\n",
       "    </tr>\n",
       "  </tbody>\n",
       "</table>\n",
       "</div>"
      ],
      "text/plain": [
       "                      _user_id data.x_accel data.y_accel data.z_accel   device\n",
       "timestamp                                                                     \n",
       "2017-03-10 16:00:00  test_user       -0.953        1.854       -0.953  Android\n",
       "2017-03-10 16:00:00  test_user       -0.953        1.854       -0.953  Android\n",
       "2017-03-11 03:00:00  test_user       -1.717        2.247       -1.717  Android\n",
       "2017-03-11 03:00:00  test_user       -1.717        2.247       -1.717  Android\n",
       "2017-03-11 04:00:00  test_user       -1.717        2.247       -1.717  Android"
      ]
     },
     "execution_count": 100,
     "metadata": {},
     "output_type": "execute_result"
    }
   ],
   "source": [
    "androidFull.head()"
   ]
  },
  {
   "cell_type": "code",
   "execution_count": null,
   "metadata": {
    "collapsed": false
   },
   "outputs": [],
   "source": []
  },
  {
   "cell_type": "code",
   "execution_count": null,
   "metadata": {
    "collapsed": true
   },
   "outputs": [],
   "source": []
  }
 ],
 "metadata": {
  "anaconda-cloud": {},
  "kernelspec": {
   "display_name": "Python [default]",
   "language": "python",
   "name": "python2"
  },
  "language_info": {
   "codemirror_mode": {
    "name": "ipython",
    "version": 2
   },
   "file_extension": ".py",
   "mimetype": "text/x-python",
   "name": "python",
   "nbconvert_exporter": "python",
   "pygments_lexer": "ipython2",
   "version": "2.7.13"
  }
 },
 "nbformat": 4,
 "nbformat_minor": 2
}
