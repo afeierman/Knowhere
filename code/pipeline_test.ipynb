{
 "cells": [
  {
   "cell_type": "code",
   "execution_count": 1,
   "metadata": {
    "collapsed": false
   },
   "outputs": [],
   "source": [
    "import pipeline.pipeline as pipeline\n",
    "import db.knowhere_db as kdb\n",
    "import time"
   ]
  },
  {
   "cell_type": "code",
   "execution_count": null,
   "metadata": {
    "collapsed": true
   },
   "outputs": [],
   "source": [
    "fName = r'C:/Users/William/Documents/DataScience/Projects/Knowhere/data/aggregated_emil_sensor2.csv'"
   ]
  },
  {
   "cell_type": "code",
   "execution_count": null,
   "metadata": {
    "collapsed": false
   },
   "outputs": [],
   "source": [
    "user_df = pipeline.iphone(user_id='58c5b91d71a9e82f33ad1668', file_with_path=fName)"
   ]
  },
  {
   "cell_type": "code",
   "execution_count": null,
   "metadata": {
    "collapsed": false
   },
   "outputs": [],
   "source": [
    "user_df.to_dict(orient='records')"
   ]
  },
  {
   "cell_type": "code",
   "execution_count": null,
   "metadata": {
    "collapsed": false
   },
   "outputs": [],
   "source": [
    "writer = kdb.Writer('knowhere')\n",
    "writer.write_dataframe_to_collection(df=user_df, collection='iphone_test')"
   ]
  },
  {
   "cell_type": "code",
   "execution_count": 2,
   "metadata": {
    "collapsed": false,
    "scrolled": false
   },
   "outputs": [
    {
     "data": {
      "text/html": [
       "<div>\n",
       "<table border=\"1\" class=\"dataframe\">\n",
       "  <thead>\n",
       "    <tr style=\"text-align: right;\">\n",
       "      <th></th>\n",
       "      <th>_id</th>\n",
       "      <th>data</th>\n",
       "      <th>sensor</th>\n",
       "      <th>timestamp</th>\n",
       "      <th>user_id</th>\n",
       "    </tr>\n",
       "  </thead>\n",
       "  <tbody>\n",
       "    <tr>\n",
       "      <th>0</th>\n",
       "      <td>58c80246ea2bfa24d01dc805</td>\n",
       "      <td>{u'Latitude': u'40.7530392755199', u'Vertical ...</td>\n",
       "      <td>GPS</td>\n",
       "      <td>2017-03-08 10:38:48</td>\n",
       "      <td>58c5b91d71a9e82f33ad1668</td>\n",
       "    </tr>\n",
       "    <tr>\n",
       "      <th>1</th>\n",
       "      <td>58c80246ea2bfa24d01dc806</td>\n",
       "      <td>{u'y': u'0.0504199266433716', u'x': u'-0.00513...</td>\n",
       "      <td>Acceleration</td>\n",
       "      <td>2017-03-08 10:38:49</td>\n",
       "      <td>58c5b91d71a9e82f33ad1668</td>\n",
       "    </tr>\n",
       "    <tr>\n",
       "      <th>2</th>\n",
       "      <td>58c80246ea2bfa24d01dc807</td>\n",
       "      <td>{u'Pressure': u'101.2276611328125', u'Relative...</td>\n",
       "      <td>Altimeter (Barometer)</td>\n",
       "      <td>2017-03-08 10:38:49</td>\n",
       "      <td>58c5b91d71a9e82f33ad1668</td>\n",
       "    </tr>\n",
       "    <tr>\n",
       "      <th>3</th>\n",
       "      <td>58c80246ea2bfa24d01dc808</td>\n",
       "      <td>{u'Yaw': u'-0.422258717009882', u'Quarternion ...</td>\n",
       "      <td>Attitude</td>\n",
       "      <td>2017-03-08 10:38:49</td>\n",
       "      <td>58c5b91d71a9e82f33ad1668</td>\n",
       "    </tr>\n",
       "    <tr>\n",
       "      <th>4</th>\n",
       "      <td>58c80246ea2bfa24d01dc809</td>\n",
       "      <td>{u'State': u'Discharging', u'Level': u'0.55'}</td>\n",
       "      <td>Battery</td>\n",
       "      <td>2017-03-08 10:38:49</td>\n",
       "      <td>58c5b91d71a9e82f33ad1668</td>\n",
       "    </tr>\n",
       "    <tr>\n",
       "      <th>5</th>\n",
       "      <td>58c80246ea2bfa24d01dc80a</td>\n",
       "      <td>{u'Status': u'Off'}</td>\n",
       "      <td>Bluetooth</td>\n",
       "      <td>2017-03-08 10:38:49</td>\n",
       "      <td>58c5b91d71a9e82f33ad1668</td>\n",
       "    </tr>\n",
       "    <tr>\n",
       "      <th>6</th>\n",
       "      <td>58c80246ea2bfa24d01dc80b</td>\n",
       "      <td>{u'Radio Access Technology': u'4G (LTE)', u'Ca...</td>\n",
       "      <td>Cell Radio</td>\n",
       "      <td>2017-03-08 10:38:49</td>\n",
       "      <td>58c5b91d71a9e82f33ad1668</td>\n",
       "    </tr>\n",
       "    <tr>\n",
       "      <th>7</th>\n",
       "      <td>58c80246ea2bfa24d01dc80c</td>\n",
       "      <td>{u'Latitude': u'40.7530392777554', u'Vertical ...</td>\n",
       "      <td>GPS</td>\n",
       "      <td>2017-03-08 10:38:49</td>\n",
       "      <td>58c5b91d71a9e82f33ad1668</td>\n",
       "    </tr>\n",
       "    <tr>\n",
       "      <th>8</th>\n",
       "      <td>58c80246ea2bfa24d01dc80d</td>\n",
       "      <td>{u'y': u'-0.226155400276184', u'x': u'0.081479...</td>\n",
       "      <td>Gravity</td>\n",
       "      <td>2017-03-08 10:38:49</td>\n",
       "      <td>58c5b91d71a9e82f33ad1668</td>\n",
       "    </tr>\n",
       "    <tr>\n",
       "      <th>9</th>\n",
       "      <td>58c80246ea2bfa24d01dc80e</td>\n",
       "      <td>{u'y': u'-1.38406085968018', u'x': u'-0.787979...</td>\n",
       "      <td>Gyrometer</td>\n",
       "      <td>2017-03-08 10:38:49</td>\n",
       "      <td>58c5b91d71a9e82f33ad1668</td>\n",
       "    </tr>\n",
       "  </tbody>\n",
       "</table>\n",
       "</div>"
      ],
      "text/plain": [
       "                        _id  \\\n",
       "0  58c80246ea2bfa24d01dc805   \n",
       "1  58c80246ea2bfa24d01dc806   \n",
       "2  58c80246ea2bfa24d01dc807   \n",
       "3  58c80246ea2bfa24d01dc808   \n",
       "4  58c80246ea2bfa24d01dc809   \n",
       "5  58c80246ea2bfa24d01dc80a   \n",
       "6  58c80246ea2bfa24d01dc80b   \n",
       "7  58c80246ea2bfa24d01dc80c   \n",
       "8  58c80246ea2bfa24d01dc80d   \n",
       "9  58c80246ea2bfa24d01dc80e   \n",
       "\n",
       "                                                data                 sensor  \\\n",
       "0  {u'Latitude': u'40.7530392755199', u'Vertical ...                    GPS   \n",
       "1  {u'y': u'0.0504199266433716', u'x': u'-0.00513...           Acceleration   \n",
       "2  {u'Pressure': u'101.2276611328125', u'Relative...  Altimeter (Barometer)   \n",
       "3  {u'Yaw': u'-0.422258717009882', u'Quarternion ...               Attitude   \n",
       "4      {u'State': u'Discharging', u'Level': u'0.55'}                Battery   \n",
       "5                                {u'Status': u'Off'}              Bluetooth   \n",
       "6  {u'Radio Access Technology': u'4G (LTE)', u'Ca...             Cell Radio   \n",
       "7  {u'Latitude': u'40.7530392777554', u'Vertical ...                    GPS   \n",
       "8  {u'y': u'-0.226155400276184', u'x': u'0.081479...                Gravity   \n",
       "9  {u'y': u'-1.38406085968018', u'x': u'-0.787979...              Gyrometer   \n",
       "\n",
       "            timestamp                   user_id  \n",
       "0 2017-03-08 10:38:48  58c5b91d71a9e82f33ad1668  \n",
       "1 2017-03-08 10:38:49  58c5b91d71a9e82f33ad1668  \n",
       "2 2017-03-08 10:38:49  58c5b91d71a9e82f33ad1668  \n",
       "3 2017-03-08 10:38:49  58c5b91d71a9e82f33ad1668  \n",
       "4 2017-03-08 10:38:49  58c5b91d71a9e82f33ad1668  \n",
       "5 2017-03-08 10:38:49  58c5b91d71a9e82f33ad1668  \n",
       "6 2017-03-08 10:38:49  58c5b91d71a9e82f33ad1668  \n",
       "7 2017-03-08 10:38:49  58c5b91d71a9e82f33ad1668  \n",
       "8 2017-03-08 10:38:49  58c5b91d71a9e82f33ad1668  \n",
       "9 2017-03-08 10:38:49  58c5b91d71a9e82f33ad1668  "
      ]
     },
     "execution_count": 2,
     "metadata": {},
     "output_type": "execute_result"
    }
   ],
   "source": [
    "reader = kdb.Reader('knowhere')\n",
    "rdf = reader.get_dataframe(collection='iphone_test')\n",
    "rdf[0:10]"
   ]
  },
  {
   "cell_type": "code",
   "execution_count": null,
   "metadata": {
    "collapsed": false
   },
   "outputs": [],
   "source": [
    "import pymongo\n",
    "import ConfigParser\n",
    "from pandas import DataFrame\n",
    "\n",
    "cntr = 0\n",
    "\n",
    "for entry in reader.filter_collection('iphone_test'):\n",
    "    row = {'timestamp': entry['timestamp'], 'user_id': entry['user_id'], 'sensor': entry['sensor']}\n",
    "    if cntr > 7:\n",
    "        break\n",
    "    for data_name, data_raw in entry['data'].iteritems():\n",
    "        if cntr>7:\n",
    "            break\n",
    "        row['data_name'] = data_name\n",
    "        row['data_raw'] = data_raw\n",
    "        print row\n",
    "        cntr += 1"
   ]
  },
  {
   "cell_type": "code",
   "execution_count": null,
   "metadata": {
    "collapsed": false
   },
   "outputs": [],
   "source": [
    "import pandas as pd\n",
    "\n",
    "rdf2 = rdf.copy()\n",
    "rdf2[['data_name', 'data_raw']] = rdf2.data.apply(lambda data: pd.Series([tuple(data.keys()), tuple(data.values())]))\n",
    "rdf2.drop(['data'], axis=1, inplace=True)\n",
    "rdf2[:3]\n",
    "rdf2.groupby(['_id', 'sensor', 'user_id']).agg(pd.Series)"
   ]
  }
 ],
 "metadata": {
  "kernelspec": {
   "display_name": "Python 2",
   "language": "python",
   "name": "python2"
  },
  "language_info": {
   "codemirror_mode": {
    "name": "ipython",
    "version": 2
   },
   "file_extension": ".py",
   "mimetype": "text/x-python",
   "name": "python",
   "nbconvert_exporter": "python",
   "pygments_lexer": "ipython2",
   "version": "2.7.6"
  }
 },
 "nbformat": 4,
 "nbformat_minor": 2
}
