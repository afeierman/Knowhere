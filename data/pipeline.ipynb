{
 "cells": [
  {
   "cell_type": "code",
   "execution_count": 1,
   "metadata": {
    "collapsed": false
   },
   "outputs": [
    {
     "name": "stdout",
     "output_type": "stream",
     "text": [
      "Android\n",
      "EDA_Glen.ipynb\n",
      "README.md\n",
      "aggregated_sensor.csv\n",
      "iPhone\n",
      "pipeline\n",
      "pipeline-andrew.ipynb\n",
      "pipeline.ipynb\n"
     ]
    }
   ],
   "source": [
    "!ls\n"
   ]
  },
  {
   "cell_type": "code",
   "execution_count": 7,
   "metadata": {
    "collapsed": false
   },
   "outputs": [],
   "source": [
    "import pandas as pd\n",
    "import numpy as np\n",
    "import matplotlib.pyplot as plt\n",
    "import seaborn\n",
    "import csv\n",
    "import json\n",
    "from collections import defaultdict"
   ]
  },
  {
   "cell_type": "code",
   "execution_count": 8,
   "metadata": {
    "collapsed": false
   },
   "outputs": [
    {
     "data": {
      "text/html": [
       "<div>\n",
       "<table border=\"1\" class=\"dataframe\">\n",
       "  <thead>\n",
       "    <tr style=\"text-align: right;\">\n",
       "      <th></th>\n",
       "      <th>IDK</th>\n",
       "      <th>Latitude</th>\n",
       "      <th>Longitude</th>\n",
       "      <th>Alt</th>\n",
       "      <th>Acc</th>\n",
       "      <th>XAccel?</th>\n",
       "      <th>YAccel?</th>\n",
       "      <th>ZAccel?</th>\n",
       "    </tr>\n",
       "    <tr>\n",
       "      <th>Timestamp</th>\n",
       "      <th></th>\n",
       "      <th></th>\n",
       "      <th></th>\n",
       "      <th></th>\n",
       "      <th></th>\n",
       "      <th></th>\n",
       "      <th></th>\n",
       "      <th></th>\n",
       "    </tr>\n",
       "  </thead>\n",
       "  <tbody>\n",
       "    <tr>\n",
       "      <th>NaN</th>\n",
       "      <td>--- LOG START  ---</td>\n",
       "      <td>NaN</td>\n",
       "      <td>NaN</td>\n",
       "      <td>NaN</td>\n",
       "      <td>NaN</td>\n",
       "      <td>NaN</td>\n",
       "      <td>NaN</td>\n",
       "      <td>NaN</td>\n",
       "    </tr>\n",
       "    <tr>\n",
       "      <th>2017-03-08_09-44-46.755</th>\n",
       "      <td>1973</td>\n",
       "      <td>NaN</td>\n",
       "      <td>40.752909</td>\n",
       "      <td>-73.992874</td>\n",
       "      <td>0.0</td>\n",
       "      <td>19.8</td>\n",
       "      <td>-0.297</td>\n",
       "      <td>0.383</td>\n",
       "    </tr>\n",
       "    <tr>\n",
       "      <th>2017-03-08_09-44-49.259</th>\n",
       "      <td>2099</td>\n",
       "      <td>NaN</td>\n",
       "      <td>40.752909</td>\n",
       "      <td>-73.992874</td>\n",
       "      <td>0.0</td>\n",
       "      <td>19.8</td>\n",
       "      <td>-0.297</td>\n",
       "      <td>0.383</td>\n",
       "    </tr>\n",
       "    <tr>\n",
       "      <th>2017-03-08_09-44-51.786</th>\n",
       "      <td>2228</td>\n",
       "      <td>NaN</td>\n",
       "      <td>40.752903</td>\n",
       "      <td>-73.992917</td>\n",
       "      <td>7.0</td>\n",
       "      <td>12.0</td>\n",
       "      <td>-0.053</td>\n",
       "      <td>-0.850</td>\n",
       "    </tr>\n",
       "    <tr>\n",
       "      <th>2017-03-08_09-44-54.289</th>\n",
       "      <td>2354</td>\n",
       "      <td>NaN</td>\n",
       "      <td>40.752903</td>\n",
       "      <td>-73.992917</td>\n",
       "      <td>7.0</td>\n",
       "      <td>12.0</td>\n",
       "      <td>-0.053</td>\n",
       "      <td>-0.850</td>\n",
       "    </tr>\n",
       "  </tbody>\n",
       "</table>\n",
       "</div>"
      ],
      "text/plain": [
       "                                         IDK  Latitude  Longitude        Alt  \\\n",
       "Timestamp                                                                      \n",
       "NaN                      --- LOG START  ---        NaN        NaN        NaN   \n",
       "2017-03-08_09-44-46.755                 1973       NaN  40.752909 -73.992874   \n",
       "2017-03-08_09-44-49.259                 2099       NaN  40.752909 -73.992874   \n",
       "2017-03-08_09-44-51.786                 2228       NaN  40.752903 -73.992917   \n",
       "2017-03-08_09-44-54.289                 2354       NaN  40.752903 -73.992917   \n",
       "\n",
       "                         Acc  XAccel?  YAccel?  ZAccel?  \n",
       "Timestamp                                                \n",
       "NaN                      NaN      NaN      NaN      NaN  \n",
       "2017-03-08_09-44-46.755  0.0     19.8   -0.297    0.383  \n",
       "2017-03-08_09-44-49.259  0.0     19.8   -0.297    0.383  \n",
       "2017-03-08_09-44-51.786  7.0     12.0   -0.053   -0.850  \n",
       "2017-03-08_09-44-54.289  7.0     12.0   -0.053   -0.850  "
      ]
     },
     "execution_count": 8,
     "metadata": {},
     "output_type": "execute_result"
    }
   ],
   "source": [
    "droid_columns = [\"IDK\", \"Timestamp\", \"Latitude\", \"Longitude\", \"Alt\", \"Acc\", \"XAccel?\", \"YAccel?\", \"ZAccel?\"]\n",
    "droid = pd.read_csv(\"Android/LOG_2017-03-08_09-44-46BMI160_accelerometer.log\", sep=\";\", names = droid_columns, index_col=1)\n",
    "droid.head()"
   ]
  },
  {
   "cell_type": "code",
   "execution_count": 11,
   "metadata": {
    "collapsed": false
   },
   "outputs": [],
   "source": [
    "def Clean_iPhone_Data(file_with_path):\n",
    "#    df = pd.read_csv(file_with_path, na_values=\"NULL\",\\\n",
    "#                         names=[\"Timestamp\", \"Data Source\", \"Data\", \"Display Value\", \"Raw Value\"], index_col = 0)\n",
    "    data = []\n",
    "    with open(file_with_path, \"r+\") as datafile:\n",
    "        reader = csv.reader(datafile)\n",
    "        header = next(reader)\n",
    "        for row in reader:\n",
    "            # \"Timestamp\", \"Data Source\", \"Data\", \"Display Value\", \"Raw Value\"\n",
    "            row = reduce(lambda x,y: x[:-1] + x[-1] + ';' + y if ']' in y else x + ',' + y, row)\n",
    "            row = row.split(',')\n",
    "            observation = {'sensor': row[1], '_user_id': 'glen', 'timestamp': row[0], 'data': {'name': row[2], 'raw': row[4], 'display': row[3]}}\n",
    "            data.append(observation)\n",
    "        data = pd.io.json.json_normalize(data).set_index('timestamp')\n",
    "        data.index = pd.to_datetime(iphone2.index)\n",
    "            # strip out extra spaces from the data and convert numbers into strings\n",
    "        data = data.applymap(lambda x: str.strip(x))\n",
    "        data = data.applymap(lambda x: pd.to_numeric(x, errors='ignore'))\n",
    "    return(data)"
   ]
  },
  {
   "cell_type": "code",
   "execution_count": 12,
   "metadata": {
    "collapsed": false
   },
   "outputs": [
    {
     "ename": "NameError",
     "evalue": "global name 'iphone2' is not defined",
     "output_type": "error",
     "traceback": [
      "\u001b[0;31m---------------------------------------------------------------------------\u001b[0m",
      "\u001b[0;31mNameError\u001b[0m                                 Traceback (most recent call last)",
      "\u001b[0;32m<ipython-input-12-1266d242d37f>\u001b[0m in \u001b[0;36m<module>\u001b[0;34m()\u001b[0m\n\u001b[0;32m----> 1\u001b[0;31m \u001b[0mClean_iPhone_Data\u001b[0m\u001b[1;33m(\u001b[0m\u001b[1;34m'iPhone/Glen_0001.csv'\u001b[0m\u001b[1;33m)\u001b[0m\u001b[1;33m\u001b[0m\u001b[0m\n\u001b[0m",
      "\u001b[0;32m<ipython-input-11-d13e4f77b9a9>\u001b[0m in \u001b[0;36mClean_iPhone_Data\u001b[0;34m(file_with_path)\u001b[0m\n\u001b[1;32m     13\u001b[0m             \u001b[0mdata\u001b[0m\u001b[1;33m.\u001b[0m\u001b[0mappend\u001b[0m\u001b[1;33m(\u001b[0m\u001b[0mobservation\u001b[0m\u001b[1;33m)\u001b[0m\u001b[1;33m\u001b[0m\u001b[0m\n\u001b[1;32m     14\u001b[0m         \u001b[0mdata\u001b[0m \u001b[1;33m=\u001b[0m \u001b[0mpd\u001b[0m\u001b[1;33m.\u001b[0m\u001b[0mio\u001b[0m\u001b[1;33m.\u001b[0m\u001b[0mjson\u001b[0m\u001b[1;33m.\u001b[0m\u001b[0mjson_normalize\u001b[0m\u001b[1;33m(\u001b[0m\u001b[0mdata\u001b[0m\u001b[1;33m)\u001b[0m\u001b[1;33m.\u001b[0m\u001b[0mset_index\u001b[0m\u001b[1;33m(\u001b[0m\u001b[1;34m'timestamp'\u001b[0m\u001b[1;33m)\u001b[0m\u001b[1;33m\u001b[0m\u001b[0m\n\u001b[0;32m---> 15\u001b[0;31m         \u001b[0mdata\u001b[0m\u001b[1;33m.\u001b[0m\u001b[0mindex\u001b[0m \u001b[1;33m=\u001b[0m \u001b[0mpd\u001b[0m\u001b[1;33m.\u001b[0m\u001b[0mto_datetime\u001b[0m\u001b[1;33m(\u001b[0m\u001b[0miphone2\u001b[0m\u001b[1;33m.\u001b[0m\u001b[0mindex\u001b[0m\u001b[1;33m)\u001b[0m\u001b[1;33m\u001b[0m\u001b[0m\n\u001b[0m\u001b[1;32m     16\u001b[0m             \u001b[1;31m# strip out extra spaces from the data and convert numbers into strings\u001b[0m\u001b[1;33m\u001b[0m\u001b[1;33m\u001b[0m\u001b[0m\n\u001b[1;32m     17\u001b[0m         \u001b[0mdata\u001b[0m \u001b[1;33m=\u001b[0m \u001b[0mdata\u001b[0m\u001b[1;33m.\u001b[0m\u001b[0mapplymap\u001b[0m\u001b[1;33m(\u001b[0m\u001b[1;32mlambda\u001b[0m \u001b[0mx\u001b[0m\u001b[1;33m:\u001b[0m \u001b[0mstr\u001b[0m\u001b[1;33m.\u001b[0m\u001b[0mstrip\u001b[0m\u001b[1;33m(\u001b[0m\u001b[0mx\u001b[0m\u001b[1;33m)\u001b[0m\u001b[1;33m)\u001b[0m\u001b[1;33m\u001b[0m\u001b[0m\n",
      "\u001b[0;31mNameError\u001b[0m: global name 'iphone2' is not defined"
     ]
    }
   ],
   "source": [
    "Clean_iPhone_Data('iPhone/Glen_0001.csv')"
   ]
  },
  {
   "cell_type": "code",
   "execution_count": null,
   "metadata": {
    "collapsed": false
   },
   "outputs": [],
   "source": [
    "\n",
    "\n",
    "json_data = json.dumps(json_data)"
   ]
  },
  {
   "cell_type": "code",
   "execution_count": null,
   "metadata": {
    "collapsed": false
   },
   "outputs": [],
   "source": [
    "iphone2.iloc[135:145]"
   ]
  },
  {
   "cell_type": "code",
   "execution_count": null,
   "metadata": {
    "collapsed": true
   },
   "outputs": [],
   "source": []
  }
 ],
 "metadata": {
  "anaconda-cloud": {},
  "kernelspec": {
   "display_name": "Python 2",
   "language": "python",
   "name": "python2"
  },
  "language_info": {
   "codemirror_mode": {
    "name": "ipython",
    "version": 2
   },
   "file_extension": ".py",
   "mimetype": "text/x-python",
   "name": "python",
   "nbconvert_exporter": "python",
   "pygments_lexer": "ipython2",
   "version": "2.7.6"
  }
 },
 "nbformat": 4,
 "nbformat_minor": 2
}
