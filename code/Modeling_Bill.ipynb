{
 "cells": [
  {
   "cell_type": "code",
   "execution_count": 106,
   "metadata": {
    "collapsed": false,
    "deletable": true,
    "editable": true
   },
   "outputs": [],
   "source": [
    "import db.knowhere_db as kdb\n",
    "import pipeline.pipeline as pipeline\n",
    "import pandas as pd\n",
    "import numpy as np\n",
    "from time import time\n",
    "%matplotlib inline\n",
    "import matplotlib.pyplot as plt\n",
    "from scipy.stats import randint as sp_randint\n",
    "from sklearn.model_selection import RandomizedSearchCV\n",
    "from sklearn.model_selection import cross_val_score\n",
    "from sklearn.model_selection import StratifiedKFold\n",
    "from sklearn.preprocessing import LabelEncoder\n",
    "from sklearn import linear_model\n",
    "from sklearn.ensemble import RandomForestClassifier\n",
    "from sklearn.metrics import accuracy_score\n",
    "from scipy import interp"
   ]
  },
  {
   "cell_type": "code",
   "execution_count": 120,
   "metadata": {
    "collapsed": true
   },
   "outputs": [],
   "source": [
    "from scipy import integrate\n",
    "\n",
    "def preprocess_data(df):\n",
    "    # filter\n",
    "    df = df[['Acceleration x','Acceleration y','Acceleration z',\n",
    "             'Magnetometer x','Magnetometer y','Magnetometer z',\n",
    "             'Gyrometer x','Gyrometer y','Gyrometer z',\n",
    "             'classification']]\n",
    "    # Get magnitudes\n",
    "    df['Acceleration'] =  np.sqrt(df['Acceleration x'] ** 2 + df['Acceleration y'] ** 2 + df['Acceleration z'] ** 2)\n",
    "    df['Magnetometer'] =  np.sqrt(df['Magnetometer x'] ** 2 + df['Magnetometer y'] ** 2 + df['Magnetometer z'] ** 2)\n",
    "\n",
    "    # filter again\n",
    "    df = df[['Acceleration', 'Magnetometer', 'classification']]\n",
    "    \n",
    "    # feature engineering\n",
    "    # Rolling\n",
    "    window = 7\n",
    "    df['RollingMeanAcceleration7'] = df['Acceleration'].rolling(window=window,center=False).mean()\n",
    "    df['RollingSDMagnetometer7'] = df['Magnetometer'].rolling(window=window,center=False).std()\n",
    "    window = 10\n",
    "    df['RollingMeanAcceleration10'] = df['Acceleration'].rolling(window=window,center=False).mean()\n",
    "    df['RollingSDMagnetometer10'] = df['Magnetometer'].rolling(window=window,center=False).std()\n",
    "    window = 15\n",
    "    df['RollingMeanAcceleration15'] = df['Acceleration'].rolling(window=window,center=False).mean()\n",
    "    df['RollingMeanMagnetometer15'] = df['Magnetometer'].rolling(window=window,center=False).mean()\n",
    "    \n",
    "    df['FirstDdtAcceleration'] = df['Acceleration'].diff(2)\n",
    "    df['FirstDdtMagnetometer'] = df['Magnetometer'].diff(2)\n",
    "    \n",
    "    df['FirstIntAcceleration'] = df['Acceleration'].rolling(window=10,center=False).sum()\n",
    "    df['FirstIntMagnetometer'] = df['Magnetometer'].rolling(window=10,center=False).sum()\n",
    "    \n",
    "    df = df.dropna()\n",
    "    labels = df['classification']\n",
    "    df = df.drop('classification', axis=1)\n",
    "    \n",
    "    # combine labels\n",
    "    labels = labels.replace(to_replace='T_E', value='T_S')\n",
    "    labels = labels.replace(to_replace='E_U', value='E')\n",
    "    labels = labels.replace(to_replace='E_D', value='E')\n",
    "    labels = labels.replace(to_replace='S_U', value='W')\n",
    "    labels = labels.replace(to_replace='S_D', value='W')\n",
    "    labels = labels.replace(to_replace='T_T', value='T_S')\n",
    "    labels = labels.replace(to_replace='T_B', value='T_D')\n",
    "    labels = labels.replace(to_replace='P_W', value='W')\n",
    "    labels = labels.replace(to_replace='P_S', value='S')\n",
    "    \n",
    "    return df, labels"
   ]
  },
  {
   "cell_type": "code",
   "execution_count": 101,
   "metadata": {
    "collapsed": false,
    "deletable": true,
    "editable": true
   },
   "outputs": [],
   "source": [
    "glen_train_raw = pd.read_csv(\"Labeled_glen_2017-03-19_to_2017-03-23_simplified.csv\", index_col=0)\n",
    "glen_test_raw = pd.read_csv('glen_3_24_labeled.csv', index_col=0)"
   ]
  },
  {
   "cell_type": "code",
   "execution_count": 121,
   "metadata": {
    "collapsed": false
   },
   "outputs": [
    {
     "name": "stderr",
     "output_type": "stream",
     "text": [
      "c:\\python27\\lib\\site-packages\\ipykernel\\__main__.py:10: SettingWithCopyWarning: \n",
      "A value is trying to be set on a copy of a slice from a DataFrame.\n",
      "Try using .loc[row_indexer,col_indexer] = value instead\n",
      "\n",
      "See the caveats in the documentation: http://pandas.pydata.org/pandas-docs/stable/indexing.html#indexing-view-versus-copy\n",
      "c:\\python27\\lib\\site-packages\\ipykernel\\__main__.py:11: SettingWithCopyWarning: \n",
      "A value is trying to be set on a copy of a slice from a DataFrame.\n",
      "Try using .loc[row_indexer,col_indexer] = value instead\n",
      "\n",
      "See the caveats in the documentation: http://pandas.pydata.org/pandas-docs/stable/indexing.html#indexing-view-versus-copy\n"
     ]
    }
   ],
   "source": [
    "train_data, train_labels = preprocess_data(glen_train_raw)\n",
    "test_data, test_labels = preprocess_data(glen_test_raw)"
   ]
  },
  {
   "cell_type": "code",
   "execution_count": 99,
   "metadata": {
    "collapsed": false
   },
   "outputs": [
    {
     "data": {
      "text/plain": [
       "classification\n",
       "D      150\n",
       "E        8\n",
       "S       37\n",
       "T_D    297\n",
       "T_S     84\n",
       "W      241\n",
       "dtype: int64"
      ]
     },
     "execution_count": 99,
     "metadata": {},
     "output_type": "execute_result"
    }
   ],
   "source": [
    "pd.DataFrame(test_labels).groupby('classification').size()"
   ]
  },
  {
   "cell_type": "code",
   "execution_count": 122,
   "metadata": {
    "collapsed": false,
    "deletable": true,
    "editable": true
   },
   "outputs": [],
   "source": [
    "# load dataset\n",
    "train_X = train_data.values\n",
    "train_Y = train_labels\n",
    "encoder = LabelEncoder()\n",
    "encoder.fit(train_Y)\n",
    "train_encoded_Y = encoder.transform(train_Y)"
   ]
  },
  {
   "cell_type": "code",
   "execution_count": 123,
   "metadata": {
    "collapsed": true
   },
   "outputs": [],
   "source": [
    "test_X = test_data.values\n",
    "test_Y = test_labels\n",
    "encoder = LabelEncoder()\n",
    "encoder.fit(test_Y)\n",
    "test_encoded_Y = encoder.transform(test_Y)"
   ]
  },
  {
   "cell_type": "code",
   "execution_count": 79,
   "metadata": {
    "collapsed": false
   },
   "outputs": [
    {
     "name": "stdout",
     "output_type": "stream",
     "text": [
      "RandomizedSearchCV took 757.54 seconds for 25 candidates parameter settings.\n",
      "Model with rank: 1\n",
      "Mean validation score: 0.731 (std: 0.036)\n",
      "Parameters: {'bootstrap': True, 'min_samples_leaf': 91, 'min_samples_split': 73, 'criterion': 'gini', 'max_features': 3, 'max_depth': 10}\n",
      "\n",
      "Model with rank: 2\n",
      "Mean validation score: 0.730 (std: 0.038)\n",
      "Parameters: {'bootstrap': True, 'min_samples_leaf': 53, 'min_samples_split': 4, 'criterion': 'gini', 'max_features': 2, 'max_depth': 13}\n",
      "\n",
      "Model with rank: 3\n",
      "Mean validation score: 0.729 (std: 0.039)\n",
      "Parameters: {'bootstrap': True, 'min_samples_leaf': 78, 'min_samples_split': 63, 'criterion': 'gini', 'max_features': 4, 'max_depth': 10}\n",
      "\n"
     ]
    }
   ],
   "source": [
    "# build a classifier\n",
    "RF_Class = RandomForestClassifier(n_estimators=200)\n",
    "# Utility function to report best scores\n",
    "def report(results, n_top=3):\n",
    "    for i in range(1, n_top + 1):\n",
    "        candidates = np.flatnonzero(results['rank_test_score'] == i)\n",
    "        for candidate in candidates:\n",
    "            print(\"Model with rank: {0}\".format(i))\n",
    "            print(\"Mean validation score: {0:.3f} (std: {1:.3f})\".format(\n",
    "                  results['mean_test_score'][candidate],\n",
    "                  results['std_test_score'][candidate]))\n",
    "            print(\"Parameters: {0}\".format(results['params'][candidate]))\n",
    "            print(\"\")\n",
    "\n",
    "\n",
    "# specify parameters and distributions to sample from\n",
    "param_dist = {\"max_depth\": [2, 3, 2, 10, 13, 27, None],\n",
    "              \"max_features\": sp_randint(1,9),\n",
    "              \"min_samples_split\": sp_randint(2, 100),\n",
    "              \"min_samples_leaf\": sp_randint(1, 100),\n",
    "              \"bootstrap\": [True],\n",
    "              \"criterion\": [\"gini\"]}\n",
    "\n",
    "# run randomized search\n",
    "n_iter_search = 25\n",
    "random_search = RandomizedSearchCV(RF_Class, param_distributions=param_dist, n_iter=n_iter_search)\n",
    "\n",
    "start = time()\n",
    "random_search.fit(train_X, train_encoded_Y)\n",
    "print(\"RandomizedSearchCV took %.2f seconds for %d candidates\"\n",
    "      \" parameter settings.\" % ((time() - start), n_iter_search))\n",
    "report(random_search.cv_results_)"
   ]
  },
  {
   "cell_type": "code",
   "execution_count": 80,
   "metadata": {
    "collapsed": false
   },
   "outputs": [],
   "source": [
    "RF_Class = RandomForestClassifier(bootstrap=True,min_samples_leaf=16,n_estimators=1500,\\\n",
    "                                  min_samples_split=80, criterion='gini', max_features=3, max_depth=None)"
   ]
  },
  {
   "cell_type": "code",
   "execution_count": 124,
   "metadata": {
    "collapsed": false
   },
   "outputs": [
    {
     "data": {
      "text/plain": [
       "RandomForestClassifier(bootstrap=True, class_weight=None, criterion='gini',\n",
       "            max_depth=None, max_features=3, max_leaf_nodes=None,\n",
       "            min_impurity_split=1e-07, min_samples_leaf=16,\n",
       "            min_samples_split=80, min_weight_fraction_leaf=0.0,\n",
       "            n_estimators=1500, n_jobs=1, oob_score=False,\n",
       "            random_state=None, verbose=0, warm_start=False)"
      ]
     },
     "execution_count": 124,
     "metadata": {},
     "output_type": "execute_result"
    }
   ],
   "source": [
    "RF_Class.fit(train_X, train_encoded_Y)"
   ]
  },
  {
   "cell_type": "code",
   "execution_count": 117,
   "metadata": {
    "collapsed": false
   },
   "outputs": [
    {
     "name": "stdout",
     "output_type": "stream",
     "text": [
      "Feature ranking:\n",
      "1. feature 10 (0.143403)\n",
      "2. feature 6 (0.143056)\n",
      "3. feature 5 (0.137127)\n",
      "4. feature 4 (0.118243)\n",
      "5. feature 3 (0.109991)\n"
     ]
    },
    {
     "data": {
      "image/png": "[encoded data removed]",
      "text/plain": [
       "<matplotlib.figure.Figure at 0xc98d9b0>"
      ]
     },
     "metadata": {},
     "output_type": "display_data"
    }
   ],
   "source": [
    "importances = RF_Class.feature_importances_\n",
    "std = np.std([tree.feature_importances_ for tree in RF_Class.estimators_],\n",
    "             axis=0)\n",
    "indices = np.argsort(importances)[::-1]\n",
    "\n",
    "# Print the feature ranking\n",
    "print(\"Feature ranking:\")\n",
    "\n",
    "for f in range(X.shape[1]):\n",
    "    print(\"%d. feature %d (%f)\" % (f + 1, indices[f], importances[indices[f]]))\n",
    "\n",
    "# Plot the feature importances of the forest\n",
    "plt.figure()\n",
    "plt.title(\"Feature importances\")\n",
    "plt.bar(range(train_X.shape[1]), importances[indices],\n",
    "       color=\"r\", yerr=std[indices], align=\"center\")\n",
    "plt.xticks(range(train_X.shape[1]), indices)\n",
    "plt.xlim([-1, train_X.shape[1]])\n",
    "plt.show()"
   ]
  },
  {
   "cell_type": "code",
   "execution_count": 116,
   "metadata": {
    "collapsed": false
   },
   "outputs": [
    {
     "name": "stdout",
     "output_type": "stream",
     "text": [
      "0.61811505508\n",
      "[[ 88   0   0  11   0  51]\n",
      " [  0   0   0   0   0   8]\n",
      " [  5   0   0   4   0  28]\n",
      " [  3   0  11 269   0  14]\n",
      " [  0   0   0   4   0  80]\n",
      " [ 50   0   0  43   0 148]]\n"
     ]
    }
   ],
   "source": [
    "#x_train,x_test, y_train, y_test = train_test_split(X, encoded_Y, test_size=0.33, random_state=41010392)\n",
    "predictions = RF_Class.predict(test_X)\n",
    "print accuracy_score(test_encoded_Y, predictions)\n",
    "print confusion_matrix(test_encoded_Y, predictions)"
   ]
  }
 ],
 "metadata": {
  "anaconda-cloud": {},
  "kernelspec": {
   "display_name": "Python 2",
   "language": "python",
   "name": "python2"
  },
  "language_info": {
   "codemirror_mode": {
    "name": "ipython",
    "version": 2
   },
   "file_extension": ".py",
   "mimetype": "text/x-python",
   "name": "python",
   "nbconvert_exporter": "python",
   "pygments_lexer": "ipython2",
   "version": "2.7.6"
  }
 },
 "nbformat": 4,
 "nbformat_minor": 2
}
