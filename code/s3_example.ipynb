{
 "cells": [
  {
   "cell_type": "code",
   "execution_count": 1,
   "metadata": {
    "collapsed": false
   },
   "outputs": [],
   "source": [
    "from pipeline import model_pipeline\n",
    "import pickle\n",
    "import tempfile"
   ]
  },
  {
   "cell_type": "code",
   "execution_count": 2,
   "metadata": {
    "collapsed": true
   },
   "outputs": [],
   "source": [
    "uploader = model_pipeline.S3(db_name='knowhere')"
   ]
  },
  {
   "cell_type": "code",
   "execution_count": 11,
   "metadata": {
    "collapsed": false
   },
   "outputs": [],
   "source": [
    "foobar = {'bill': '4518', 'becky': '4516', 'mom': '4517'}\n",
    "# (self, username, model_type, file_object, fname, bucket, collection='models')\n",
    "pickle_obj = pickle.dumps(foobar)\n",
    "uploader.upload_to_s3('emil', 'TEST', pickle_obj, 'spear20', 'knowhere-data', 'models')"
   ]
  },
  {
   "cell_type": "code",
   "execution_count": 12,
   "metadata": {
    "collapsed": false
   },
   "outputs": [
    {
     "name": "stdout",
     "output_type": "stream",
     "text": [
      "{'bill': '4518', 'mom': '4517', 'becky': '4516'}\n",
      "{'bill': '4518', 'mom': '4517', 'becky': '4516'}\n"
     ]
    }
   ],
   "source": [
    "pickle_objs = uploader.retrieve_from_s3('emil', bucket='knowhere-data', collection='models')\n",
    "for obj in pickle_objs:\n",
    "    print pickle.loads(obj.read())"
   ]
  }
 ],
 "metadata": {
  "kernelspec": {
   "display_name": "Python 2",
   "language": "python",
   "name": "python2"
  },
  "language_info": {
   "codemirror_mode": {
    "name": "ipython",
    "version": 2
   },
   "file_extension": ".py",
   "mimetype": "text/x-python",
   "name": "python",
   "nbconvert_exporter": "python",
   "pygments_lexer": "ipython2",
   "version": "2.7.6"
  }
 },
 "nbformat": 4,
 "nbformat_minor": 2
}
