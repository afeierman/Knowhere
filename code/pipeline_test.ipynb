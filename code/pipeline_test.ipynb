{
 "cells": [
  {
   "cell_type": "code",
   "execution_count": 1,
   "metadata": {
    "collapsed": false
   },
   "outputs": [],
   "source": [
    "import pipeline.pipeline as pipeline\n",
    "import db.knowhere_db as kdb\n",
    "import time\n",
    "import pandas as pd"
   ]
  },
  {
   "cell_type": "code",
   "execution_count": 2,
   "metadata": {
    "collapsed": true
   },
   "outputs": [],
   "source": [
    "fName = r'C:/Users/William/Documents/DataScience/Projects/Knowhere/data/aggregated_emil_sensor2.csv'\n",
    "csv_dir = r'C:\\Users\\William\\Documents\\DataScience\\Projects\\Knowhere\\data\\iPhone'"
   ]
  },
  {
   "cell_type": "code",
   "execution_count": 3,
   "metadata": {
    "collapsed": false
   },
   "outputs": [],
   "source": [
    "user_df = pipeline.iphone(username='emil', file_with_path=fName, dir_to_aggregate=csv_dir)"
   ]
  },
  {
   "cell_type": "code",
   "execution_count": null,
   "metadata": {
    "collapsed": false
   },
   "outputs": [],
   "source": [
    "writer = kdb.Writer('knowhere')\n",
    "writer.write_dataframe_to_collection(df=user_df, collection='iphone_test2')"
   ]
  },
  {
   "cell_type": "code",
   "execution_count": null,
   "metadata": {
    "collapsed": false,
    "scrolled": false
   },
   "outputs": [],
   "source": [
    "reader = kdb.Reader('knowhere')\n",
    "rdf = reader.get_dataframe(collection='iphone_test')\n",
    "rdf[0:10]"
   ]
  }
 ],
 "metadata": {
  "kernelspec": {
   "display_name": "Python 2",
   "language": "python",
   "name": "python2"
  },
  "language_info": {
   "codemirror_mode": {
    "name": "ipython",
    "version": 2
   },
   "file_extension": ".py",
   "mimetype": "text/x-python",
   "name": "python",
   "nbconvert_exporter": "python",
   "pygments_lexer": "ipython2",
   "version": "2.7.6"
  }
 },
 "nbformat": 4,
 "nbformat_minor": 2
}
