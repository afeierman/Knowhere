{
 "cells": [
  {
   "cell_type": "code",
   "execution_count": 1,
   "metadata": {
    "collapsed": true
   },
   "outputs": [],
   "source": [
    "import db.knowhere_db as kdb\n",
    "import pandas as pd\n",
    "import numpy as np"
   ]
  },
  {
   "cell_type": "code",
   "execution_count": null,
   "metadata": {
    "collapsed": true
   },
   "outputs": [],
   "source": [
    "def Subset_Columns(df)\n",
    "'''Subet the data for the folowing columns:\n",
    "Acceleration x, Acceleration y, & Acceleration z\n",
    "Altimeter (Barometer) Pressure\n",
    "Microphone Left Channel Level & Microphone Right Channel Level\n",
    "Magnetometer x, Magnetometer y, & Magnetometer z\n",
    "Gyrometer x, Gyrometer y, & Gyrometer z\n",
    "classification\n",
    "\n",
    "Then convert numerical columns to floats\n",
    "'''\n",
    "    df_new = df[['Acceleration x','Acceleration y','Acceleration z', 'Altimeter (Barometer) Pressure',\\\n",
    "             'Microphone Left Channel Level', 'Microphone Right Channel Level','Magnetometer x',\\\n",
    "             'Magnetometer y','Magnetometer z','Gyrometer x','Gyrometer y',\\\n",
    "             'Gyrometer z', 'classification']]\n",
    "    df.new.iloc[:,0:11].astype(float)\n",
    "    return (df_new)"
   ]
  },
  {
   "cell_type": "code",
   "execution_count": null,
   "metadata": {
    "collapsed": true
   },
   "outputs": [],
   "source": [
    "def Norm_XYZ(df):\n",
    "'''Take the Norm of the Acceleration, Magnetometer, & Gyrometer\n",
    "    and average of the Microphone data, then subset to remove the x,y, & z columns'''\n",
    "    df['Acceleration'] =  np.sqrt(df['Acceleration x']**2+df['Acceleration y']**2+df['Acceleration z']**2)\n",
    "    df['Magnetometer'] =  np.sqrt(df['Magnetometer x']**2+df['Magnetometer y']**2+df['Magnetometer z']**2)\n",
    "    df['Gyrometer']    =  np.sqrt(df['Gyrometer x']**2+df['Gyrometer y']**2+df['Gyrometer z']**2)\n",
    "    df['Microphone']    =  (df['Microphone Left Channel Level']+df['Microphone Right Channel Level'])/2\n",
    "    df = df[['Acceleration','Magnetometer','Gyrometer','Microphone','Altimeter (Barometer) Pressure', 'classification']]"
   ]
  },
  {
   "cell_type": "code",
   "execution_count": null,
   "metadata": {
    "collapsed": true
   },
   "outputs": [],
   "source": [
    "def Get_Window_Values(df, window=5, roll_cols=['Acceleration', 'Magnetometer', 'Gyrometer', 'Microphone',\\\n",
    "                                               'Altimeter (Barometer) Pressure'])\n",
    "    for col in roll_cols:\n",
    "            col_name_mean = 'Rolling' + 'Mean' + col\n",
    "            col_name_75th = 'Rolling' + '75th' + col\n",
    "            col_name_min  = 'Rolling' + 'min'  + col\n",
    "            col_name_max  = 'Rolling' + 'max'  + col\n",
    "            col_name_std  = 'Rolling' + 'std'  + col\n",
    "            df[col_name_mean]  = df[col].rolling(window=window,center=False).mean()\n",
    "            df[col_name_75th]  = df[col].rolling(window=window,center=False).quantile(quantile=0.75)\n",
    "            df[col_name_min]  = df[col].rolling(window=window,center=False).min()\n",
    "            df[col_name_max]  = df[col].rolling(window=window,center=False).max()\n",
    "            df[col_name_std]  = df[col].rolling(window=window,center=False).std()"
   ]
  },
  {
   "cell_type": "code",
   "execution_count": null,
   "metadata": {
    "collapsed": true
   },
   "outputs": [],
   "source": []
  }
 ],
 "metadata": {
  "kernelspec": {
   "display_name": "Python [conda root]",
   "language": "python",
   "name": "conda-root-py"
  },
  "language_info": {
   "codemirror_mode": {
    "name": "ipython",
    "version": 2
   },
   "file_extension": ".py",
   "mimetype": "text/x-python",
   "name": "python",
   "nbconvert_exporter": "python",
   "pygments_lexer": "ipython2",
   "version": "2.7.13"
  }
 },
 "nbformat": 4,
 "nbformat_minor": 2
}
