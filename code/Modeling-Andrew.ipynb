{
 "cells": [
  {
   "cell_type": "code",
   "execution_count": 193,
   "metadata": {
    "collapsed": false,
    "deletable": true,
    "editable": true
   },
   "outputs": [],
   "source": [
    "import db.knowhere_db as kdb\n",
    "import pipeline.pipeline as pipeline\n",
    "import pandas as pd\n",
    "import numpy as np\n",
    "import matplotlib.pyplot as plt\n",
    "%matplotlib inline\n",
    "from sklearn.ensemble import RandomForestClassifier, GradientBoostingClassifier\n",
    "from sklearn.metrics import confusion_matrix\n",
    "from sklearn.model_selection import train_test_split"
   ]
  },
  {
   "cell_type": "code",
   "execution_count": 194,
   "metadata": {
    "collapsed": false
   },
   "outputs": [],
   "source": [
    "glen_H_data_raw = pd.read_csv(\"Labeled_glen_2017-03-19 to 2017-03-23.csv\")\n"
   ]
  },
  {
   "cell_type": "code",
   "execution_count": null,
   "metadata": {
    "collapsed": true
   },
   "outputs": [],
   "source": []
  },
  {
   "cell_type": "code",
   "execution_count": 195,
   "metadata": {
    "collapsed": true
   },
   "outputs": [],
   "source": [
    "test_raw = pd.read_csv(\"glen_4_24_unlabeled\", index_col = 0)"
   ]
  },
  {
   "cell_type": "code",
   "execution_count": 196,
   "metadata": {
    "collapsed": false
   },
   "outputs": [],
   "source": [
    "test_labeled = pd.read_csv(\"glen_3_24_labeled.csv\", index_col = 0)"
   ]
  },
  {
   "cell_type": "code",
   "execution_count": 197,
   "metadata": {
    "collapsed": false,
    "deletable": true,
    "editable": true
   },
   "outputs": [
    {
     "data": {
      "text/html": [
       "<div>\n",
       "<table border=\"1\" class=\"dataframe\">\n",
       "  <thead>\n",
       "    <tr style=\"text-align: right;\">\n",
       "      <th></th>\n",
       "      <th>Acceleration x</th>\n",
       "      <th>Acceleration y</th>\n",
       "      <th>Acceleration z</th>\n",
       "      <th>Altimeter (Barometer) Pressure</th>\n",
       "      <th>Microphone Left Channel Level</th>\n",
       "      <th>Microphone Right Channel Level</th>\n",
       "      <th>Magnetometer x</th>\n",
       "      <th>Magnetometer y</th>\n",
       "      <th>Magnetometer z</th>\n",
       "      <th>Gyrometer x</th>\n",
       "      <th>Gyrometer y</th>\n",
       "      <th>Gyrometer z</th>\n",
       "      <th>classification</th>\n",
       "    </tr>\n",
       "  </thead>\n",
       "  <tbody>\n",
       "    <tr>\n",
       "      <th>9</th>\n",
       "      <td>0.035286</td>\n",
       "      <td>-0.032134</td>\n",
       "      <td>-0.174451</td>\n",
       "      <td>101.297173</td>\n",
       "      <td>-22.18490</td>\n",
       "      <td>-22.18490</td>\n",
       "      <td>-48.244934</td>\n",
       "      <td>139.584091</td>\n",
       "      <td>-442.558044</td>\n",
       "      <td>-0.189776</td>\n",
       "      <td>-0.747892</td>\n",
       "      <td>0.672498</td>\n",
       "      <td>D</td>\n",
       "    </tr>\n",
       "    <tr>\n",
       "      <th>10</th>\n",
       "      <td>0.045886</td>\n",
       "      <td>-0.052843</td>\n",
       "      <td>0.180941</td>\n",
       "      <td>101.301842</td>\n",
       "      <td>-5.64593</td>\n",
       "      <td>-5.64593</td>\n",
       "      <td>-48.244934</td>\n",
       "      <td>139.584091</td>\n",
       "      <td>-442.558044</td>\n",
       "      <td>0.186489</td>\n",
       "      <td>1.126667</td>\n",
       "      <td>0.098381</td>\n",
       "      <td>D</td>\n",
       "    </tr>\n",
       "    <tr>\n",
       "      <th>11</th>\n",
       "      <td>0.037488</td>\n",
       "      <td>-0.080072</td>\n",
       "      <td>0.024071</td>\n",
       "      <td>101.297859</td>\n",
       "      <td>-5.64593</td>\n",
       "      <td>-5.64593</td>\n",
       "      <td>-48.244934</td>\n",
       "      <td>139.584091</td>\n",
       "      <td>-442.558044</td>\n",
       "      <td>0.186489</td>\n",
       "      <td>1.126667</td>\n",
       "      <td>0.098381</td>\n",
       "      <td>D</td>\n",
       "    </tr>\n",
       "    <tr>\n",
       "      <th>12</th>\n",
       "      <td>0.104773</td>\n",
       "      <td>-0.102392</td>\n",
       "      <td>0.040786</td>\n",
       "      <td>101.294731</td>\n",
       "      <td>-5.64593</td>\n",
       "      <td>-5.64593</td>\n",
       "      <td>-48.244934</td>\n",
       "      <td>139.584091</td>\n",
       "      <td>-442.558044</td>\n",
       "      <td>0.186489</td>\n",
       "      <td>1.126667</td>\n",
       "      <td>0.098381</td>\n",
       "      <td>D</td>\n",
       "    </tr>\n",
       "    <tr>\n",
       "      <th>13</th>\n",
       "      <td>0.196326</td>\n",
       "      <td>-0.233689</td>\n",
       "      <td>-0.079535</td>\n",
       "      <td>101.297264</td>\n",
       "      <td>-5.64593</td>\n",
       "      <td>-5.64593</td>\n",
       "      <td>-48.244934</td>\n",
       "      <td>139.584091</td>\n",
       "      <td>-442.558044</td>\n",
       "      <td>0.186489</td>\n",
       "      <td>1.126667</td>\n",
       "      <td>0.098381</td>\n",
       "      <td>D</td>\n",
       "    </tr>\n",
       "  </tbody>\n",
       "</table>\n",
       "</div>"
      ],
      "text/plain": [
       "    Acceleration x  Acceleration y  Acceleration z  \\\n",
       "9         0.035286       -0.032134       -0.174451   \n",
       "10        0.045886       -0.052843        0.180941   \n",
       "11        0.037488       -0.080072        0.024071   \n",
       "12        0.104773       -0.102392        0.040786   \n",
       "13        0.196326       -0.233689       -0.079535   \n",
       "\n",
       "    Altimeter (Barometer) Pressure  Microphone Left Channel Level  \\\n",
       "9                       101.297173                      -22.18490   \n",
       "10                      101.301842                       -5.64593   \n",
       "11                      101.297859                       -5.64593   \n",
       "12                      101.294731                       -5.64593   \n",
       "13                      101.297264                       -5.64593   \n",
       "\n",
       "    Microphone Right Channel Level  Magnetometer x  Magnetometer y  \\\n",
       "9                        -22.18490      -48.244934      139.584091   \n",
       "10                        -5.64593      -48.244934      139.584091   \n",
       "11                        -5.64593      -48.244934      139.584091   \n",
       "12                        -5.64593      -48.244934      139.584091   \n",
       "13                        -5.64593      -48.244934      139.584091   \n",
       "\n",
       "    Magnetometer z  Gyrometer x  Gyrometer y  Gyrometer z classification  \n",
       "9      -442.558044    -0.189776    -0.747892     0.672498              D  \n",
       "10     -442.558044     0.186489     1.126667     0.098381              D  \n",
       "11     -442.558044     0.186489     1.126667     0.098381              D  \n",
       "12     -442.558044     0.186489     1.126667     0.098381              D  \n",
       "13     -442.558044     0.186489     1.126667     0.098381              D  "
      ]
     },
     "execution_count": 197,
     "metadata": {},
     "output_type": "execute_result"
    }
   ],
   "source": [
    "glen_H_data = glen_H_data_raw[['Acceleration x','Acceleration y','Acceleration z', 'Altimeter (Barometer) Pressure',\\\n",
    "                               'Microphone Left Channel Level', 'Microphone Right Channel Level','Magnetometer x',\\\n",
    "                               'Magnetometer y','Magnetometer z','Gyrometer x','Gyrometer y',\\\n",
    "                               'Gyrometer z', 'classification']]\n",
    "glen_H_data = glen_H_data.dropna()\n",
    "glen_H_data.head()"
   ]
  },
  {
   "cell_type": "code",
   "execution_count": 198,
   "metadata": {
    "collapsed": false
   },
   "outputs": [
    {
     "data": {
      "text/html": [
       "<div>\n",
       "<table border=\"1\" class=\"dataframe\">\n",
       "  <thead>\n",
       "    <tr style=\"text-align: right;\">\n",
       "      <th></th>\n",
       "      <th>Acceleration x</th>\n",
       "      <th>Acceleration y</th>\n",
       "      <th>Acceleration z</th>\n",
       "      <th>Altimeter (Barometer) Pressure</th>\n",
       "      <th>Microphone Left Channel Level</th>\n",
       "      <th>Microphone Right Channel Level</th>\n",
       "      <th>Magnetometer x</th>\n",
       "      <th>Magnetometer y</th>\n",
       "      <th>Magnetometer z</th>\n",
       "      <th>Gyrometer x</th>\n",
       "      <th>Gyrometer y</th>\n",
       "      <th>Gyrometer z</th>\n",
       "      <th>classification</th>\n",
       "    </tr>\n",
       "  </thead>\n",
       "  <tbody>\n",
       "    <tr>\n",
       "      <th>2017-03-24 06:31:10</th>\n",
       "      <td>0.000000</td>\n",
       "      <td>0.000000</td>\n",
       "      <td>0.000000</td>\n",
       "      <td>NaN</td>\n",
       "      <td>NaN</td>\n",
       "      <td>NaN</td>\n",
       "      <td>-65.585632</td>\n",
       "      <td>113.658890</td>\n",
       "      <td>-441.740631</td>\n",
       "      <td>0.195217</td>\n",
       "      <td>0.169663</td>\n",
       "      <td>-0.200276</td>\n",
       "      <td>W</td>\n",
       "    </tr>\n",
       "    <tr>\n",
       "      <th>2017-03-24 06:31:15</th>\n",
       "      <td>-0.023296</td>\n",
       "      <td>-0.018811</td>\n",
       "      <td>0.066937</td>\n",
       "      <td>102.441696</td>\n",
       "      <td>-3.34134</td>\n",
       "      <td>-3.34134</td>\n",
       "      <td>-66.959152</td>\n",
       "      <td>121.556625</td>\n",
       "      <td>-445.337341</td>\n",
       "      <td>0.057329</td>\n",
       "      <td>-0.160387</td>\n",
       "      <td>-0.636138</td>\n",
       "      <td>W</td>\n",
       "    </tr>\n",
       "    <tr>\n",
       "      <th>2017-03-24 06:31:19</th>\n",
       "      <td>-0.015955</td>\n",
       "      <td>0.008646</td>\n",
       "      <td>0.017675</td>\n",
       "      <td>102.441505</td>\n",
       "      <td>-3.34134</td>\n",
       "      <td>-3.34134</td>\n",
       "      <td>-66.959152</td>\n",
       "      <td>121.556625</td>\n",
       "      <td>-445.337341</td>\n",
       "      <td>0.057329</td>\n",
       "      <td>-0.160387</td>\n",
       "      <td>-0.636138</td>\n",
       "      <td>W</td>\n",
       "    </tr>\n",
       "    <tr>\n",
       "      <th>2017-03-24 06:31:24</th>\n",
       "      <td>-0.027630</td>\n",
       "      <td>-0.027705</td>\n",
       "      <td>-0.014916</td>\n",
       "      <td>102.440567</td>\n",
       "      <td>-16.32120</td>\n",
       "      <td>-16.32120</td>\n",
       "      <td>-62.323517</td>\n",
       "      <td>116.577621</td>\n",
       "      <td>-443.865967</td>\n",
       "      <td>0.077324</td>\n",
       "      <td>-0.622623</td>\n",
       "      <td>0.095855</td>\n",
       "      <td>W</td>\n",
       "    </tr>\n",
       "    <tr>\n",
       "      <th>2017-03-24 06:31:28</th>\n",
       "      <td>0.080779</td>\n",
       "      <td>-0.055970</td>\n",
       "      <td>-0.106723</td>\n",
       "      <td>102.443634</td>\n",
       "      <td>-1.21351</td>\n",
       "      <td>-1.21351</td>\n",
       "      <td>-103.872543</td>\n",
       "      <td>115.204086</td>\n",
       "      <td>-422.612701</td>\n",
       "      <td>0.255691</td>\n",
       "      <td>-0.515937</td>\n",
       "      <td>-1.319237</td>\n",
       "      <td>W</td>\n",
       "    </tr>\n",
       "  </tbody>\n",
       "</table>\n",
       "</div>"
      ],
      "text/plain": [
       "                     Acceleration x  Acceleration y  Acceleration z  \\\n",
       "2017-03-24 06:31:10        0.000000        0.000000        0.000000   \n",
       "2017-03-24 06:31:15       -0.023296       -0.018811        0.066937   \n",
       "2017-03-24 06:31:19       -0.015955        0.008646        0.017675   \n",
       "2017-03-24 06:31:24       -0.027630       -0.027705       -0.014916   \n",
       "2017-03-24 06:31:28        0.080779       -0.055970       -0.106723   \n",
       "\n",
       "                     Altimeter (Barometer) Pressure  \\\n",
       "2017-03-24 06:31:10                             NaN   \n",
       "2017-03-24 06:31:15                      102.441696   \n",
       "2017-03-24 06:31:19                      102.441505   \n",
       "2017-03-24 06:31:24                      102.440567   \n",
       "2017-03-24 06:31:28                      102.443634   \n",
       "\n",
       "                     Microphone Left Channel Level  \\\n",
       "2017-03-24 06:31:10                            NaN   \n",
       "2017-03-24 06:31:15                       -3.34134   \n",
       "2017-03-24 06:31:19                       -3.34134   \n",
       "2017-03-24 06:31:24                      -16.32120   \n",
       "2017-03-24 06:31:28                       -1.21351   \n",
       "\n",
       "                     Microphone Right Channel Level  Magnetometer x  \\\n",
       "2017-03-24 06:31:10                             NaN      -65.585632   \n",
       "2017-03-24 06:31:15                        -3.34134      -66.959152   \n",
       "2017-03-24 06:31:19                        -3.34134      -66.959152   \n",
       "2017-03-24 06:31:24                       -16.32120      -62.323517   \n",
       "2017-03-24 06:31:28                        -1.21351     -103.872543   \n",
       "\n",
       "                     Magnetometer y  Magnetometer z  Gyrometer x  Gyrometer y  \\\n",
       "2017-03-24 06:31:10      113.658890     -441.740631     0.195217     0.169663   \n",
       "2017-03-24 06:31:15      121.556625     -445.337341     0.057329    -0.160387   \n",
       "2017-03-24 06:31:19      121.556625     -445.337341     0.057329    -0.160387   \n",
       "2017-03-24 06:31:24      116.577621     -443.865967     0.077324    -0.622623   \n",
       "2017-03-24 06:31:28      115.204086     -422.612701     0.255691    -0.515937   \n",
       "\n",
       "                     Gyrometer z classification  \n",
       "2017-03-24 06:31:10    -0.200276              W  \n",
       "2017-03-24 06:31:15    -0.636138              W  \n",
       "2017-03-24 06:31:19    -0.636138              W  \n",
       "2017-03-24 06:31:24     0.095855              W  \n",
       "2017-03-24 06:31:28    -1.319237              W  "
      ]
     },
     "execution_count": 198,
     "metadata": {},
     "output_type": "execute_result"
    }
   ],
   "source": [
    "test = test_labeled[['Acceleration x','Acceleration y','Acceleration z', 'Altimeter (Barometer) Pressure',\\\n",
    "                               'Microphone Left Channel Level', 'Microphone Right Channel Level','Magnetometer x',\\\n",
    "                               'Magnetometer y','Magnetometer z','Gyrometer x','Gyrometer y',\\\n",
    "                               'Gyrometer z', 'classification']]\n",
    "test.head()"
   ]
  },
  {
   "cell_type": "code",
   "execution_count": 199,
   "metadata": {
    "collapsed": false,
    "deletable": true,
    "editable": true
   },
   "outputs": [
    {
     "data": {
      "text/plain": [
       "classification\n",
       "D      1749\n",
       "E_D     405\n",
       "E_U     480\n",
       "S       251\n",
       "S_U      31\n",
       "T_D    1159\n",
       "T_S     749\n",
       "T_T      40\n",
       "W      1328\n",
       "dtype: int64"
      ]
     },
     "execution_count": 199,
     "metadata": {},
     "output_type": "execute_result"
    }
   ],
   "source": [
    "glen_H_data = glen_H_data.replace(to_replace='T_E', value='T_S')\n",
    "glen_H_data.groupby(\"classification\").size()"
   ]
  },
  {
   "cell_type": "code",
   "execution_count": 200,
   "metadata": {
    "collapsed": false,
    "deletable": true,
    "editable": true
   },
   "outputs": [],
   "source": [
    "glen_H_data['Acceleration'] =  np.sqrt(glen_H_data['Acceleration x']**2 + glen_H_data['Acceleration y']**2 +\\\n",
    "                                       glen_H_data['Acceleration z']**2)\n",
    "glen_H_data['Magnetometer'] =  np.sqrt(glen_H_data['Magnetometer x']**2 + glen_H_data['Magnetometer y']**2 +\\\n",
    "                                       glen_H_data['Magnetometer z']**2)\n",
    "glen_H_data['Gyrometer']    =  np.sqrt(glen_H_data['Gyrometer x']**2 + glen_H_data['Gyrometer y']**2 +\\\n",
    "                                       glen_H_data['Gyrometer z']**2)\n",
    "glen_H_data['Microphone']    =  (glen_H_data['Microphone Left Channel Level'] +\\\n",
    "                                glen_H_data['Microphone Right Channel Level'])/2\n",
    "glen_H_data = glen_H_data[['Acceleration','Magnetometer','Gyrometer','Microphone','Altimeter (Barometer) Pressure', 'classification']]"
   ]
  },
  {
   "cell_type": "markdown",
   "metadata": {},
   "source": [
    "### Prep Test Data"
   ]
  },
  {
   "cell_type": "code",
   "execution_count": 201,
   "metadata": {
    "collapsed": false
   },
   "outputs": [
    {
     "name": "stderr",
     "output_type": "stream",
     "text": [
      "/home/andrew/anaconda2/lib/python2.7/site-packages/ipykernel/__main__.py:1: SettingWithCopyWarning: \n",
      "A value is trying to be set on a copy of a slice from a DataFrame.\n",
      "Try using .loc[row_indexer,col_indexer] = value instead\n",
      "\n",
      "See the caveats in the documentation: http://pandas.pydata.org/pandas-docs/stable/indexing.html#indexing-view-versus-copy\n",
      "  if __name__ == '__main__':\n",
      "/home/andrew/anaconda2/lib/python2.7/site-packages/ipykernel/__main__.py:2: SettingWithCopyWarning: \n",
      "A value is trying to be set on a copy of a slice from a DataFrame.\n",
      "Try using .loc[row_indexer,col_indexer] = value instead\n",
      "\n",
      "See the caveats in the documentation: http://pandas.pydata.org/pandas-docs/stable/indexing.html#indexing-view-versus-copy\n",
      "  from ipykernel import kernelapp as app\n",
      "/home/andrew/anaconda2/lib/python2.7/site-packages/ipykernel/__main__.py:3: SettingWithCopyWarning: \n",
      "A value is trying to be set on a copy of a slice from a DataFrame.\n",
      "Try using .loc[row_indexer,col_indexer] = value instead\n",
      "\n",
      "See the caveats in the documentation: http://pandas.pydata.org/pandas-docs/stable/indexing.html#indexing-view-versus-copy\n",
      "  app.launch_new_instance()\n",
      "/home/andrew/anaconda2/lib/python2.7/site-packages/ipykernel/__main__.py:4: SettingWithCopyWarning: \n",
      "A value is trying to be set on a copy of a slice from a DataFrame.\n",
      "Try using .loc[row_indexer,col_indexer] = value instead\n",
      "\n",
      "See the caveats in the documentation: http://pandas.pydata.org/pandas-docs/stable/indexing.html#indexing-view-versus-copy\n"
     ]
    }
   ],
   "source": [
    "test['Acceleration'] =  np.sqrt(test['Acceleration x']**2 + test['Acceleration y']**2 +\\\n",
    "                                       test['Acceleration z']**2)\n",
    "test['Magnetometer'] =  np.sqrt(test['Magnetometer x']**2 + test['Magnetometer y']**2 +\\\n",
    "                                       test['Magnetometer z']**2)\n",
    "test['Gyrometer']    =  np.sqrt(test['Gyrometer x']**2 + test['Gyrometer y']**2 +\\\n",
    "                                       test['Gyrometer z']**2)\n",
    "test['Microphone']    =  (test['Microphone Left Channel Level'] +\\\n",
    "                                test['Microphone Right Channel Level'])/2\n",
    "test = test[['Acceleration','Magnetometer','Gyrometer','Microphone','Altimeter (Barometer) Pressure', 'classification']]"
   ]
  },
  {
   "cell_type": "code",
   "execution_count": 202,
   "metadata": {
    "collapsed": false,
    "deletable": true,
    "editable": true
   },
   "outputs": [],
   "source": [
    "# set window\n",
    "window = 5\n",
    "# Rolling Means\n",
    "glen_H_data['RollingMeanAcceleration'] = glen_H_data['Acceleration'].rolling(window=window,center=False).mean()\n",
    "glen_H_data['RollingMeanMagnetometer'] = glen_H_data['Magnetometer'].rolling(window=window,center=False).mean()\n",
    "glen_H_data['RollingMeanGyrometer'] = glen_H_data['Gyrometer'].rolling(window=window,center=False).mean()\n",
    "glen_H_data['RollingMeanMicrophone'] = glen_H_data['Microphone'].rolling(window=window,center=False).mean()\n",
    "glen_H_data['RollingMeanAltimeter'] = glen_H_data['Altimeter (Barometer) Pressure'].rolling(window=window,center=False).mean()\n",
    "# Rolling 75th percentile\n",
    "glen_H_data['Rolling75thAcceleration'] = glen_H_data['Acceleration'].rolling(window=window,center=False).quantile(quantile=0.75)\n",
    "glen_H_data['Rolling75thMagnetometer'] = glen_H_data['Magnetometer'].rolling(window=window,center=False).quantile(quantile=0.75)\n",
    "glen_H_data['Rolling75thGyrometer'] = glen_H_data['Gyrometer'].rolling(window=window,center=False).quantile(quantile=0.75)\n",
    "glen_H_data['Rolling75thMicrophone'] = glen_H_data['Microphone'].rolling(window=window,center=False).quantile(quantile=0.75)\n",
    "glen_H_data['RollingMeanAltimeter'] = glen_H_data['Altimeter (Barometer) Pressure'].rolling(window=window,center=False).quantile(quantile=0.75)\n",
    "# Rolling Max\n",
    "glen_H_data['RollingMaxAcceleration'] = glen_H_data['Acceleration'].rolling(window=window,center=False).max()\n",
    "glen_H_data['RollingMaxMagnetometer'] = glen_H_data['Magnetometer'].rolling(window=window,center=False).max()\n",
    "glen_H_data['RollingMaxGyrometer'] = glen_H_data['Gyrometer'].rolling(window=window,center=False).max()\n",
    "glen_H_data['RollingMaxMicrophone'] = glen_H_data['Microphone'].rolling(window=window,center=False).max()\n",
    "glen_H_data['RollingMaxAltimeter'] = glen_H_data['Altimeter (Barometer) Pressure'].rolling(window=window,center=False).max()\n",
    "# Rolling Min\n",
    "glen_H_data['RollingMinAcceleration'] = glen_H_data['Acceleration'].rolling(window=window,center=False).min()\n",
    "glen_H_data['RollingMinMagnetometer'] = glen_H_data['Magnetometer'].rolling(window=window,center=False).min()\n",
    "glen_H_data['RollingMinGyrometer'] = glen_H_data['Gyrometer'].rolling(window=window,center=False).min()\n",
    "glen_H_data['RollingMinMicrophone'] = glen_H_data['Microphone'].rolling(window=window,center=False).min()\n",
    "glen_H_data['RollingMinAltimeter'] = glen_H_data['Altimeter (Barometer) Pressure'].rolling(window=window,center=False).min()\n",
    "# Rolling st dev\n",
    "glen_H_data['RollingSDAcceleration'] = glen_H_data['Acceleration'].rolling(window=window,center=False).std()\n",
    "glen_H_data['RollingSDMagnetometer'] = glen_H_data['Magnetometer'].rolling(window=window,center=False).std()\n",
    "glen_H_data['RollingSDGyrometer'] = glen_H_data['Gyrometer'].rolling(window=window,center=False).std()\n",
    "glen_H_data['RollingSDMicrophone'] = glen_H_data['Microphone'].rolling(window=window,center=False).std()\n",
    "glen_H_data['RollingSDAltimeter'] = glen_H_data['Altimeter (Barometer) Pressure'].rolling(window=window,center=False).std()\n",
    "# Rolling var\n",
    "glen_H_data['RollingVarAcceleration'] = glen_H_data['Acceleration'].rolling(window=window,center=False).var()\n",
    "glen_H_data['RollingVarMagnetometer'] = glen_H_data['Magnetometer'].rolling(window=window,center=False).var()\n",
    "glen_H_data['RollingVarGyrometer'] = glen_H_data['Gyrometer'].rolling(window=window,center=False).var()\n",
    "glen_H_data['RollingVarMicrophone'] = glen_H_data['Microphone'].rolling(window=window,center=False).var()\n",
    "glen_H_data['RollingVarAltimeter'] = glen_H_data['Altimeter (Barometer) Pressure'].rolling(window=window,center=False).var()"
   ]
  },
  {
   "cell_type": "code",
   "execution_count": 203,
   "metadata": {
    "collapsed": false
   },
   "outputs": [],
   "source": [
    "# set window\n",
    "window = 5\n",
    "# Rolling Means\n",
    "test['RollingMeanAcceleration'] = test['Acceleration'].rolling(window=window,center=False).mean()\n",
    "test['RollingMeanMagnetometer'] = test['Magnetometer'].rolling(window=window,center=False).mean()\n",
    "test['RollingMeanGyrometer'] = test['Gyrometer'].rolling(window=window,center=False).mean()\n",
    "test['RollingMeanMicrophone'] = test['Microphone'].rolling(window=window,center=False).mean()\n",
    "test['RollingMeanAltimeter'] = test['Altimeter (Barometer) Pressure'].rolling(window=window,center=False).mean()\n",
    "# Rolling 75th percentile\n",
    "test['Rolling75thAcceleration'] = test['Acceleration'].rolling(window=window,center=False).quantile(quantile=0.75)\n",
    "test['Rolling75thMagnetometer'] = test['Magnetometer'].rolling(window=window,center=False).quantile(quantile=0.75)\n",
    "test['Rolling75thGyrometer'] = test['Gyrometer'].rolling(window=window,center=False).quantile(quantile=0.75)\n",
    "test['Rolling75thMicrophone'] = test['Microphone'].rolling(window=window,center=False).quantile(quantile=0.75)\n",
    "test['RollingMeanAltimeter'] = test['Altimeter (Barometer) Pressure'].rolling(window=window,center=False).quantile(quantile=0.75)\n",
    "# Rolling Max\n",
    "test['RollingMaxAcceleration'] = test['Acceleration'].rolling(window=window,center=False).max()\n",
    "test['RollingMaxMagnetometer'] = test['Magnetometer'].rolling(window=window,center=False).max()\n",
    "test['RollingMaxGyrometer'] = test['Gyrometer'].rolling(window=window,center=False).max()\n",
    "test['RollingMaxMicrophone'] = test['Microphone'].rolling(window=window,center=False).max()\n",
    "test['RollingMaxAltimeter'] = test['Altimeter (Barometer) Pressure'].rolling(window=window,center=False).max()\n",
    "# Rolling Min\n",
    "test['RollingMinAcceleration'] = test['Acceleration'].rolling(window=window,center=False).min()\n",
    "test['RollingMinMagnetometer'] = test['Magnetometer'].rolling(window=window,center=False).min()\n",
    "test['RollingMinGyrometer'] = test['Gyrometer'].rolling(window=window,center=False).min()\n",
    "test['RollingMinMicrophone'] = test['Microphone'].rolling(window=window,center=False).min()\n",
    "test['RollingMinAltimeter'] = test['Altimeter (Barometer) Pressure'].rolling(window=window,center=False).min()\n",
    "# Rolling st dev\n",
    "test['RollingSDAcceleration'] = test['Acceleration'].rolling(window=window,center=False).std()\n",
    "test['RollingSDMagnetometer'] = test['Magnetometer'].rolling(window=window,center=False).std()\n",
    "test['RollingSDGyrometer'] = test['Gyrometer'].rolling(window=window,center=False).std()\n",
    "test['RollingSDMicrophone'] = test['Microphone'].rolling(window=window,center=False).std()\n",
    "test['RollingSDAltimeter'] = test['Altimeter (Barometer) Pressure'].rolling(window=window,center=False).std()\n",
    "# Rolling var\n",
    "test['RollingVarAcceleration'] = test['Acceleration'].rolling(window=window,center=False).var()\n",
    "test['RollingVarMagnetometer'] = test['Magnetometer'].rolling(window=window,center=False).var()\n",
    "test['RollingVarGyrometer'] = test['Gyrometer'].rolling(window=window,center=False).var()\n",
    "test['RollingVarMicrophone'] = test['Microphone'].rolling(window=window,center=False).var()\n",
    "test['RollingVarAltimeter'] = test['Altimeter (Barometer) Pressure'].rolling(window=window,center=False).var()"
   ]
  },
  {
   "cell_type": "code",
   "execution_count": 204,
   "metadata": {
    "collapsed": false
   },
   "outputs": [],
   "source": [
    "test = test.dropna()\n",
    "test_re = test.iloc[:,range(0,5) + range(6,35) + [5]]\n",
    "\n",
    "test_X = test_re.iloc[:, 0:33]\n",
    "test_Y = test_re.iloc[:, -1]"
   ]
  },
  {
   "cell_type": "code",
   "execution_count": 205,
   "metadata": {
    "collapsed": false,
    "deletable": true,
    "editable": true
   },
   "outputs": [],
   "source": [
    "glen_H_data = glen_H_data.dropna()\n",
    "glen_H_data_re = glen_H_data.iloc[:,range(0,5) + range(6,35) + [5]]"
   ]
  },
  {
   "cell_type": "code",
   "execution_count": 206,
   "metadata": {
    "collapsed": false,
    "deletable": true,
    "editable": true
   },
   "outputs": [],
   "source": [
    "# load dataset\n",
    "dataset = glen_H_data_re.values\n",
    "X = dataset[:,0:33]\n",
    "Y = dataset[:,-1]\n",
    "X, Y = shuffle(X, Y, random_state=123)\n",
    "# encode class values as integers\n",
    "encoder = LabelEncoder()\n",
    "encoder.fit(Y)\n",
    "encoded_Y = encoder.transform(Y)\n",
    "X_scaled = StandardScaler().fit_transform(X)\n",
    "# One Hot Encode\n",
    "#lb = LabelBinarizer()\n",
    "#lb.fit(encoded_Y)\n",
    "#dummy_y = lb.fit_transform(encoded_Y)"
   ]
  },
  {
   "cell_type": "code",
   "execution_count": 207,
   "metadata": {
    "collapsed": false
   },
   "outputs": [
    {
     "data": {
      "text/plain": [
       "classification\n",
       "D      1745\n",
       "E_D     405\n",
       "E_U     480\n",
       "S       251\n",
       "S_U      31\n",
       "T_D    1159\n",
       "T_S     749\n",
       "T_T      40\n",
       "W      1328\n",
       "dtype: int64"
      ]
     },
     "execution_count": 207,
     "metadata": {},
     "output_type": "execute_result"
    }
   ],
   "source": [
    "glen_H_data_re.groupby(\"classification\").size()"
   ]
  },
  {
   "cell_type": "code",
   "execution_count": 208,
   "metadata": {
    "collapsed": false
   },
   "outputs": [
    {
     "data": {
      "text/plain": [
       "classification\n",
       "D      150\n",
       "E_U      8\n",
       "S       37\n",
       "T_D    297\n",
       "T_E     84\n",
       "W      250\n",
       "dtype: int64"
      ]
     },
     "execution_count": 208,
     "metadata": {},
     "output_type": "execute_result"
    }
   ],
   "source": [
    "test.groupby(\"classification\").size()"
   ]
  },
  {
   "cell_type": "code",
   "execution_count": 209,
   "metadata": {
    "collapsed": true
   },
   "outputs": [],
   "source": [
    "RF_Class = RandomForestClassifier(n_estimators=1000, n_jobs=3)"
   ]
  },
  {
   "cell_type": "code",
   "execution_count": 210,
   "metadata": {
    "collapsed": false,
    "deletable": true,
    "editable": true
   },
   "outputs": [],
   "source": [
    "#x_train,x_test, y_train, y_test = train_test_split(X, encoded_Y, test_size=0.33, random_state=1)"
   ]
  },
  {
   "cell_type": "code",
   "execution_count": 211,
   "metadata": {
    "collapsed": false
   },
   "outputs": [
    {
     "data": {
      "text/plain": [
       "0.9982223658694247"
      ]
     },
     "execution_count": 211,
     "metadata": {},
     "output_type": "execute_result"
    }
   ],
   "source": [
    "RF_Class.fit(X, Y)\n",
    "RF_Class.score(X, Y)"
   ]
  },
  {
   "cell_type": "code",
   "execution_count": 212,
   "metadata": {
    "collapsed": false
   },
   "outputs": [],
   "source": [
    "test_guess = RF_Class.predict(test_X)"
   ]
  },
  {
   "cell_type": "code",
   "execution_count": 213,
   "metadata": {
    "collapsed": false
   },
   "outputs": [
    {
     "data": {
      "text/plain": [
       "0.2566585956416465"
      ]
     },
     "execution_count": 213,
     "metadata": {},
     "output_type": "execute_result"
    }
   ],
   "source": [
    "RF_Class.score(test_X, test_Y)"
   ]
  },
  {
   "cell_type": "code",
   "execution_count": null,
   "metadata": {
    "collapsed": true
   },
   "outputs": [],
   "source": []
  }
 ],
 "metadata": {
  "anaconda-cloud": {},
  "kernelspec": {
   "display_name": "Python [conda root]",
   "language": "python",
   "name": "conda-root-py"
  },
  "language_info": {
   "codemirror_mode": {
    "name": "ipython",
    "version": 2
   },
   "file_extension": ".py",
   "mimetype": "text/x-python",
   "name": "python",
   "nbconvert_exporter": "python",
   "pygments_lexer": "ipython2",
   "version": "2.7.13"
  }
 },
 "nbformat": 4,
 "nbformat_minor": 2
}
