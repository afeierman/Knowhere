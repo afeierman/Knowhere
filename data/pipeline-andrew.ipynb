{
 "cells": [
  {
   "cell_type": "code",
   "execution_count": 2,
   "metadata": {
    "collapsed": false
   },
   "outputs": [],
   "source": [
    "import csv\n",
    "import json\n",
    "import os\n",
    "import re\n",
    "from collections import defaultdict"
   ]
  },
  {
   "cell_type": "code",
   "execution_count": 13,
   "metadata": {
    "collapsed": true
   },
   "outputs": [],
   "source": [
    "path = 'iPhone/'\n",
    "json_data = []"
   ]
  },
  {
   "cell_type": "code",
   "execution_count": 14,
   "metadata": {
    "collapsed": true
   },
   "outputs": [],
   "source": [
    "def read_in_sensor_datafile(filepath, user_name = \"\"):\n",
    "    with open(filepath, \"r+\") as datafile:\n",
    "        reader = csv.reader(datafile)\n",
    "        header = next(reader)\n",
    "        for row in reader:\n",
    "            # \"Timestamp\", \"Data Source\", \"Data\", \"Display Value\", \"Raw Value\"\n",
    "            row = reduce(lambda x,y: x[:-1] + x[-1] + ';' + y if ']' in y else x + ',' + y, row)\n",
    "            row = row.split(',')\n",
    "            observation = {'device': row[1], '_user_id': user_name, 'timestamp': row[0],\n",
    "                           'data': {'name': row[2], 'raw': row[4], 'display': row[3]}}\n",
    "            json_data.append(observation)\n",
    "\n",
    "def get_all_files():\n",
    "    filelist = os.listdir(path) \n",
    "    for file in filelist:\n",
    "        fp = path + file\n",
    "        print fp\n",
    "        user_name = re.search(\"[^_]*\", file)\n",
    "        read_in_sensor_datafile(fp, user_name.group())"
   ]
  },
  {
   "cell_type": "code",
   "execution_count": 10,
   "metadata": {
    "collapsed": false
   },
   "outputs": [
    {
     "name": "stdout",
     "output_type": "stream",
     "text": [
      "iPhone/Emil_0006.csv\n",
      "iPhone/Glen_0007.csv\n",
      "iPhone/Glen_0002.csv\n",
      "iPhone/Emil_0007.csv\n",
      "iPhone/Emil_0005.csv\n",
      "iPhone/Glen_0009.csv\n",
      "iPhone/Emil_0004.csv\n",
      "iPhone/Glen_0006.csv\n",
      "iPhone/Glen_0005.csv\n",
      "iPhone/Glen_0001.csv\n",
      "iPhone/Glen_0003.csv\n",
      "iPhone/Glen_0004.csv\n",
      "iPhone/Emil_0003.csv\n",
      "iPhone/Emil_0001.csv\n",
      "iPhone/Emil_0002.csv\n",
      "iPhone/Glen_0008.csv\n",
      "iPhone/Emil_0008.csv\n"
     ]
    }
   ],
   "source": [
    "get_all_files()        \n",
    "iphoneFull = pd.io.json.json_normalize(json_data).set_index('timestamp')\n",
    "iphoneFull.index = pd.to_datetime(iphoneFull.index)\n",
    "json_dataFull = json.dumps(json_data)"
   ]
  },
  {
   "cell_type": "code",
   "execution_count": 11,
   "metadata": {
    "collapsed": false
   },
   "outputs": [
    {
     "name": "stdout",
     "output_type": "stream",
     "text": [
      "149583\n"
     ]
    }
   ],
   "source": [
    "print len(iphoneFull)"
   ]
  },
  {
   "cell_type": "code",
   "execution_count": 12,
   "metadata": {
    "collapsed": false
   },
   "outputs": [],
   "source": [
    "iphoneFull.to_csv(\"aggregated_sensor.csv\")\n",
    "#iphoneFull.to_json(\"aggregated_json.json\")"
   ]
  },
  {
   "cell_type": "code",
   "execution_count": null,
   "metadata": {
    "collapsed": true
   },
   "outputs": [],
   "source": []
  }
 ],
 "metadata": {
  "anaconda-cloud": {},
  "kernelspec": {
   "display_name": "Python [default]",
   "language": "python",
   "name": "python2"
  },
  "language_info": {
   "codemirror_mode": {
    "name": "ipython",
    "version": 2
   },
   "file_extension": ".py",
   "mimetype": "text/x-python",
   "name": "python",
   "nbconvert_exporter": "python",
   "pygments_lexer": "ipython2",
   "version": "2.7.13"
  }
 },
 "nbformat": 4,
 "nbformat_minor": 2
}
